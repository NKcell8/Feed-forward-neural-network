{
  "nbformat": 4,
  "nbformat_minor": 0,
  "metadata": {
    "colab": {
      "provenance": []
    },
    "kernelspec": {
      "name": "python3",
      "display_name": "Python 3"
    },
    "language_info": {
      "name": "python"
    }
  },
  "cells": [
    {
      "cell_type": "markdown",
      "source": [
        "Statlog (Heart) Data Set\n",
        "\n",
        "\n",
        "W zbiorze danych można znaleźć następujące informacje, które posłużą do przewidzenia czy u osoby o danym zestawie atrybutów występuje choroba serca czy nie.\n",
        "\n",
        "Atrybuty:\n",
        "\n",
        "- wiek\n",
        "- płeć\n",
        "- typ bólu w klatce piersiowej (4 wartości)\n",
        "- ciśnienie krwi w spoczynku\n",
        "- cholesterol w surowicy krwi [mg/dl]\n",
        "- cukier w krwi naczczo > 120 [mg/dl]\n",
        "- wynik elektrokardiograficzny w spoczynku (wartości 0,1,2)\n",
        "- osiągnięta maksymalna częstość akcji serca\n",
        "- dławica piersiowa indukowana wysiłkiem\n",
        "- oldpeak = obniżenie odcinka ST wywołane wysiłkiem fizycznym w stosunku do spoczynku\n",
        "- szczytowe nachylenie odcinka ST w czasie wysiłku fizycznego\n",
        "- liczba głównych naczyń (0-3) pokolorowanych przez fluoroskopię\n",
        "- hemoglobina(poziom) thal: 3 = normalny; 6 = utrwalony ubytek; 7 = odwracalny ubytek\n",
        "\n",
        "Dysponuje:\n",
        "\n",
        "- 270 rekordami\n",
        "- 2 klasy danych (choroba lub jej brak)\n",
        "- 13 atrybutów\n",
        "- z klasy brak choroby mamy 150 przypadków, a klasy choroba 120"
      ],
      "metadata": {
        "id": "Y65eQk_d9vOE"
      }
    },
    {
      "cell_type": "markdown",
      "source": [
        "# Sieć FFNN\n",
        "\n",
        "-----------------"
      ],
      "metadata": {
        "id": "vaUqFNbVZILJ"
      }
    },
    {
      "cell_type": "markdown",
      "source": [
        "## Przygotowywanie danych"
      ],
      "metadata": {
        "id": "CWJhu9MtY2n6"
      }
    },
    {
      "cell_type": "markdown",
      "source": [
        "### Importowanie\n",
        "\n",
        "Poniżej zainportowano niezbędne w dalszej pracy biblioteki. Oraz wczytano zbiór danych w formie DataFrame. Nastepnie wypisano zbiór danych oraz sprawdzono, czy nie ma brakujących wartości. Z otrzymanych danych wynika, że zbiór jest pełny. \n"
      ],
      "metadata": {
        "id": "Z9VAPtyaIadw"
      }
    },
    {
      "cell_type": "code",
      "source": [
        "\n",
        "import pandas as pd #załadowanie danych i ich obróbka  \n",
        "import seaborn as sns #wizualizacja \n",
        "import matplotlib.pyplot as plt #wizualizacja\n",
        "import numpy as np # algebra\n",
        "from sklearn.preprocessing import normalize # ML algorytmy \n",
        "from sklearn.metrics import roc_curve, roc_auc_score, classification_report # Krzywa roc, auc, raport o klasyfikacji\n",
        "\n",
        "\n",
        "df = pd.read_csv('heart.data', delimiter = ' ' ,index_col=False)\n",
        "print(df.info())\n",
        "\n"
      ],
      "metadata": {
        "colab": {
          "base_uri": "https://localhost:8080/"
        },
        "id": "JIt6F9OPCzLm",
        "outputId": "16959209-9cb9-4c80-d1f4-7839e3a74a99"
      },
      "execution_count": 2,
      "outputs": [
        {
          "output_type": "stream",
          "name": "stdout",
          "text": [
            "<class 'pandas.core.frame.DataFrame'>\n",
            "RangeIndex: 270 entries, 0 to 269\n",
            "Data columns (total 14 columns):\n",
            " #   Column                                     Non-Null Count  Dtype  \n",
            "---  ------                                     --------------  -----  \n",
            " 0   age                                        270 non-null    float64\n",
            " 1   sex                                        270 non-null    float64\n",
            " 2   chest_pain_type                            270 non-null    float64\n",
            " 3   resting_blood_pressure                     270 non-null    float64\n",
            " 4   serum_cholestoral_in_mg/dl                 270 non-null    float64\n",
            " 5   fasting_blood_sugar_>_120_mg/dl            270 non-null    float64\n",
            " 6   resting_electrocardiographic_results       270 non-null    float64\n",
            " 7   maximum_heart_rate_achieved                270 non-null    float64\n",
            " 8   exercise_induced_angina                    270 non-null    float64\n",
            " 9   oldpeak                                    270 non-null    float64\n",
            " 10  the_slope_of_the_peak_exercise_ST_segment  270 non-null    float64\n",
            " 11  number_of_major_vessels                    270 non-null    float64\n",
            " 12  thal                                       270 non-null    float64\n",
            " 13  absence_(1)_or_presence_(2)_heart_disease  270 non-null    int64  \n",
            "dtypes: float64(13), int64(1)\n",
            "memory usage: 29.7 KB\n",
            "None\n"
          ]
        }
      ]
    },
    {
      "cell_type": "markdown",
      "source": [
        "### Wizualizacja wybranych atrybutów zbioru\n",
        "\n",
        "Poniżej znajduje się wykres heatmap, który pokazuje korelacje pomiędzy istniejącymi kolumnami. Im jaśniejszy kolor tym bardziej są skorelowane ze sobą dane atrybuty. "
      ],
      "metadata": {
        "id": "iMs6XJKdWULP"
      }
    },
    {
      "cell_type": "code",
      "source": [
        "\n",
        "sns.heatmap(df.corr())\n"
      ],
      "metadata": {
        "colab": {
          "base_uri": "https://localhost:8080/",
          "height": 502
        },
        "id": "-sgEHkEoVBJL",
        "outputId": "276a12aa-af72-4d12-ef61-f81721a77750"
      },
      "execution_count": 3,
      "outputs": [
        {
          "output_type": "execute_result",
          "data": {
            "text/plain": [
              "<AxesSubplot:>"
            ]
          },
          "metadata": {},
          "execution_count": 3
        },
        {
          "output_type": "display_data",
          "data": {
            "text/plain": [
              "<Figure size 432x288 with 2 Axes>"
            ],
            "image/png": "[encoded data removed]"
          },
          "metadata": {
            "needs_background": "light"
          }
        }
      ]
    },
    {
      "cell_type": "markdown",
      "source": [
        "### Przygotowanie wektora wejściowego i wyjściowego dla sieci\n",
        "\n",
        "Najpierw wybrano odpowiednie kolumny ze zbioru danych, tak aby otrzymać dane wejściowe i wyjściowe.\n",
        "\n",
        "Następnie zamieniono kolumne z wiekiem na kategorie, ponieważ po zakodowaniu wartości z niej na właściwej liczbie bitów można je podać sieci tak aby zostały adekwatnie zinterpretowane.\n",
        "\n",
        "Dalej wszystkie dane kategoryczne zostały zakodowane na odpowiedniej liczbie bitów.\n",
        "\n",
        "Ostatecznie zbiór danych został przeskalowany do wartości z zakresu od 0 do 1, ponieważ algorytm działający podczas treningu sieci taki jak, gradient descent, lepiej sobie radzi z danymi które są w podobnej skali."
      ],
      "metadata": {
        "id": "X-aPrEbh68ee"
      }
    },
    {
      "cell_type": "code",
      "source": [
        "from sklearn.preprocessing import MinMaxScaler\n",
        "\n",
        "# Wybranie odpowiednich kolumn\n",
        "X = df.iloc[:,:-1]\n",
        "y = df.iloc[:,-1].values\n",
        "\n",
        "# Zamiana kolumny wiek na klasy\n",
        "# 21-40 lat -> 0\n",
        "# 41-60 lat -> 1\n",
        "# 61-90 lat -> 2\n",
        "\n",
        "bins = [20,40,60,90]\n",
        "labels = [0,1,2]\n",
        "X['age'] = pd.cut(X.age,bins,labels=labels)\n",
        "\n",
        "# Zakodowanie danych kategoryczny\n",
        "X = pd.get_dummies(data=X, columns=[\"age\",\"sex\", \"chest_pain_type\", \"fasting_blood_sugar_>_120_mg/dl\", \"resting_electrocardiographic_results\", \"exercise_induced_angina\", \"the_slope_of_the_peak_exercise_ST_segment\", \"number_of_major_vessels\", \"thal\"])\n",
        "\n",
        "# Skalowanie danych\n",
        "data = X.select_dtypes(np.number)\n",
        "X[data.columns] = MinMaxScaler().fit_transform(data)\n",
        "X\n"
      ],
      "metadata": {
        "colab": {
          "base_uri": "https://localhost:8080/",
          "height": 487
        },
        "id": "i50vpfLR7g4N",
        "outputId": "1b88a640-966f-452a-8ff2-0350bf453c5f"
      },
      "execution_count": 4,
      "outputs": [
        {
          "output_type": "execute_result",
          "data": {
            "text/plain": [
              "     resting_blood_pressure  serum_cholestoral_in_mg/dl  \\\n",
              "0                  0.339623                    0.447489   \n",
              "1                  0.198113                    1.000000   \n",
              "2                  0.283019                    0.308219   \n",
              "3                  0.320755                    0.312785   \n",
              "4                  0.245283                    0.326484   \n",
              "..                      ...                         ...   \n",
              "265                0.735849                    0.166667   \n",
              "266                0.245283                    0.312785   \n",
              "267                0.433962                    0.383562   \n",
              "268                0.433962                    0.150685   \n",
              "269                0.622642                    0.365297   \n",
              "\n",
              "     maximum_heart_rate_achieved   oldpeak  age_0  age_1  age_2  sex_0.0  \\\n",
              "0                       0.290076  0.387097    0.0    0.0    1.0      0.0   \n",
              "1                       0.679389  0.258065    0.0    0.0    1.0      1.0   \n",
              "2                       0.534351  0.048387    0.0    1.0    0.0      0.0   \n",
              "3                       0.259542  0.032258    0.0    0.0    1.0      0.0   \n",
              "4                       0.381679  0.032258    0.0    0.0    1.0      1.0   \n",
              "..                           ...       ...    ...    ...    ...      ...   \n",
              "265                     0.694656  0.080645    0.0    1.0    0.0      0.0   \n",
              "266                     0.778626  0.000000    0.0    1.0    0.0      0.0   \n",
              "267                     0.625954  0.209677    0.0    1.0    0.0      1.0   \n",
              "268                     0.587786  0.064516    0.0    1.0    0.0      0.0   \n",
              "269                     0.282443  0.241935    0.0    0.0    1.0      0.0   \n",
              "\n",
              "     sex_1.0  chest_pain_type_1.0  ...  \\\n",
              "0        1.0                  0.0  ...   \n",
              "1        0.0                  0.0  ...   \n",
              "2        1.0                  0.0  ...   \n",
              "3        1.0                  0.0  ...   \n",
              "4        0.0                  0.0  ...   \n",
              "..       ...                  ...  ...   \n",
              "265      1.0                  0.0  ...   \n",
              "266      1.0                  0.0  ...   \n",
              "267      0.0                  0.0  ...   \n",
              "268      1.0                  0.0  ...   \n",
              "269      1.0                  0.0  ...   \n",
              "\n",
              "     the_slope_of_the_peak_exercise_ST_segment_1.0  \\\n",
              "0                                              0.0   \n",
              "1                                              0.0   \n",
              "2                                              1.0   \n",
              "3                                              0.0   \n",
              "4                                              1.0   \n",
              "..                                             ...   \n",
              "265                                            1.0   \n",
              "266                                            1.0   \n",
              "267                                            0.0   \n",
              "268                                            0.0   \n",
              "269                                            0.0   \n",
              "\n",
              "     the_slope_of_the_peak_exercise_ST_segment_2.0  \\\n",
              "0                                              1.0   \n",
              "1                                              1.0   \n",
              "2                                              0.0   \n",
              "3                                              1.0   \n",
              "4                                              0.0   \n",
              "..                                             ...   \n",
              "265                                            0.0   \n",
              "266                                            0.0   \n",
              "267                                            1.0   \n",
              "268                                            1.0   \n",
              "269                                            1.0   \n",
              "\n",
              "     the_slope_of_the_peak_exercise_ST_segment_3.0  \\\n",
              "0                                              0.0   \n",
              "1                                              0.0   \n",
              "2                                              0.0   \n",
              "3                                              0.0   \n",
              "4                                              0.0   \n",
              "..                                             ...   \n",
              "265                                            0.0   \n",
              "266                                            0.0   \n",
              "267                                            0.0   \n",
              "268                                            0.0   \n",
              "269                                            0.0   \n",
              "\n",
              "     number_of_major_vessels_0.0  number_of_major_vessels_1.0  \\\n",
              "0                            0.0                          0.0   \n",
              "1                            1.0                          0.0   \n",
              "2                            1.0                          0.0   \n",
              "3                            0.0                          1.0   \n",
              "4                            0.0                          1.0   \n",
              "..                           ...                          ...   \n",
              "265                          1.0                          0.0   \n",
              "266                          1.0                          0.0   \n",
              "267                          1.0                          0.0   \n",
              "268                          1.0                          0.0   \n",
              "269                          0.0                          0.0   \n",
              "\n",
              "     number_of_major_vessels_2.0  number_of_major_vessels_3.0  thal_3.0  \\\n",
              "0                            0.0                          1.0       1.0   \n",
              "1                            0.0                          0.0       0.0   \n",
              "2                            0.0                          0.0       0.0   \n",
              "3                            0.0                          0.0       0.0   \n",
              "4                            0.0                          0.0       1.0   \n",
              "..                           ...                          ...       ...   \n",
              "265                          0.0                          0.0       0.0   \n",
              "266                          0.0                          0.0       0.0   \n",
              "267                          0.0                          0.0       1.0   \n",
              "268                          0.0                          0.0       0.0   \n",
              "269                          0.0                          1.0       1.0   \n",
              "\n",
              "     thal_6.0  thal_7.0  \n",
              "0         0.0       0.0  \n",
              "1         0.0       1.0  \n",
              "2         0.0       1.0  \n",
              "3         0.0       1.0  \n",
              "4         0.0       0.0  \n",
              "..        ...       ...  \n",
              "265       0.0       1.0  \n",
              "266       0.0       1.0  \n",
              "267       0.0       0.0  \n",
              "268       1.0       0.0  \n",
              "269       0.0       0.0  \n",
              "\n",
              "[270 rows x 30 columns]"
            ],
            "text/html": [
              "\n",
              "  <div id=\"df-5aebdf5b-00ae-428c-86fd-67b345bb152e\">\n",
              "    <div class=\"colab-df-container\">\n",
              "      <div>\n",
              "<style scoped>\n",
              "    .dataframe tbody tr th:only-of-type {\n",
              "        vertical-align: middle;\n",
              "    }\n",
              "\n",
              "    .dataframe tbody tr th {\n",
              "        vertical-align: top;\n",
              "    }\n",
              "\n",
              "    .dataframe thead th {\n",
              "        text-align: right;\n",
              "    }\n",
              "</style>\n",
              "<table border=\"1\" class=\"dataframe\">\n",
              "  <thead>\n",
              "    <tr style=\"text-align: right;\">\n",
              "      <th></th>\n",
              "      <th>resting_blood_pressure</th>\n",
              "      <th>serum_cholestoral_in_mg/dl</th>\n",
              "      <th>maximum_heart_rate_achieved</th>\n",
              "      <th>oldpeak</th>\n",
              "      <th>age_0</th>\n",
              "      <th>age_1</th>\n",
              "      <th>age_2</th>\n",
              "      <th>sex_0.0</th>\n",
              "      <th>sex_1.0</th>\n",
              "      <th>chest_pain_type_1.0</th>\n",
              "      <th>...</th>\n",
              "      <th>the_slope_of_the_peak_exercise_ST_segment_1.0</th>\n",
              "      <th>the_slope_of_the_peak_exercise_ST_segment_2.0</th>\n",
              "      <th>the_slope_of_the_peak_exercise_ST_segment_3.0</th>\n",
              "      <th>number_of_major_vessels_0.0</th>\n",
              "      <th>number_of_major_vessels_1.0</th>\n",
              "      <th>number_of_major_vessels_2.0</th>\n",
              "      <th>number_of_major_vessels_3.0</th>\n",
              "      <th>thal_3.0</th>\n",
              "      <th>thal_6.0</th>\n",
              "      <th>thal_7.0</th>\n",
              "    </tr>\n",
              "  </thead>\n",
              "  <tbody>\n",
              "    <tr>\n",
              "      <th>0</th>\n",
              "      <td>0.339623</td>\n",
              "      <td>0.447489</td>\n",
              "      <td>0.290076</td>\n",
              "      <td>0.387097</td>\n",
              "      <td>0.0</td>\n",
              "      <td>0.0</td>\n",
              "      <td>1.0</td>\n",
              "      <td>0.0</td>\n",
              "      <td>1.0</td>\n",
              "      <td>0.0</td>\n",
              "      <td>...</td>\n",
              "      <td>0.0</td>\n",
              "      <td>1.0</td>\n",
              "      <td>0.0</td>\n",
              "      <td>0.0</td>\n",
              "      <td>0.0</td>\n",
              "      <td>0.0</td>\n",
              "      <td>1.0</td>\n",
              "      <td>1.0</td>\n",
              "      <td>0.0</td>\n",
              "      <td>0.0</td>\n",
              "    </tr>\n",
              "    <tr>\n",
              "      <th>1</th>\n",
              "      <td>0.198113</td>\n",
              "      <td>1.000000</td>\n",
              "      <td>0.679389</td>\n",
              "      <td>0.258065</td>\n",
              "      <td>0.0</td>\n",
              "      <td>0.0</td>\n",
              "      <td>1.0</td>\n",
              "      <td>1.0</td>\n",
              "      <td>0.0</td>\n",
              "      <td>0.0</td>\n",
              "      <td>...</td>\n",
              "      <td>0.0</td>\n",
              "      <td>1.0</td>\n",
              "      <td>0.0</td>\n",
              "      <td>1.0</td>\n",
              "      <td>0.0</td>\n",
              "      <td>0.0</td>\n",
              "      <td>0.0</td>\n",
              "      <td>0.0</td>\n",
              "      <td>0.0</td>\n",
              "      <td>1.0</td>\n",
              "    </tr>\n",
              "    <tr>\n",
              "      <th>2</th>\n",
              "      <td>0.283019</td>\n",
              "      <td>0.308219</td>\n",
              "      <td>0.534351</td>\n",
              "      <td>0.048387</td>\n",
              "      <td>0.0</td>\n",
              "      <td>1.0</td>\n",
              "      <td>0.0</td>\n",
              "      <td>0.0</td>\n",
              "      <td>1.0</td>\n",
              "      <td>0.0</td>\n",
              "      <td>...</td>\n",
              "      <td>1.0</td>\n",
              "      <td>0.0</td>\n",
              "      <td>0.0</td>\n",
              "      <td>1.0</td>\n",
              "      <td>0.0</td>\n",
              "      <td>0.0</td>\n",
              "      <td>0.0</td>\n",
              "      <td>0.0</td>\n",
              "      <td>0.0</td>\n",
              "      <td>1.0</td>\n",
              "    </tr>\n",
              "    <tr>\n",
              "      <th>3</th>\n",
              "      <td>0.320755</td>\n",
              "      <td>0.312785</td>\n",
              "      <td>0.259542</td>\n",
              "      <td>0.032258</td>\n",
              "      <td>0.0</td>\n",
              "      <td>0.0</td>\n",
              "      <td>1.0</td>\n",
              "      <td>0.0</td>\n",
              "      <td>1.0</td>\n",
              "      <td>0.0</td>\n",
              "      <td>...</td>\n",
              "      <td>0.0</td>\n",
              "      <td>1.0</td>\n",
              "      <td>0.0</td>\n",
              "      <td>0.0</td>\n",
              "      <td>1.0</td>\n",
              "      <td>0.0</td>\n",
              "      <td>0.0</td>\n",
              "      <td>0.0</td>\n",
              "      <td>0.0</td>\n",
              "      <td>1.0</td>\n",
              "    </tr>\n",
              "    <tr>\n",
              "      <th>4</th>\n",
              "      <td>0.245283</td>\n",
              "      <td>0.326484</td>\n",
              "      <td>0.381679</td>\n",
              "      <td>0.032258</td>\n",
              "      <td>0.0</td>\n",
              "      <td>0.0</td>\n",
              "      <td>1.0</td>\n",
              "      <td>1.0</td>\n",
              "      <td>0.0</td>\n",
              "      <td>0.0</td>\n",
              "      <td>...</td>\n",
              "      <td>1.0</td>\n",
              "      <td>0.0</td>\n",
              "      <td>0.0</td>\n",
              "      <td>0.0</td>\n",
              "      <td>1.0</td>\n",
              "      <td>0.0</td>\n",
              "      <td>0.0</td>\n",
              "      <td>1.0</td>\n",
              "      <td>0.0</td>\n",
              "      <td>0.0</td>\n",
              "    </tr>\n",
              "    <tr>\n",
              "      <th>...</th>\n",
              "      <td>...</td>\n",
              "      <td>...</td>\n",
              "      <td>...</td>\n",
              "      <td>...</td>\n",
              "      <td>...</td>\n",
              "      <td>...</td>\n",
              "      <td>...</td>\n",
              "      <td>...</td>\n",
              "      <td>...</td>\n",
              "      <td>...</td>\n",
              "      <td>...</td>\n",
              "      <td>...</td>\n",
              "      <td>...</td>\n",
              "      <td>...</td>\n",
              "      <td>...</td>\n",
              "      <td>...</td>\n",
              "      <td>...</td>\n",
              "      <td>...</td>\n",
              "      <td>...</td>\n",
              "      <td>...</td>\n",
              "      <td>...</td>\n",
              "    </tr>\n",
              "    <tr>\n",
              "      <th>265</th>\n",
              "      <td>0.735849</td>\n",
              "      <td>0.166667</td>\n",
              "      <td>0.694656</td>\n",
              "      <td>0.080645</td>\n",
              "      <td>0.0</td>\n",
              "      <td>1.0</td>\n",
              "      <td>0.0</td>\n",
              "      <td>0.0</td>\n",
              "      <td>1.0</td>\n",
              "      <td>0.0</td>\n",
              "      <td>...</td>\n",
              "      <td>1.0</td>\n",
              "      <td>0.0</td>\n",
              "      <td>0.0</td>\n",
              "      <td>1.0</td>\n",
              "      <td>0.0</td>\n",
              "      <td>0.0</td>\n",
              "      <td>0.0</td>\n",
              "      <td>0.0</td>\n",
              "      <td>0.0</td>\n",
              "      <td>1.0</td>\n",
              "    </tr>\n",
              "    <tr>\n",
              "      <th>266</th>\n",
              "      <td>0.245283</td>\n",
              "      <td>0.312785</td>\n",
              "      <td>0.778626</td>\n",
              "      <td>0.000000</td>\n",
              "      <td>0.0</td>\n",
              "      <td>1.0</td>\n",
              "      <td>0.0</td>\n",
              "      <td>0.0</td>\n",
              "      <td>1.0</td>\n",
              "      <td>0.0</td>\n",
              "      <td>...</td>\n",
              "      <td>1.0</td>\n",
              "      <td>0.0</td>\n",
              "      <td>0.0</td>\n",
              "      <td>1.0</td>\n",
              "      <td>0.0</td>\n",
              "      <td>0.0</td>\n",
              "      <td>0.0</td>\n",
              "      <td>0.0</td>\n",
              "      <td>0.0</td>\n",
              "      <td>1.0</td>\n",
              "    </tr>\n",
              "    <tr>\n",
              "      <th>267</th>\n",
              "      <td>0.433962</td>\n",
              "      <td>0.383562</td>\n",
              "      <td>0.625954</td>\n",
              "      <td>0.209677</td>\n",
              "      <td>0.0</td>\n",
              "      <td>1.0</td>\n",
              "      <td>0.0</td>\n",
              "      <td>1.0</td>\n",
              "      <td>0.0</td>\n",
              "      <td>0.0</td>\n",
              "      <td>...</td>\n",
              "      <td>0.0</td>\n",
              "      <td>1.0</td>\n",
              "      <td>0.0</td>\n",
              "      <td>1.0</td>\n",
              "      <td>0.0</td>\n",
              "      <td>0.0</td>\n",
              "      <td>0.0</td>\n",
              "      <td>1.0</td>\n",
              "      <td>0.0</td>\n",
              "      <td>0.0</td>\n",
              "    </tr>\n",
              "    <tr>\n",
              "      <th>268</th>\n",
              "      <td>0.433962</td>\n",
              "      <td>0.150685</td>\n",
              "      <td>0.587786</td>\n",
              "      <td>0.064516</td>\n",
              "      <td>0.0</td>\n",
              "      <td>1.0</td>\n",
              "      <td>0.0</td>\n",
              "      <td>0.0</td>\n",
              "      <td>1.0</td>\n",
              "      <td>0.0</td>\n",
              "      <td>...</td>\n",
              "      <td>0.0</td>\n",
              "      <td>1.0</td>\n",
              "      <td>0.0</td>\n",
              "      <td>1.0</td>\n",
              "      <td>0.0</td>\n",
              "      <td>0.0</td>\n",
              "      <td>0.0</td>\n",
              "      <td>0.0</td>\n",
              "      <td>1.0</td>\n",
              "      <td>0.0</td>\n",
              "    </tr>\n",
              "    <tr>\n",
              "      <th>269</th>\n",
              "      <td>0.622642</td>\n",
              "      <td>0.365297</td>\n",
              "      <td>0.282443</td>\n",
              "      <td>0.241935</td>\n",
              "      <td>0.0</td>\n",
              "      <td>0.0</td>\n",
              "      <td>1.0</td>\n",
              "      <td>0.0</td>\n",
              "      <td>1.0</td>\n",
              "      <td>0.0</td>\n",
              "      <td>...</td>\n",
              "      <td>0.0</td>\n",
              "      <td>1.0</td>\n",
              "      <td>0.0</td>\n",
              "      <td>0.0</td>\n",
              "      <td>0.0</td>\n",
              "      <td>0.0</td>\n",
              "      <td>1.0</td>\n",
              "      <td>1.0</td>\n",
              "      <td>0.0</td>\n",
              "      <td>0.0</td>\n",
              "    </tr>\n",
              "  </tbody>\n",
              "</table>\n",
              "<p>270 rows × 30 columns</p>\n",
              "</div>\n",
              "      <button class=\"colab-df-convert\" onclick=\"convertToInteractive('df-5aebdf5b-00ae-428c-86fd-67b345bb152e')\"\n",
              "              title=\"Convert this dataframe to an interactive table.\"\n",
              "              style=\"display:none;\">\n",
              "        \n",
              "  <svg xmlns=\"http://www.w3.org/2000/svg\" height=\"24px\"viewBox=\"0 0 24 24\"\n",
              "       width=\"24px\">\n",
              "    <path d=\"M0 0h24v24H0V0z\" fill=\"none\"/>\n",
              "    <path d=\"M18.56 5.44l.94 2.06.94-2.06 2.06-.94-2.06-.94-.94-2.06-.94 2.06-2.06.94zm-11 1L8.5 8.5l.94-2.06 2.06-.94-2.06-.94L8.5 2.5l-.94 2.06-2.06.94zm10 10l.94 2.06.94-2.06 2.06-.94-2.06-.94-.94-2.06-.94 2.06-2.06.94z\"/><path d=\"M17.41 7.96l-1.37-1.37c-.4-.4-.92-.59-1.43-.59-.52 0-1.04.2-1.43.59L10.3 9.45l-7.72 7.72c-.78.78-.78 2.05 0 2.83L4 21.41c.39.39.9.59 1.41.59.51 0 1.02-.2 1.41-.59l7.78-7.78 2.81-2.81c.8-.78.8-2.07 0-2.86zM5.41 20L4 18.59l7.72-7.72 1.47 1.35L5.41 20z\"/>\n",
              "  </svg>\n",
              "      </button>\n",
              "      \n",
              "  <style>\n",
              "    .colab-df-container {\n",
              "      display:flex;\n",
              "      flex-wrap:wrap;\n",
              "      gap: 12px;\n",
              "    }\n",
              "\n",
              "    .colab-df-convert {\n",
              "      background-color: #E8F0FE;\n",
              "      border: none;\n",
              "      border-radius: 50%;\n",
              "      cursor: pointer;\n",
              "      display: none;\n",
              "      fill: #1967D2;\n",
              "      height: 32px;\n",
              "      padding: 0 0 0 0;\n",
              "      width: 32px;\n",
              "    }\n",
              "\n",
              "    .colab-df-convert:hover {\n",
              "      background-color: #E2EBFA;\n",
              "      box-shadow: 0px 1px 2px rgba(60, 64, 67, 0.3), 0px 1px 3px 1px rgba(60, 64, 67, 0.15);\n",
              "      fill: #174EA6;\n",
              "    }\n",
              "\n",
              "    [theme=dark] .colab-df-convert {\n",
              "      background-color: #3B4455;\n",
              "      fill: #D2E3FC;\n",
              "    }\n",
              "\n",
              "    [theme=dark] .colab-df-convert:hover {\n",
              "      background-color: #434B5C;\n",
              "      box-shadow: 0px 1px 3px 1px rgba(0, 0, 0, 0.15);\n",
              "      filter: drop-shadow(0px 1px 2px rgba(0, 0, 0, 0.3));\n",
              "      fill: #FFFFFF;\n",
              "    }\n",
              "  </style>\n",
              "\n",
              "      <script>\n",
              "        const buttonEl =\n",
              "          document.querySelector('#df-5aebdf5b-00ae-428c-86fd-67b345bb152e button.colab-df-convert');\n",
              "        buttonEl.style.display =\n",
              "          google.colab.kernel.accessAllowed ? 'block' : 'none';\n",
              "\n",
              "        async function convertToInteractive(key) {\n",
              "          const element = document.querySelector('#df-5aebdf5b-00ae-428c-86fd-67b345bb152e');\n",
              "          const dataTable =\n",
              "            await google.colab.kernel.invokeFunction('convertToInteractive',\n",
              "                                                     [key], {});\n",
              "          if (!dataTable) return;\n",
              "\n",
              "          const docLinkHtml = 'Like what you see? Visit the ' +\n",
              "            '<a target=\"_blank\" href=https://colab.research.google.com/notebooks/data_table.ipynb>data table notebook</a>'\n",
              "            + ' to learn more about interactive tables.';\n",
              "          element.innerHTML = '';\n",
              "          dataTable['output_type'] = 'display_data';\n",
              "          await google.colab.output.renderOutput(dataTable, element);\n",
              "          const docLink = document.createElement('div');\n",
              "          docLink.innerHTML = docLinkHtml;\n",
              "          element.appendChild(docLink);\n",
              "        }\n",
              "      </script>\n",
              "    </div>\n",
              "  </div>\n",
              "  "
            ]
          },
          "metadata": {},
          "execution_count": 4
        }
      ]
    },
    {
      "cell_type": "markdown",
      "source": [
        "### Podział zbioru na zbiór treningowy, testowy i walidacyjny.\n",
        "\n",
        "\n",
        "Poniżej dokonano podziału danych na zbiór treningowy, testowy oraz walidacyjny. Zbiór treningowy to 60% danych, pozostałe 40% to zbiór tymczasowy, który zostanie podzielony po równo na zbiór testowy i walidacyjny.\n",
        "Dzięki random_state podział będzie zawsze taki sam, czyli zawsze te same próbki danych będą w poszczególnych zbiorach.\n",
        "\n",
        "Następnie dla każdej z klas (1 lub 2) tworzę ich reprezentacje jako wektory, które będą podawane jako wynik sieci neuronowej."
      ],
      "metadata": {
        "id": "-rqDxiVKduMp"
      }
    },
    {
      "cell_type": "code",
      "source": [
        "from sklearn.model_selection import train_test_split\n",
        "from sklearn.preprocessing import normalize\n",
        "from keras.utils import np_utils\n",
        "\n",
        "# Podział zbioru na podzbiory\n",
        "X_train, X_temp, y_train, y_temp = train_test_split(X,y,train_size=0.60,random_state=1)\n",
        "X_test, X_valid, y_test, y_valid = train_test_split(X_temp,y_temp,train_size=0.50,random_state=1)\n",
        "\n",
        "# Zamiana klas całkowitych na klasy w formacie binarnym\n",
        "y_train=np_utils.to_categorical(y_train-1,num_classes=2)\n",
        "y_test=np_utils.to_categorical(y_test-1,num_classes=2)\n",
        "y_valid=np_utils.to_categorical(y_valid-1,num_classes=2)\n",
        "print(X_train.shape)\n",
        "print(X_test.shape)\n",
        "print(X_valid.shape)\n",
        "print(y_train.shape)\n",
        "print(y_test.shape)\n",
        "print(y_valid.shape)\n",
        "\n",
        "\n",
        "\"\"\"\n",
        "[1] -> [0] -> [1 0] # Osoba zdrowa\n",
        "[2] -> [1] -> [0 1] # Osoba chora\n",
        "\"\"\""
      ],
      "metadata": {
        "colab": {
          "base_uri": "https://localhost:8080/",
          "height": 139
        },
        "id": "mAKRUj_c4Sfp",
        "outputId": "86e07892-2edc-43cb-8f6c-003bb5a97903"
      },
      "execution_count": 5,
      "outputs": [
        {
          "output_type": "stream",
          "name": "stdout",
          "text": [
            "(162, 30)\n",
            "(54, 30)\n",
            "(54, 30)\n",
            "(162, 2)\n",
            "(54, 2)\n",
            "(54, 2)\n"
          ]
        },
        {
          "output_type": "execute_result",
          "data": {
            "text/plain": [
              "'\\n[1] -> [0] -> [1 0] # Osoba zdrowa\\n[2] -> [1] -> [0 1] # Osoba chora\\n'"
            ],
            "application/vnd.google.colaboratory.intrinsic+json": {
              "type": "string"
            }
          },
          "metadata": {},
          "execution_count": 5
        }
      ]
    },
    {
      "cell_type": "markdown",
      "source": [
        "## Struktura sieci - Model 0\n",
        "\n"
      ],
      "metadata": {
        "id": "0CHy1jwZPzpL"
      }
    },
    {
      "cell_type": "markdown",
      "source": [
        "### Budowanie sieci neuronowej\n",
        "\n",
        "\n",
        "\n",
        "Struktura sieci:\n",
        "\n",
        "*   Warstwa wejściowa:\n",
        "    - 30 neuronów, ponieważ tyle mam elementów w wektorze wejściowym\n",
        "*   I warstwa ukryta:\n",
        "    - 61 neuronów - ich liczba została wybrana według wzoru 2n+1, gdzie n to liczba wejść\n",
        "    - funkcja aktywacji to relu, ponieważ jest wybierana domyślnie oraz zakres wartości jaki przyjmuje odpowiada oczekiwaniom \n",
        "\n",
        "*   Warstwa wyjściowa:\n",
        "    - 2 neurony, ponieważ mam dwie klasy wyników, które można zakodować używając 2 wyjść\n",
        "    - funkcja aktywacji to sigmoid, ponieważ oczekuje wartości z przedziału (0,1) co pozwoli mi później przekonwertować to na wektory binarne\n",
        "\n",
        "\n",
        "Po zbudowaniu sieci dodaje ochronę przed przetrenowaniem sieci, która polega na na wyłączeniu w trakcie treningu określonej ilości neuronów danej warstwy np 20%.\n",
        "\n",
        "Następnie kompiluje uzyskany model z funkcją straty binary_crossentropy, ponieważ jest ona odpowiednia do problemów klasyfikacji binarnej, czyli takiego jaki rozwiązuje. Mój problem posiada 2 klasy wyników, czyli odpowiadam na pytanie czy ktoś ma chorobe serca, czy nie.\n",
        "\n",
        "Jako parametr optimizer, czyli rodzaj algorytmu aktualizującego wagi wybieram 'adam' (algorytm gradient descent), ponieważ jest szybko zbieżny, więc nie potrzebuje dużo czasu żeby osiągnąć minimum lub maksimum.\n",
        "\n",
        "Parametr metrice ustawiam na 'accuracy', żeby dowiedzieć się jak dobrze przygotowany jest mój model.\n"
      ],
      "metadata": {
        "id": "6Igr4stZLe3m"
      }
    },
    {
      "cell_type": "code",
      "source": [
        "import keras\n",
        "from keras.models import Sequential \n",
        "from keras.layers import Dense,Activation,Dropout \n",
        "\n",
        "# Inicjalizacja modelu\n",
        "model = Sequential()\n",
        "\n",
        "# Dodawanie warstw\n",
        "model.add(Dense(61,input_dim=30, activation='relu')) # definiuje mi jednocześnie rozmiar pierwszej warstwy wejściowej i pierwszej ukrytej\n",
        " \n",
        "# Ochrona przed przetrenowaniem\n",
        "model.add(Dropout(0.2))\n",
        "\n",
        "# Warstwa wyjściowa\n",
        "model.add(Dense(2,activation='sigmoid'))\n",
        "\n",
        "# Kompilacja sieci neuronowej\n",
        "model.compile(loss='binary_crossentropy', optimizer='adam',metrics=['accuracy'])\n"
      ],
      "metadata": {
        "id": "G8tLPIIZLjYt"
      },
      "execution_count": 6,
      "outputs": []
    },
    {
      "cell_type": "markdown",
      "source": [
        "## Uczenie sieci\n",
        "\n",
        "\n",
        "\n"
      ],
      "metadata": {
        "id": "dcPV6qqXID_R"
      }
    },
    {
      "cell_type": "markdown",
      "source": [
        "### Trenowanie sieci neuronowej\n",
        "\n",
        "\n",
        "Poniżej trenuje uzyskany wczesniej model na danych treningowych. Uzyskany wcześniej zbiór z danymi walidacyjnymi posłuży do oceny uzyskanych wyników po każdej epoce. \n",
        "\n",
        "Liczba epok na początek zostaje ustawiona na 100, a liczba wierszy po których nastąpi aktualizacja wag to 32. Nie ma jednoznacznej reguły na wybór odpowiedniej liczby tych wartości, więc zaczynam od takich parametrów i obserwuje jak będzie się zachowywać błąd oraz dokładność w zbiorze treningowym i walidacyjnyym.\n",
        "\n",
        "Parametr verbose = 1 pozwala obserwować błąd oraz dokładność obu zbiorów w każdej epoce. \n",
        "\n",
        "Celem jest wybranie konfiguracji modelu, która zapewnij najniższe straty i najwyższą możliwą dokładność dla danego zbioru danych."
      ],
      "metadata": {
        "id": "N0_-DnkVRRmx"
      }
    },
    {
      "cell_type": "code",
      "source": [
        "# Dopasowywanie sieci neuronowej do zbioru treningowego\n",
        "\n",
        "history = model.fit(X_train,y_train,validation_data=(X_valid,y_valid), batch_size=32,epochs=100,verbose=1)\n"
      ],
      "metadata": {
        "id": "mu_LZASkLjrj",
        "colab": {
          "base_uri": "https://localhost:8080/"
        },
        "outputId": "57dc3b44-5737-4bca-ecc0-20a542737946"
      },
      "execution_count": 7,
      "outputs": [
        {
          "output_type": "stream",
          "name": "stdout",
          "text": [
            "Epoch 1/100\n",
            "6/6 [==============================] - 5s 252ms/step - loss: 0.7601 - accuracy: 0.3827 - val_loss: 0.7052 - val_accuracy: 0.5556\n",
            "Epoch 2/100\n",
            "6/6 [==============================] - 0s 16ms/step - loss: 0.7166 - accuracy: 0.4630 - val_loss: 0.6744 - val_accuracy: 0.6852\n",
            "Epoch 3/100\n",
            "6/6 [==============================] - 0s 30ms/step - loss: 0.6945 - accuracy: 0.5309 - val_loss: 0.6481 - val_accuracy: 0.7963\n",
            "Epoch 4/100\n",
            "6/6 [==============================] - 0s 19ms/step - loss: 0.6574 - accuracy: 0.6605 - val_loss: 0.6262 - val_accuracy: 0.7963\n",
            "Epoch 5/100\n",
            "6/6 [==============================] - 0s 17ms/step - loss: 0.6299 - accuracy: 0.7531 - val_loss: 0.6063 - val_accuracy: 0.8148\n",
            "Epoch 6/100\n",
            "6/6 [==============================] - 0s 15ms/step - loss: 0.6072 - accuracy: 0.7840 - val_loss: 0.5887 - val_accuracy: 0.8148\n",
            "Epoch 7/100\n",
            "6/6 [==============================] - 0s 17ms/step - loss: 0.5760 - accuracy: 0.8519 - val_loss: 0.5730 - val_accuracy: 0.8148\n",
            "Epoch 8/100\n",
            "6/6 [==============================] - 0s 26ms/step - loss: 0.5519 - accuracy: 0.8210 - val_loss: 0.5571 - val_accuracy: 0.8333\n",
            "Epoch 9/100\n",
            "6/6 [==============================] - 0s 33ms/step - loss: 0.5308 - accuracy: 0.8704 - val_loss: 0.5427 - val_accuracy: 0.8333\n",
            "Epoch 10/100\n",
            "6/6 [==============================] - 0s 31ms/step - loss: 0.5138 - accuracy: 0.8827 - val_loss: 0.5310 - val_accuracy: 0.8148\n",
            "Epoch 11/100\n",
            "6/6 [==============================] - 0s 17ms/step - loss: 0.4909 - accuracy: 0.8580 - val_loss: 0.5188 - val_accuracy: 0.8148\n",
            "Epoch 12/100\n",
            "6/6 [==============================] - 0s 16ms/step - loss: 0.4708 - accuracy: 0.8642 - val_loss: 0.5073 - val_accuracy: 0.8148\n",
            "Epoch 13/100\n",
            "6/6 [==============================] - 0s 20ms/step - loss: 0.4553 - accuracy: 0.8395 - val_loss: 0.4965 - val_accuracy: 0.7963\n",
            "Epoch 14/100\n",
            "6/6 [==============================] - 0s 26ms/step - loss: 0.4332 - accuracy: 0.8765 - val_loss: 0.4879 - val_accuracy: 0.7963\n",
            "Epoch 15/100\n",
            "6/6 [==============================] - 0s 30ms/step - loss: 0.4214 - accuracy: 0.8642 - val_loss: 0.4828 - val_accuracy: 0.8148\n",
            "Epoch 16/100\n",
            "6/6 [==============================] - 0s 21ms/step - loss: 0.4164 - accuracy: 0.8457 - val_loss: 0.4736 - val_accuracy: 0.7963\n",
            "Epoch 17/100\n",
            "6/6 [==============================] - 0s 21ms/step - loss: 0.3905 - accuracy: 0.8519 - val_loss: 0.4654 - val_accuracy: 0.7963\n",
            "Epoch 18/100\n",
            "6/6 [==============================] - 0s 30ms/step - loss: 0.3779 - accuracy: 0.8642 - val_loss: 0.4650 - val_accuracy: 0.7963\n",
            "Epoch 19/100\n",
            "6/6 [==============================] - 0s 46ms/step - loss: 0.3658 - accuracy: 0.8889 - val_loss: 0.4675 - val_accuracy: 0.7963\n",
            "Epoch 20/100\n",
            "6/6 [==============================] - 0s 22ms/step - loss: 0.3797 - accuracy: 0.8827 - val_loss: 0.4663 - val_accuracy: 0.7963\n",
            "Epoch 21/100\n",
            "6/6 [==============================] - 0s 49ms/step - loss: 0.3573 - accuracy: 0.9012 - val_loss: 0.4706 - val_accuracy: 0.8148\n",
            "Epoch 22/100\n",
            "6/6 [==============================] - 0s 46ms/step - loss: 0.3466 - accuracy: 0.8704 - val_loss: 0.4759 - val_accuracy: 0.8333\n",
            "Epoch 23/100\n",
            "6/6 [==============================] - 0s 37ms/step - loss: 0.3486 - accuracy: 0.8765 - val_loss: 0.4827 - val_accuracy: 0.8333\n",
            "Epoch 24/100\n",
            "6/6 [==============================] - 0s 23ms/step - loss: 0.3355 - accuracy: 0.8642 - val_loss: 0.4802 - val_accuracy: 0.8333\n",
            "Epoch 25/100\n",
            "6/6 [==============================] - 0s 19ms/step - loss: 0.3420 - accuracy: 0.8642 - val_loss: 0.4731 - val_accuracy: 0.8333\n",
            "Epoch 26/100\n",
            "6/6 [==============================] - 0s 27ms/step - loss: 0.3287 - accuracy: 0.8704 - val_loss: 0.4718 - val_accuracy: 0.8333\n",
            "Epoch 27/100\n",
            "6/6 [==============================] - 0s 24ms/step - loss: 0.3270 - accuracy: 0.8951 - val_loss: 0.4680 - val_accuracy: 0.8333\n",
            "Epoch 28/100\n",
            "6/6 [==============================] - 0s 19ms/step - loss: 0.3451 - accuracy: 0.8889 - val_loss: 0.4744 - val_accuracy: 0.8333\n",
            "Epoch 29/100\n",
            "6/6 [==============================] - 0s 18ms/step - loss: 0.3103 - accuracy: 0.9012 - val_loss: 0.4800 - val_accuracy: 0.8333\n",
            "Epoch 30/100\n",
            "6/6 [==============================] - 0s 33ms/step - loss: 0.3243 - accuracy: 0.8827 - val_loss: 0.4819 - val_accuracy: 0.8333\n",
            "Epoch 31/100\n",
            "6/6 [==============================] - 0s 28ms/step - loss: 0.3025 - accuracy: 0.8827 - val_loss: 0.4804 - val_accuracy: 0.8333\n",
            "Epoch 32/100\n",
            "6/6 [==============================] - 0s 20ms/step - loss: 0.3113 - accuracy: 0.8704 - val_loss: 0.4761 - val_accuracy: 0.8333\n",
            "Epoch 33/100\n",
            "6/6 [==============================] - 0s 31ms/step - loss: 0.2886 - accuracy: 0.8889 - val_loss: 0.4658 - val_accuracy: 0.8333\n",
            "Epoch 34/100\n",
            "6/6 [==============================] - 0s 43ms/step - loss: 0.3147 - accuracy: 0.8704 - val_loss: 0.4598 - val_accuracy: 0.8148\n",
            "Epoch 35/100\n",
            "6/6 [==============================] - 0s 21ms/step - loss: 0.2964 - accuracy: 0.8642 - val_loss: 0.4599 - val_accuracy: 0.8148\n",
            "Epoch 36/100\n",
            "6/6 [==============================] - 0s 27ms/step - loss: 0.3143 - accuracy: 0.8765 - val_loss: 0.4625 - val_accuracy: 0.8148\n",
            "Epoch 37/100\n",
            "6/6 [==============================] - 0s 17ms/step - loss: 0.3033 - accuracy: 0.8704 - val_loss: 0.4696 - val_accuracy: 0.8333\n",
            "Epoch 38/100\n",
            "6/6 [==============================] - 0s 28ms/step - loss: 0.2864 - accuracy: 0.8765 - val_loss: 0.4778 - val_accuracy: 0.8333\n",
            "Epoch 39/100\n",
            "6/6 [==============================] - 0s 22ms/step - loss: 0.2853 - accuracy: 0.9012 - val_loss: 0.4843 - val_accuracy: 0.8333\n",
            "Epoch 40/100\n",
            "6/6 [==============================] - 0s 21ms/step - loss: 0.2834 - accuracy: 0.8951 - val_loss: 0.4858 - val_accuracy: 0.8333\n",
            "Epoch 41/100\n",
            "6/6 [==============================] - 0s 21ms/step - loss: 0.2814 - accuracy: 0.8951 - val_loss: 0.4863 - val_accuracy: 0.8333\n",
            "Epoch 42/100\n",
            "6/6 [==============================] - 0s 27ms/step - loss: 0.2668 - accuracy: 0.9012 - val_loss: 0.4864 - val_accuracy: 0.8333\n",
            "Epoch 43/100\n",
            "6/6 [==============================] - 0s 24ms/step - loss: 0.2841 - accuracy: 0.8827 - val_loss: 0.4777 - val_accuracy: 0.8333\n",
            "Epoch 44/100\n",
            "6/6 [==============================] - 0s 13ms/step - loss: 0.2695 - accuracy: 0.8951 - val_loss: 0.4696 - val_accuracy: 0.8333\n",
            "Epoch 45/100\n",
            "6/6 [==============================] - 0s 13ms/step - loss: 0.2768 - accuracy: 0.8704 - val_loss: 0.4545 - val_accuracy: 0.8148\n",
            "Epoch 46/100\n",
            "6/6 [==============================] - 0s 10ms/step - loss: 0.2815 - accuracy: 0.8827 - val_loss: 0.4440 - val_accuracy: 0.8148\n",
            "Epoch 47/100\n",
            "6/6 [==============================] - 0s 11ms/step - loss: 0.2864 - accuracy: 0.8951 - val_loss: 0.4426 - val_accuracy: 0.8148\n",
            "Epoch 48/100\n",
            "6/6 [==============================] - 0s 9ms/step - loss: 0.2942 - accuracy: 0.8765 - val_loss: 0.4488 - val_accuracy: 0.7963\n",
            "Epoch 49/100\n",
            "6/6 [==============================] - 0s 10ms/step - loss: 0.2680 - accuracy: 0.8889 - val_loss: 0.4614 - val_accuracy: 0.8333\n",
            "Epoch 50/100\n",
            "6/6 [==============================] - 0s 12ms/step - loss: 0.2758 - accuracy: 0.9012 - val_loss: 0.4730 - val_accuracy: 0.8333\n",
            "Epoch 51/100\n",
            "6/6 [==============================] - 0s 14ms/step - loss: 0.2608 - accuracy: 0.8704 - val_loss: 0.4860 - val_accuracy: 0.8333\n",
            "Epoch 52/100\n",
            "6/6 [==============================] - 0s 10ms/step - loss: 0.2562 - accuracy: 0.8951 - val_loss: 0.4949 - val_accuracy: 0.8333\n",
            "Epoch 53/100\n",
            "6/6 [==============================] - 0s 10ms/step - loss: 0.2612 - accuracy: 0.8951 - val_loss: 0.4956 - val_accuracy: 0.8333\n",
            "Epoch 54/100\n",
            "6/6 [==============================] - 0s 10ms/step - loss: 0.2644 - accuracy: 0.8951 - val_loss: 0.4898 - val_accuracy: 0.8333\n",
            "Epoch 55/100\n",
            "6/6 [==============================] - 0s 12ms/step - loss: 0.2511 - accuracy: 0.8951 - val_loss: 0.4857 - val_accuracy: 0.8333\n",
            "Epoch 56/100\n",
            "6/6 [==============================] - 0s 13ms/step - loss: 0.2592 - accuracy: 0.8889 - val_loss: 0.4821 - val_accuracy: 0.8333\n",
            "Epoch 57/100\n",
            "6/6 [==============================] - 0s 14ms/step - loss: 0.2587 - accuracy: 0.8765 - val_loss: 0.4783 - val_accuracy: 0.8333\n",
            "Epoch 58/100\n",
            "6/6 [==============================] - 0s 10ms/step - loss: 0.2531 - accuracy: 0.9012 - val_loss: 0.4776 - val_accuracy: 0.8333\n",
            "Epoch 59/100\n",
            "6/6 [==============================] - 0s 10ms/step - loss: 0.2586 - accuracy: 0.8704 - val_loss: 0.4779 - val_accuracy: 0.8333\n",
            "Epoch 60/100\n",
            "6/6 [==============================] - 0s 13ms/step - loss: 0.2566 - accuracy: 0.9012 - val_loss: 0.4806 - val_accuracy: 0.8333\n",
            "Epoch 61/100\n",
            "6/6 [==============================] - 0s 14ms/step - loss: 0.2716 - accuracy: 0.8827 - val_loss: 0.4831 - val_accuracy: 0.8333\n",
            "Epoch 62/100\n",
            "6/6 [==============================] - 0s 11ms/step - loss: 0.2613 - accuracy: 0.8951 - val_loss: 0.4892 - val_accuracy: 0.8333\n",
            "Epoch 63/100\n",
            "6/6 [==============================] - 0s 14ms/step - loss: 0.2641 - accuracy: 0.8827 - val_loss: 0.4932 - val_accuracy: 0.8333\n",
            "Epoch 64/100\n",
            "6/6 [==============================] - 0s 11ms/step - loss: 0.2556 - accuracy: 0.9012 - val_loss: 0.4958 - val_accuracy: 0.8333\n",
            "Epoch 65/100\n",
            "6/6 [==============================] - 0s 9ms/step - loss: 0.2541 - accuracy: 0.8889 - val_loss: 0.5066 - val_accuracy: 0.8333\n",
            "Epoch 66/100\n",
            "6/6 [==============================] - 0s 9ms/step - loss: 0.2568 - accuracy: 0.8889 - val_loss: 0.5190 - val_accuracy: 0.8333\n",
            "Epoch 67/100\n",
            "6/6 [==============================] - 0s 15ms/step - loss: 0.2410 - accuracy: 0.9012 - val_loss: 0.5298 - val_accuracy: 0.8333\n",
            "Epoch 68/100\n",
            "6/6 [==============================] - 0s 10ms/step - loss: 0.2509 - accuracy: 0.9012 - val_loss: 0.5290 - val_accuracy: 0.8333\n",
            "Epoch 69/100\n",
            "6/6 [==============================] - 0s 10ms/step - loss: 0.2513 - accuracy: 0.8951 - val_loss: 0.5172 - val_accuracy: 0.8333\n",
            "Epoch 70/100\n",
            "6/6 [==============================] - 0s 10ms/step - loss: 0.2467 - accuracy: 0.9198 - val_loss: 0.5072 - val_accuracy: 0.8333\n",
            "Epoch 71/100\n",
            "6/6 [==============================] - 0s 10ms/step - loss: 0.2421 - accuracy: 0.9136 - val_loss: 0.4939 - val_accuracy: 0.8333\n",
            "Epoch 72/100\n",
            "6/6 [==============================] - 0s 10ms/step - loss: 0.2383 - accuracy: 0.8889 - val_loss: 0.4923 - val_accuracy: 0.8333\n",
            "Epoch 73/100\n",
            "6/6 [==============================] - 0s 11ms/step - loss: 0.2495 - accuracy: 0.8827 - val_loss: 0.4926 - val_accuracy: 0.8333\n",
            "Epoch 74/100\n",
            "6/6 [==============================] - 0s 12ms/step - loss: 0.2544 - accuracy: 0.8889 - val_loss: 0.4929 - val_accuracy: 0.8333\n",
            "Epoch 75/100\n",
            "6/6 [==============================] - 0s 13ms/step - loss: 0.2446 - accuracy: 0.9012 - val_loss: 0.4888 - val_accuracy: 0.8333\n",
            "Epoch 76/100\n",
            "6/6 [==============================] - 0s 10ms/step - loss: 0.2346 - accuracy: 0.9012 - val_loss: 0.4842 - val_accuracy: 0.8333\n",
            "Epoch 77/100\n",
            "6/6 [==============================] - 0s 10ms/step - loss: 0.2480 - accuracy: 0.8951 - val_loss: 0.4969 - val_accuracy: 0.8333\n",
            "Epoch 78/100\n",
            "6/6 [==============================] - 0s 13ms/step - loss: 0.2443 - accuracy: 0.8951 - val_loss: 0.5088 - val_accuracy: 0.8148\n",
            "Epoch 79/100\n",
            "6/6 [==============================] - 0s 10ms/step - loss: 0.2355 - accuracy: 0.9074 - val_loss: 0.5289 - val_accuracy: 0.8333\n",
            "Epoch 80/100\n",
            "6/6 [==============================] - 0s 13ms/step - loss: 0.2499 - accuracy: 0.9136 - val_loss: 0.5550 - val_accuracy: 0.8333\n",
            "Epoch 81/100\n",
            "6/6 [==============================] - 0s 14ms/step - loss: 0.2393 - accuracy: 0.9136 - val_loss: 0.5738 - val_accuracy: 0.8333\n",
            "Epoch 82/100\n",
            "6/6 [==============================] - 0s 12ms/step - loss: 0.2516 - accuracy: 0.9012 - val_loss: 0.5720 - val_accuracy: 0.8333\n",
            "Epoch 83/100\n",
            "6/6 [==============================] - 0s 15ms/step - loss: 0.2491 - accuracy: 0.9012 - val_loss: 0.5599 - val_accuracy: 0.8333\n",
            "Epoch 84/100\n",
            "6/6 [==============================] - 0s 15ms/step - loss: 0.2453 - accuracy: 0.8889 - val_loss: 0.5409 - val_accuracy: 0.8333\n",
            "Epoch 85/100\n",
            "6/6 [==============================] - 0s 19ms/step - loss: 0.2369 - accuracy: 0.9012 - val_loss: 0.5200 - val_accuracy: 0.8148\n",
            "Epoch 86/100\n",
            "6/6 [==============================] - 0s 18ms/step - loss: 0.2251 - accuracy: 0.8951 - val_loss: 0.5058 - val_accuracy: 0.8148\n",
            "Epoch 87/100\n",
            "6/6 [==============================] - 0s 15ms/step - loss: 0.2405 - accuracy: 0.8827 - val_loss: 0.4982 - val_accuracy: 0.8333\n",
            "Epoch 88/100\n",
            "6/6 [==============================] - 0s 18ms/step - loss: 0.2326 - accuracy: 0.9074 - val_loss: 0.4916 - val_accuracy: 0.8333\n",
            "Epoch 89/100\n",
            "6/6 [==============================] - 0s 17ms/step - loss: 0.2370 - accuracy: 0.8827 - val_loss: 0.4900 - val_accuracy: 0.8333\n",
            "Epoch 90/100\n",
            "6/6 [==============================] - 0s 18ms/step - loss: 0.2221 - accuracy: 0.9012 - val_loss: 0.4950 - val_accuracy: 0.8333\n",
            "Epoch 91/100\n",
            "6/6 [==============================] - 0s 17ms/step - loss: 0.2298 - accuracy: 0.9012 - val_loss: 0.5052 - val_accuracy: 0.8333\n",
            "Epoch 92/100\n",
            "6/6 [==============================] - 0s 17ms/step - loss: 0.2180 - accuracy: 0.8889 - val_loss: 0.5145 - val_accuracy: 0.8148\n",
            "Epoch 93/100\n",
            "6/6 [==============================] - 0s 16ms/step - loss: 0.2108 - accuracy: 0.9259 - val_loss: 0.5241 - val_accuracy: 0.8148\n",
            "Epoch 94/100\n",
            "6/6 [==============================] - 0s 14ms/step - loss: 0.2144 - accuracy: 0.9136 - val_loss: 0.5318 - val_accuracy: 0.8148\n",
            "Epoch 95/100\n",
            "6/6 [==============================] - 0s 15ms/step - loss: 0.2351 - accuracy: 0.9136 - val_loss: 0.5423 - val_accuracy: 0.8148\n",
            "Epoch 96/100\n",
            "6/6 [==============================] - 0s 16ms/step - loss: 0.2178 - accuracy: 0.9198 - val_loss: 0.5381 - val_accuracy: 0.8148\n",
            "Epoch 97/100\n",
            "6/6 [==============================] - 0s 13ms/step - loss: 0.2316 - accuracy: 0.9012 - val_loss: 0.5318 - val_accuracy: 0.8148\n",
            "Epoch 98/100\n",
            "6/6 [==============================] - 0s 16ms/step - loss: 0.2334 - accuracy: 0.9012 - val_loss: 0.5359 - val_accuracy: 0.8148\n",
            "Epoch 99/100\n",
            "6/6 [==============================] - 0s 13ms/step - loss: 0.2195 - accuracy: 0.9259 - val_loss: 0.5350 - val_accuracy: 0.8148\n",
            "Epoch 100/100\n",
            "6/6 [==============================] - 0s 13ms/step - loss: 0.2113 - accuracy: 0.9074 - val_loss: 0.5332 - val_accuracy: 0.8148\n"
          ]
        }
      ]
    },
    {
      "cell_type": "markdown",
      "source": [
        "## Wyniki jakie daje sieć\n",
        "\n"
      ],
      "metadata": {
        "id": "Y1aqnVT3WMJc"
      }
    },
    {
      "cell_type": "markdown",
      "source": [
        "Powyżej widać, że zarówno w zbiorze treningowym jak i walidacyjnym rozmiar błędu maleje wraz ze zwiększaniem się numeru epoki, a precyzja przewidywania rośnie."
      ],
      "metadata": {
        "id": "y57ICf7vcDEQ"
      }
    },
    {
      "cell_type": "markdown",
      "source": [
        "### Dokładność i precyzja\n",
        "\n",
        "Poniżej obliczono dokładność i precyzje wyników jakie daje sieć używając do tego zbioru testowego.\n",
        "\n",
        "Najpierw sieć wygenerowała przewidywany wynik dla zbioru testowego w postaci wektorów. Następnie przewidywany wynik i wynik jaki powinien być zostały zamienione na wektory jednowymiarowe stworzone z 0 i 1. W kolejnym kroku używamy funkcji calssification_report do oceny sieci.\n",
        "\n"
      ],
      "metadata": {
        "id": "-BV3JpQ9RxfO"
      }
    },
    {
      "cell_type": "code",
      "source": [
        "# zbiór testowy\n",
        "prediction=model.predict(X_test) \n",
        "\n",
        "# ta funkcja szuka maksymalnych wartości po kolumnach; jak znajdzie to wstawia indeks tej kolumny, tak dostaje tablice 0 i 1\n",
        "y_label=np.argmax(y_test,axis=1) \n",
        "predict_label=np.argmax(prediction,axis=1)\n",
        "target_names=[\"absence of disease (0)\", \"presence of disease (1)\"]\n",
        "\n",
        "# Dokładność i precyzja\n",
        "print(classification_report(y_label,predict_label,target_names=target_names))\n",
        "\n"
      ],
      "metadata": {
        "id": "lwLwfaONR4f0",
        "colab": {
          "base_uri": "https://localhost:8080/"
        },
        "outputId": "746d0914-dda3-4336-d0c8-bebebea34154"
      },
      "execution_count": 8,
      "outputs": [
        {
          "output_type": "stream",
          "name": "stdout",
          "text": [
            "2/2 [==============================] - 0s 5ms/step\n",
            "                         precision    recall  f1-score   support\n",
            "\n",
            " absence of disease (0)       0.80      0.86      0.83        28\n",
            "presence of disease (1)       0.83      0.77      0.80        26\n",
            "\n",
            "               accuracy                           0.81        54\n",
            "              macro avg       0.82      0.81      0.81        54\n",
            "           weighted avg       0.82      0.81      0.81        54\n",
            "\n"
          ]
        }
      ]
    },
    {
      "cell_type": "markdown",
      "source": [
        "Wyświetlam raport z klasyfikacji, który mierzy jakość przewidywań sieci.\n",
        "- Precision - procent poprawnych pozytywnych przewidywań w stosunku do całkowitej liczby pozytywnych przewidywań modelu\n",
        "- Recall - procent poprawnych pozytywnych przewidywań w stosunku do całkowitej liczby rzeczywistych pozytywnych przewidywań modelu\n",
        "- F1-Score - średnia ważona harmoniczna precyzji i recall; im bliżej 1, tym lepszy model\n",
        "- Support - ilość próbek należących do danej klasy\n",
        "\n",
        "Dokładność: Na poziomie bliskim 80%\n",
        "\n",
        "Precyzja: Wysoka dla przypadku gdy ktoś jest chory, nieznacznie niższa w przypadku klasyfikowania, że ktoś jest zdrowy."
      ],
      "metadata": {
        "id": "nnRXD2mVbtjK"
      }
    },
    {
      "cell_type": "markdown",
      "source": [
        "### Krzywa ROC\n",
        "\n",
        "Krzywa ROC to jeden ze sposobów wizualizacji jakości klasyfikacji, pokazujący zależności wskaźników TPR (True Positive Rate) oraz FPR (False Positive Rate).\n",
        "\n",
        "Im bardziej wykres zmierza do lewego górnego rogu tym lepszy klasyfikator otrzymaliśmy. Oznacza to, że otrzymujemy więcej wyników pozytywnie prawdziwych w stosunku do fałszywie pozytywnych, które są bardzo niepożądane, ponieważ w tym przypadku wskzują, że ktoś jest zdrowy gdy tak naprawdę jest chory. \n",
        "\n",
        "Dodatkowo pole pod krzywą (AUC) może służyć jako podsumowanie umiejętności modelu.\n"
      ],
      "metadata": {
        "id": "nNTVsWDwWWO6"
      }
    },
    {
      "cell_type": "code",
      "source": [
        "# Krzywa ROC\n",
        "y_proba = prediction[:,1]\n",
        "fpr, tpr, threshold = roc_curve(y_label,y_proba)\n",
        "\n",
        "# Pole powierzchni pod wykresem (AUC)\n",
        "auc = roc_auc_score(y_label,y_proba)\n",
        "print('AUC: ', auc)\n",
        "plt.plot(fpr,tpr)\n",
        "plt.xlabel('False Positive Rate')\n",
        "plt.ylabel('True Positive Rate')"
      ],
      "metadata": {
        "colab": {
          "base_uri": "https://localhost:8080/",
          "height": 314
        },
        "id": "Bo3z_XMRWacZ",
        "outputId": "aaa50b17-6ab4-4ad4-a14b-16fe41304b6f"
      },
      "execution_count": 9,
      "outputs": [
        {
          "output_type": "stream",
          "name": "stdout",
          "text": [
            "AUC:  0.8956043956043955\n"
          ]
        },
        {
          "output_type": "execute_result",
          "data": {
            "text/plain": [
              "Text(0, 0.5, 'True Positive Rate')"
            ]
          },
          "metadata": {},
          "execution_count": 9
        },
        {
          "output_type": "display_data",
          "data": {
            "text/plain": [
              "<Figure size 432x288 with 1 Axes>"
            ],
            "image/png": "[encoded data removed]"
          },
          "metadata": {
            "needs_background": "light"
          }
        }
      ]
    },
    {
      "cell_type": "markdown",
      "source": [
        "Widać, że w przypadku tego modelu krzywa ROC jest w miarę blisko lewego górnego rogu, co oznacza, że klasyfikacja przebiega całkiem sprawnie. Pole pod krzywą to około 0.80-0.90, potwierdza wysoką skuteczność klasyfikatora. "
      ],
      "metadata": {
        "id": "K2hx6gMzk-ZD"
      }
    },
    {
      "cell_type": "markdown",
      "source": [
        "### Złożoność i zbieżność\n"
      ],
      "metadata": {
        "id": "1xf400MNkrwT"
      }
    },
    {
      "cell_type": "code",
      "source": [
        "# Podsumowanie historii dokładności\n",
        "plt.plot(history.history['accuracy'])\n",
        "plt.plot(history.history['val_accuracy'])\n",
        "plt.title('model accuracy')\n",
        "plt.ylabel('accuracy')\n",
        "plt.xlabel('epoch')\n",
        "plt.legend(['train', 'valid'], loc='upper left')\n",
        "plt.show()\n",
        "# Podsumowanie historii błędu\n",
        "plt.plot(history.history['loss'])\n",
        "plt.plot(history.history['val_loss'])\n",
        "plt.title('model loss')\n",
        "plt.ylabel('loss')\n",
        "plt.xlabel('epoch')\n",
        "plt.legend(['train', 'valid'], loc='upper left')\n",
        "plt.show()"
      ],
      "metadata": {
        "colab": {
          "base_uri": "https://localhost:8080/",
          "height": 573
        },
        "id": "5_eUAtDfk0u3",
        "outputId": "12840592-dad0-4bc9-ff16-49f19d925ad2"
      },
      "execution_count": 10,
      "outputs": [
        {
          "output_type": "display_data",
          "data": {
            "text/plain": [
              "<Figure size 432x288 with 1 Axes>"
            ],
            "image/png": "[encoded data removed]"
          },
          "metadata": {
            "needs_background": "light"
          }
        },
        {
          "output_type": "display_data",
          "data": {
            "text/plain": [
              "<Figure size 432x288 with 1 Axes>"
            ],
            "image/png": "[encoded data removed]"
          },
          "metadata": {
            "needs_background": "light"
          }
        }
      ]
    },
    {
      "cell_type": "markdown",
      "source": [
        "Zbieżność: Po około 20 epokach dokładność sieci zaczyna oscylować w okolicach 80%. Jednak z drugiego wykresu widać, że błąd dla zbioru walidacyjnego po spadku zaczyna znowu rosnąć co świadczy o przetrenowaniu modelu. \n",
        "\n",
        "Złożoność: Mało złożona sieć \n",
        "\n",
        "Tylko jedna warstwa ukryta z 61 neuronami, które używają funkcji relu. Jej obliczenie nie jest skomplikowana, ponieważ to max(0,x). Wyjście to 2 neurony które używają bardziej skomplikowanej fukcji niż relu, bo funkcji sigmoid, ale to tylko 2 neurony, więc całościowo nie komplikuje to bardzo budowy sieci. Aktualizacja wag występuje co 32 próbki danych w trakcie trwania każdej ze 100 epok."
      ],
      "metadata": {
        "id": "mTf5QDZC0qJ4"
      }
    },
    {
      "cell_type": "markdown",
      "source": [
        "## Dostrajanie parametrów\n",
        "\n",
        "Poniżej zostało przygotowanych kilka wersji modeli w celu dobrania jak najlepszych parametrów sieci, która da nam najlepsze możliwe przewidywanie wyniku dla naszych danych."
      ],
      "metadata": {
        "id": "mzhW8kM3a_CJ"
      }
    },
    {
      "cell_type": "markdown",
      "source": [
        "### Model 1\n",
        "\n",
        "Zmieniono liczbę epok z 100 na 20, aby zmniejszyć ryzyko przetrenowania, które występuje w modelu 0."
      ],
      "metadata": {
        "id": "302GTKEnLtGl"
      }
    },
    {
      "cell_type": "code",
      "source": [
        "# Inicjalizacja modelu\n",
        "model5 = Sequential()\n",
        "\n",
        "# Dodawanie warstw\n",
        "model5.add(Dense(61,input_dim=30, activation='relu'))\n",
        "# Ochrona przed przetrenowaniem\n",
        "model5.add(Dropout(0.2))\n",
        "model5.add(Dense(2,activation='sigmoid')) \n",
        "\n",
        "# Kompilacja sieci neuronowej\n",
        "model5.compile(loss='binary_crossentropy', optimizer='adam',metrics=['accuracy'])\n",
        "\n",
        "# Trenowanie sieci neuronowej\n",
        "history5 = model5.fit(X_train,y_train,validation_data=(X_valid,y_valid), batch_size=32,epochs=20,verbose=1)\n",
        "\n",
        "# Testowanie sieci\n",
        "prediction5=model5.predict(X_test)\n",
        "y_label5=np.argmax(y_test,axis=1) \n",
        "predict_label5=np.argmax(prediction5,axis=1)\n",
        "\n",
        "# Dokładność i precyzja\n",
        "target_names=[\"absence of disease (0)\", \"presence of disease (1)\"]\n",
        "print(classification_report(y_label5,predict_label5, target_names=target_names))\n",
        "\n",
        "# Podsumowanie historii dokładności\n",
        "plt.plot(history5.history['accuracy'])\n",
        "plt.plot(history5.history['val_accuracy'])\n",
        "plt.title('model accuracy')\n",
        "plt.ylabel('accuracy')\n",
        "plt.xlabel('epoch')\n",
        "plt.legend(['train', 'valid'], loc='upper left')\n",
        "plt.show()\n",
        "# Podsumowanie historii błędu\n",
        "plt.plot(history5.history['loss'])\n",
        "plt.plot(history5.history['val_loss'])\n",
        "plt.title('model loss')\n",
        "plt.ylabel('loss')\n",
        "plt.xlabel('epoch')\n",
        "plt.legend(['train', 'valid'], loc='upper left')\n",
        "plt.show()"
      ],
      "metadata": {
        "colab": {
          "base_uri": "https://localhost:8080/",
          "height": 1000
        },
        "id": "a75hyc03L_mr",
        "outputId": "d1b61afc-4857-4a59-f5c0-f95d0041d64f"
      },
      "execution_count": 11,
      "outputs": [
        {
          "output_type": "stream",
          "name": "stdout",
          "text": [
            "Epoch 1/20\n",
            "6/6 [==============================] - 1s 64ms/step - loss: 0.7156 - accuracy: 0.4444 - val_loss: 0.6789 - val_accuracy: 0.5370\n",
            "Epoch 2/20\n",
            "6/6 [==============================] - 0s 10ms/step - loss: 0.6779 - accuracy: 0.5556 - val_loss: 0.6560 - val_accuracy: 0.6111\n",
            "Epoch 3/20\n",
            "6/6 [==============================] - 0s 15ms/step - loss: 0.6430 - accuracy: 0.6728 - val_loss: 0.6379 - val_accuracy: 0.7593\n",
            "Epoch 4/20\n",
            "6/6 [==============================] - 0s 17ms/step - loss: 0.6268 - accuracy: 0.7654 - val_loss: 0.6204 - val_accuracy: 0.8148\n",
            "Epoch 5/20\n",
            "6/6 [==============================] - 0s 16ms/step - loss: 0.5982 - accuracy: 0.7901 - val_loss: 0.6047 - val_accuracy: 0.8333\n",
            "Epoch 6/20\n",
            "6/6 [==============================] - 0s 15ms/step - loss: 0.5818 - accuracy: 0.8210 - val_loss: 0.5891 - val_accuracy: 0.8148\n",
            "Epoch 7/20\n",
            "6/6 [==============================] - 0s 17ms/step - loss: 0.5580 - accuracy: 0.8395 - val_loss: 0.5733 - val_accuracy: 0.8333\n",
            "Epoch 8/20\n",
            "6/6 [==============================] - 0s 17ms/step - loss: 0.5340 - accuracy: 0.8457 - val_loss: 0.5592 - val_accuracy: 0.8333\n",
            "Epoch 9/20\n",
            "6/6 [==============================] - 0s 15ms/step - loss: 0.5178 - accuracy: 0.8580 - val_loss: 0.5465 - val_accuracy: 0.8333\n",
            "Epoch 10/20\n",
            "6/6 [==============================] - 0s 19ms/step - loss: 0.5110 - accuracy: 0.8519 - val_loss: 0.5348 - val_accuracy: 0.8333\n",
            "Epoch 11/20\n",
            "6/6 [==============================] - 0s 17ms/step - loss: 0.4822 - accuracy: 0.8395 - val_loss: 0.5232 - val_accuracy: 0.8333\n",
            "Epoch 12/20\n",
            "6/6 [==============================] - 0s 18ms/step - loss: 0.4651 - accuracy: 0.8704 - val_loss: 0.5134 - val_accuracy: 0.8333\n",
            "Epoch 13/20\n",
            "6/6 [==============================] - 0s 13ms/step - loss: 0.4593 - accuracy: 0.8704 - val_loss: 0.5041 - val_accuracy: 0.8333\n",
            "Epoch 14/20\n",
            "6/6 [==============================] - 0s 18ms/step - loss: 0.4360 - accuracy: 0.8889 - val_loss: 0.4968 - val_accuracy: 0.8333\n",
            "Epoch 15/20\n",
            "6/6 [==============================] - 0s 14ms/step - loss: 0.4246 - accuracy: 0.8704 - val_loss: 0.4916 - val_accuracy: 0.8333\n",
            "Epoch 16/20\n",
            "6/6 [==============================] - 0s 19ms/step - loss: 0.4097 - accuracy: 0.8704 - val_loss: 0.4912 - val_accuracy: 0.8333\n",
            "Epoch 17/20\n",
            "6/6 [==============================] - 0s 17ms/step - loss: 0.4025 - accuracy: 0.8704 - val_loss: 0.4878 - val_accuracy: 0.8333\n",
            "Epoch 18/20\n",
            "6/6 [==============================] - 0s 17ms/step - loss: 0.3845 - accuracy: 0.8889 - val_loss: 0.4794 - val_accuracy: 0.8333\n",
            "Epoch 19/20\n",
            "6/6 [==============================] - 0s 13ms/step - loss: 0.3762 - accuracy: 0.8889 - val_loss: 0.4721 - val_accuracy: 0.8333\n",
            "Epoch 20/20\n",
            "6/6 [==============================] - 0s 13ms/step - loss: 0.3588 - accuracy: 0.8704 - val_loss: 0.4645 - val_accuracy: 0.8333\n",
            "2/2 [==============================] - 0s 5ms/step\n",
            "                         precision    recall  f1-score   support\n",
            "\n",
            " absence of disease (0)       0.79      0.82      0.81        28\n",
            "presence of disease (1)       0.80      0.77      0.78        26\n",
            "\n",
            "               accuracy                           0.80        54\n",
            "              macro avg       0.80      0.80      0.80        54\n",
            "           weighted avg       0.80      0.80      0.80        54\n",
            "\n"
          ]
        },
        {
          "output_type": "display_data",
          "data": {
            "text/plain": [
              "<Figure size 432x288 with 1 Axes>"
            ],
            "image/png": "[encoded data removed]"
          },
          "metadata": {
            "needs_background": "light"
          }
        },
        {
          "output_type": "display_data",
          "data": {
            "text/plain": [
              "<Figure size 432x288 with 1 Axes>"
            ],
            "image/png": "[encoded data removed]"
          },
          "metadata": {
            "needs_background": "light"
          }
        }
      ]
    },
    {
      "cell_type": "markdown",
      "source": [
        "Dokładność: Nie uległa znaczącej zmianie w stosunku do modelu 0.\n",
        "\n",
        "Precyzja: Praktycznie bez zmian dla obu klas w porównaniu do modelu 0.\n",
        "\n",
        "Zbieżność: Maksymalna dokładność została osiągnięta, ponieważ według wykresu utrzymuje się na stałym poziomie około 80%. Minimalny błąd prawdopodobnie nie został osiągnięty, ponieważ obje krzywe nadal zbiegają do mniejszych wartości w okolicach ostatnich epok.\n",
        "\n",
        "Złożoność: Mniejsza niż model 0\n",
        "\n",
        "Model zostanie przetrenowny na danych znacznie mniej razy niż w modelu 0, przez co wykona się znacznie mniej obliczeń.\n",
        " "
      ],
      "metadata": {
        "id": "EdgGtbCGZoKb"
      }
    },
    {
      "cell_type": "code",
      "source": [
        "# Krzywa ROC\n",
        "y_proba5 = prediction5[:,1]\n",
        "fpr5, tpr5, _ = roc_curve(y_label5,y_proba5)\n",
        "plt.plot(fpr5,tpr5)\n",
        "plt.xlabel('False Positive Rate')\n",
        "plt.ylabel('True Positive Rate')\n",
        "\n",
        "# Pole powierzchni pod krzywą (AUC)\n",
        "auc5 = roc_auc_score(y_label5,y_proba5)\n",
        "print('AUC: ', auc5)"
      ],
      "metadata": {
        "colab": {
          "base_uri": "https://localhost:8080/",
          "height": 296
        },
        "id": "rDUoaAstX3Cs",
        "outputId": "a292d6cc-efc0-4768-d879-e0b84f13b26a"
      },
      "execution_count": 12,
      "outputs": [
        {
          "output_type": "stream",
          "name": "stdout",
          "text": [
            "AUC:  0.8873626373626373\n"
          ]
        },
        {
          "output_type": "display_data",
          "data": {
            "text/plain": [
              "<Figure size 432x288 with 1 Axes>"
            ],
            "image/png": "[encoded data removed]"
          },
          "metadata": {
            "needs_background": "light"
          }
        }
      ]
    },
    {
      "cell_type": "markdown",
      "source": [
        "\n",
        "Wykres jest blisko lewego górnego narożnika, czyli otrzymujemy stosunkowo więcej wyników pozytywnie prawdziwych niż fałszywie prawdziwych. Z tego wynika, że model jest dobrym klasyfikatorem. \n"
      ],
      "metadata": {
        "id": "VZE2C9zaMz_g"
      }
    },
    {
      "cell_type": "markdown",
      "source": [
        "### Model 2\n",
        "\n",
        "Sprawdzam czy zmniejszenie liczby neuronów w warstwie ukrytej o połowe poprawi działanie sieci. "
      ],
      "metadata": {
        "id": "7XPuupnWGP7q"
      }
    },
    {
      "cell_type": "code",
      "source": [
        "# Inicjalizacja modelu\n",
        "model2 = Sequential()\n",
        "\n",
        "# Dodawanie warstw\n",
        "model2.add(Dense(30,input_dim=30, activation='relu'))\n",
        "# Ochrona przed przetrenowaniem\n",
        "model2.add(Dropout(0.2))\n",
        "model2.add(Dense(2,activation='sigmoid')) \n",
        "\n",
        "\n",
        "# Kompilacja sieci neuronowej\n",
        "model2.compile(loss='binary_crossentropy', optimizer='adam',metrics=['accuracy'])\n",
        "\n",
        "# Trenowanie sieci neuronowej\n",
        "history2 = model2.fit(X_train,y_train,validation_data=(X_valid,y_valid), batch_size=32,epochs=100,verbose=1)\n",
        "\n",
        "# Testowanie sieci \n",
        "prediction2=model2.predict(X_test)\n",
        "y_label2=np.argmax(y_test,axis=1)\n",
        "predict_label2=np.argmax(prediction2,axis=1)\n",
        "\n",
        "# Dokładność i precyzja\n",
        "target_names=[\"absence of disease (0)\", \"presence of disease (1)\"]\n",
        "print(classification_report(y_label2,predict_label2, target_names=target_names))\n",
        "\n",
        "# Podsumowanie historii dokładności\n",
        "plt.plot(history2.history['accuracy'])\n",
        "plt.plot(history2.history['val_accuracy'])\n",
        "plt.title('model accuracy')\n",
        "plt.ylabel('accuracy')\n",
        "plt.xlabel('epoch')\n",
        "plt.legend(['train', 'valid'], loc='upper left')\n",
        "plt.show()\n",
        "# Podsumowanie historii błędu\n",
        "plt.plot(history2.history['loss'])\n",
        "plt.plot(history2.history['val_loss'])\n",
        "plt.title('model loss')\n",
        "plt.ylabel('loss')\n",
        "plt.xlabel('epoch')\n",
        "plt.legend(['train', 'valid'], loc='upper left')\n",
        "plt.show()"
      ],
      "metadata": {
        "colab": {
          "base_uri": "https://localhost:8080/",
          "height": 1000
        },
        "id": "c37AwqizGitG",
        "outputId": "f380f86f-5a68-4fa6-b5d6-fc33c535812f"
      },
      "execution_count": 13,
      "outputs": [
        {
          "output_type": "stream",
          "name": "stdout",
          "text": [
            "Epoch 1/100\n",
            "6/6 [==============================] - 1s 62ms/step - loss: 0.8168 - accuracy: 0.4506 - val_loss: 0.7549 - val_accuracy: 0.4630\n",
            "Epoch 2/100\n",
            "6/6 [==============================] - 0s 13ms/step - loss: 0.7355 - accuracy: 0.5247 - val_loss: 0.7194 - val_accuracy: 0.4444\n",
            "Epoch 3/100\n",
            "6/6 [==============================] - 0s 9ms/step - loss: 0.7163 - accuracy: 0.5432 - val_loss: 0.6915 - val_accuracy: 0.5926\n",
            "Epoch 4/100\n",
            "6/6 [==============================] - 0s 9ms/step - loss: 0.6884 - accuracy: 0.6296 - val_loss: 0.6696 - val_accuracy: 0.7037\n",
            "Epoch 5/100\n",
            "6/6 [==============================] - 0s 12ms/step - loss: 0.6489 - accuracy: 0.6975 - val_loss: 0.6524 - val_accuracy: 0.7778\n",
            "Epoch 6/100\n",
            "6/6 [==============================] - 0s 9ms/step - loss: 0.6182 - accuracy: 0.7160 - val_loss: 0.6377 - val_accuracy: 0.7407\n",
            "Epoch 7/100\n",
            "6/6 [==============================] - 0s 10ms/step - loss: 0.5936 - accuracy: 0.7593 - val_loss: 0.6253 - val_accuracy: 0.7407\n",
            "Epoch 8/100\n",
            "6/6 [==============================] - 0s 10ms/step - loss: 0.5740 - accuracy: 0.7778 - val_loss: 0.6162 - val_accuracy: 0.7407\n",
            "Epoch 9/100\n",
            "6/6 [==============================] - 0s 13ms/step - loss: 0.5665 - accuracy: 0.7222 - val_loss: 0.6057 - val_accuracy: 0.7593\n",
            "Epoch 10/100\n",
            "6/6 [==============================] - 0s 13ms/step - loss: 0.5650 - accuracy: 0.7716 - val_loss: 0.5976 - val_accuracy: 0.7593\n",
            "Epoch 11/100\n",
            "6/6 [==============================] - 0s 13ms/step - loss: 0.5549 - accuracy: 0.7593 - val_loss: 0.5906 - val_accuracy: 0.7593\n",
            "Epoch 12/100\n",
            "6/6 [==============================] - 0s 14ms/step - loss: 0.5124 - accuracy: 0.7901 - val_loss: 0.5782 - val_accuracy: 0.7778\n",
            "Epoch 13/100\n",
            "6/6 [==============================] - 0s 13ms/step - loss: 0.5115 - accuracy: 0.7778 - val_loss: 0.5645 - val_accuracy: 0.7963\n",
            "Epoch 14/100\n",
            "6/6 [==============================] - 0s 11ms/step - loss: 0.4807 - accuracy: 0.8210 - val_loss: 0.5530 - val_accuracy: 0.8148\n",
            "Epoch 15/100\n",
            "6/6 [==============================] - 0s 12ms/step - loss: 0.4810 - accuracy: 0.8272 - val_loss: 0.5466 - val_accuracy: 0.8148\n",
            "Epoch 16/100\n",
            "6/6 [==============================] - 0s 12ms/step - loss: 0.4592 - accuracy: 0.8272 - val_loss: 0.5428 - val_accuracy: 0.8148\n",
            "Epoch 17/100\n",
            "6/6 [==============================] - 0s 12ms/step - loss: 0.4400 - accuracy: 0.8519 - val_loss: 0.5380 - val_accuracy: 0.8148\n",
            "Epoch 18/100\n",
            "6/6 [==============================] - 0s 12ms/step - loss: 0.4487 - accuracy: 0.8333 - val_loss: 0.5323 - val_accuracy: 0.8148\n",
            "Epoch 19/100\n",
            "6/6 [==============================] - 0s 9ms/step - loss: 0.4307 - accuracy: 0.8704 - val_loss: 0.5219 - val_accuracy: 0.8148\n",
            "Epoch 20/100\n",
            "6/6 [==============================] - 0s 9ms/step - loss: 0.4240 - accuracy: 0.8642 - val_loss: 0.5112 - val_accuracy: 0.8333\n",
            "Epoch 21/100\n",
            "6/6 [==============================] - 0s 9ms/step - loss: 0.4243 - accuracy: 0.8765 - val_loss: 0.5041 - val_accuracy: 0.8333\n",
            "Epoch 22/100\n",
            "6/6 [==============================] - 0s 10ms/step - loss: 0.4116 - accuracy: 0.8580 - val_loss: 0.5070 - val_accuracy: 0.8333\n",
            "Epoch 23/100\n",
            "6/6 [==============================] - 0s 10ms/step - loss: 0.4094 - accuracy: 0.8519 - val_loss: 0.5099 - val_accuracy: 0.8333\n",
            "Epoch 24/100\n",
            "6/6 [==============================] - 0s 11ms/step - loss: 0.3904 - accuracy: 0.8642 - val_loss: 0.5072 - val_accuracy: 0.8333\n",
            "Epoch 25/100\n",
            "6/6 [==============================] - 0s 13ms/step - loss: 0.3883 - accuracy: 0.8457 - val_loss: 0.4978 - val_accuracy: 0.8333\n",
            "Epoch 26/100\n",
            "6/6 [==============================] - 0s 9ms/step - loss: 0.3724 - accuracy: 0.8580 - val_loss: 0.4894 - val_accuracy: 0.8333\n",
            "Epoch 27/100\n",
            "6/6 [==============================] - 0s 10ms/step - loss: 0.3615 - accuracy: 0.8765 - val_loss: 0.4870 - val_accuracy: 0.8333\n",
            "Epoch 28/100\n",
            "6/6 [==============================] - 0s 10ms/step - loss: 0.3810 - accuracy: 0.8519 - val_loss: 0.4839 - val_accuracy: 0.8333\n",
            "Epoch 29/100\n",
            "6/6 [==============================] - 0s 12ms/step - loss: 0.3587 - accuracy: 0.8827 - val_loss: 0.4818 - val_accuracy: 0.8333\n",
            "Epoch 30/100\n",
            "6/6 [==============================] - 0s 12ms/step - loss: 0.3567 - accuracy: 0.8889 - val_loss: 0.4815 - val_accuracy: 0.8333\n",
            "Epoch 31/100\n",
            "6/6 [==============================] - 0s 13ms/step - loss: 0.3572 - accuracy: 0.8827 - val_loss: 0.4872 - val_accuracy: 0.8333\n",
            "Epoch 32/100\n",
            "6/6 [==============================] - 0s 10ms/step - loss: 0.3505 - accuracy: 0.8642 - val_loss: 0.4924 - val_accuracy: 0.8333\n",
            "Epoch 33/100\n",
            "6/6 [==============================] - 0s 12ms/step - loss: 0.3340 - accuracy: 0.8827 - val_loss: 0.4910 - val_accuracy: 0.8333\n",
            "Epoch 34/100\n",
            "6/6 [==============================] - 0s 9ms/step - loss: 0.3492 - accuracy: 0.8889 - val_loss: 0.4888 - val_accuracy: 0.8333\n",
            "Epoch 35/100\n",
            "6/6 [==============================] - 0s 9ms/step - loss: 0.3539 - accuracy: 0.8519 - val_loss: 0.4862 - val_accuracy: 0.8333\n",
            "Epoch 36/100\n",
            "6/6 [==============================] - 0s 13ms/step - loss: 0.3431 - accuracy: 0.8704 - val_loss: 0.4765 - val_accuracy: 0.8333\n",
            "Epoch 37/100\n",
            "6/6 [==============================] - 0s 15ms/step - loss: 0.3181 - accuracy: 0.8827 - val_loss: 0.4717 - val_accuracy: 0.8333\n",
            "Epoch 38/100\n",
            "6/6 [==============================] - 0s 10ms/step - loss: 0.3143 - accuracy: 0.8827 - val_loss: 0.4698 - val_accuracy: 0.8333\n",
            "Epoch 39/100\n",
            "6/6 [==============================] - 0s 13ms/step - loss: 0.3155 - accuracy: 0.8642 - val_loss: 0.4705 - val_accuracy: 0.8333\n",
            "Epoch 40/100\n",
            "6/6 [==============================] - 0s 12ms/step - loss: 0.3158 - accuracy: 0.8642 - val_loss: 0.4722 - val_accuracy: 0.8333\n",
            "Epoch 41/100\n",
            "6/6 [==============================] - 0s 14ms/step - loss: 0.3195 - accuracy: 0.8765 - val_loss: 0.4692 - val_accuracy: 0.8333\n",
            "Epoch 42/100\n",
            "6/6 [==============================] - 0s 12ms/step - loss: 0.3398 - accuracy: 0.8519 - val_loss: 0.4653 - val_accuracy: 0.8519\n",
            "Epoch 43/100\n",
            "6/6 [==============================] - 0s 12ms/step - loss: 0.3202 - accuracy: 0.8889 - val_loss: 0.4693 - val_accuracy: 0.8333\n",
            "Epoch 44/100\n",
            "6/6 [==============================] - 0s 13ms/step - loss: 0.3233 - accuracy: 0.8642 - val_loss: 0.4755 - val_accuracy: 0.8333\n",
            "Epoch 45/100\n",
            "6/6 [==============================] - 0s 13ms/step - loss: 0.3079 - accuracy: 0.8642 - val_loss: 0.4840 - val_accuracy: 0.8333\n",
            "Epoch 46/100\n",
            "6/6 [==============================] - 0s 10ms/step - loss: 0.3046 - accuracy: 0.8765 - val_loss: 0.4939 - val_accuracy: 0.8333\n",
            "Epoch 47/100\n",
            "6/6 [==============================] - 0s 12ms/step - loss: 0.3163 - accuracy: 0.8951 - val_loss: 0.4999 - val_accuracy: 0.8333\n",
            "Epoch 48/100\n",
            "6/6 [==============================] - 0s 10ms/step - loss: 0.3099 - accuracy: 0.8765 - val_loss: 0.4961 - val_accuracy: 0.8333\n",
            "Epoch 49/100\n",
            "6/6 [==============================] - 0s 10ms/step - loss: 0.3021 - accuracy: 0.8827 - val_loss: 0.4974 - val_accuracy: 0.8333\n",
            "Epoch 50/100\n",
            "6/6 [==============================] - 0s 9ms/step - loss: 0.3045 - accuracy: 0.8951 - val_loss: 0.4963 - val_accuracy: 0.8333\n",
            "Epoch 51/100\n",
            "6/6 [==============================] - 0s 10ms/step - loss: 0.3074 - accuracy: 0.8580 - val_loss: 0.4886 - val_accuracy: 0.8333\n",
            "Epoch 52/100\n",
            "6/6 [==============================] - 0s 9ms/step - loss: 0.3144 - accuracy: 0.8580 - val_loss: 0.4748 - val_accuracy: 0.8333\n",
            "Epoch 53/100\n",
            "6/6 [==============================] - 0s 10ms/step - loss: 0.3098 - accuracy: 0.8827 - val_loss: 0.4721 - val_accuracy: 0.8333\n",
            "Epoch 54/100\n",
            "6/6 [==============================] - 0s 12ms/step - loss: 0.2937 - accuracy: 0.8765 - val_loss: 0.4748 - val_accuracy: 0.8333\n",
            "Epoch 55/100\n",
            "6/6 [==============================] - 0s 12ms/step - loss: 0.2921 - accuracy: 0.8889 - val_loss: 0.4764 - val_accuracy: 0.8333\n",
            "Epoch 56/100\n",
            "6/6 [==============================] - 0s 13ms/step - loss: 0.2994 - accuracy: 0.8827 - val_loss: 0.4760 - val_accuracy: 0.8333\n",
            "Epoch 57/100\n",
            "6/6 [==============================] - 0s 13ms/step - loss: 0.2938 - accuracy: 0.8827 - val_loss: 0.4761 - val_accuracy: 0.8333\n",
            "Epoch 58/100\n",
            "6/6 [==============================] - 0s 14ms/step - loss: 0.2946 - accuracy: 0.8704 - val_loss: 0.4804 - val_accuracy: 0.8333\n",
            "Epoch 59/100\n",
            "6/6 [==============================] - 0s 13ms/step - loss: 0.2860 - accuracy: 0.8889 - val_loss: 0.4909 - val_accuracy: 0.8333\n",
            "Epoch 60/100\n",
            "6/6 [==============================] - 0s 14ms/step - loss: 0.2892 - accuracy: 0.8827 - val_loss: 0.5001 - val_accuracy: 0.8333\n",
            "Epoch 61/100\n",
            "6/6 [==============================] - 0s 10ms/step - loss: 0.2865 - accuracy: 0.8827 - val_loss: 0.5046 - val_accuracy: 0.8333\n",
            "Epoch 62/100\n",
            "6/6 [==============================] - 0s 12ms/step - loss: 0.2977 - accuracy: 0.9012 - val_loss: 0.5053 - val_accuracy: 0.8333\n",
            "Epoch 63/100\n",
            "6/6 [==============================] - 0s 10ms/step - loss: 0.2922 - accuracy: 0.9012 - val_loss: 0.5015 - val_accuracy: 0.8333\n",
            "Epoch 64/100\n",
            "6/6 [==============================] - 0s 10ms/step - loss: 0.2930 - accuracy: 0.8704 - val_loss: 0.4979 - val_accuracy: 0.8333\n",
            "Epoch 65/100\n",
            "6/6 [==============================] - 0s 10ms/step - loss: 0.2952 - accuracy: 0.8889 - val_loss: 0.4872 - val_accuracy: 0.8333\n",
            "Epoch 66/100\n",
            "6/6 [==============================] - 0s 10ms/step - loss: 0.2806 - accuracy: 0.8827 - val_loss: 0.4818 - val_accuracy: 0.8333\n",
            "Epoch 67/100\n",
            "6/6 [==============================] - 0s 10ms/step - loss: 0.2691 - accuracy: 0.8889 - val_loss: 0.4816 - val_accuracy: 0.8333\n",
            "Epoch 68/100\n",
            "6/6 [==============================] - 0s 9ms/step - loss: 0.2884 - accuracy: 0.8889 - val_loss: 0.4940 - val_accuracy: 0.8333\n",
            "Epoch 69/100\n",
            "6/6 [==============================] - 0s 14ms/step - loss: 0.2848 - accuracy: 0.8889 - val_loss: 0.4998 - val_accuracy: 0.8333\n",
            "Epoch 70/100\n",
            "6/6 [==============================] - 0s 14ms/step - loss: 0.2897 - accuracy: 0.8827 - val_loss: 0.5059 - val_accuracy: 0.8333\n",
            "Epoch 71/100\n",
            "6/6 [==============================] - 0s 13ms/step - loss: 0.2882 - accuracy: 0.8704 - val_loss: 0.5092 - val_accuracy: 0.8333\n",
            "Epoch 72/100\n",
            "6/6 [==============================] - 0s 10ms/step - loss: 0.2515 - accuracy: 0.8951 - val_loss: 0.5020 - val_accuracy: 0.8333\n",
            "Epoch 73/100\n",
            "6/6 [==============================] - 0s 13ms/step - loss: 0.2674 - accuracy: 0.8827 - val_loss: 0.4922 - val_accuracy: 0.8333\n",
            "Epoch 74/100\n",
            "6/6 [==============================] - 0s 11ms/step - loss: 0.2840 - accuracy: 0.8889 - val_loss: 0.4769 - val_accuracy: 0.8519\n",
            "Epoch 75/100\n",
            "6/6 [==============================] - 0s 9ms/step - loss: 0.2858 - accuracy: 0.9074 - val_loss: 0.4713 - val_accuracy: 0.8519\n",
            "Epoch 76/100\n",
            "6/6 [==============================] - 0s 9ms/step - loss: 0.2901 - accuracy: 0.8889 - val_loss: 0.4720 - val_accuracy: 0.8519\n",
            "Epoch 77/100\n",
            "6/6 [==============================] - 0s 9ms/step - loss: 0.2795 - accuracy: 0.8951 - val_loss: 0.4774 - val_accuracy: 0.8519\n",
            "Epoch 78/100\n",
            "6/6 [==============================] - 0s 13ms/step - loss: 0.2807 - accuracy: 0.8765 - val_loss: 0.4866 - val_accuracy: 0.8333\n",
            "Epoch 79/100\n",
            "6/6 [==============================] - 0s 11ms/step - loss: 0.2818 - accuracy: 0.8951 - val_loss: 0.4916 - val_accuracy: 0.8333\n",
            "Epoch 80/100\n",
            "6/6 [==============================] - 0s 10ms/step - loss: 0.2705 - accuracy: 0.8642 - val_loss: 0.4971 - val_accuracy: 0.8333\n",
            "Epoch 81/100\n",
            "6/6 [==============================] - 0s 12ms/step - loss: 0.2952 - accuracy: 0.8827 - val_loss: 0.4997 - val_accuracy: 0.8333\n",
            "Epoch 82/100\n",
            "6/6 [==============================] - 0s 10ms/step - loss: 0.2793 - accuracy: 0.8765 - val_loss: 0.4985 - val_accuracy: 0.8333\n",
            "Epoch 83/100\n",
            "6/6 [==============================] - 0s 13ms/step - loss: 0.2736 - accuracy: 0.8827 - val_loss: 0.5057 - val_accuracy: 0.8333\n",
            "Epoch 84/100\n",
            "6/6 [==============================] - 0s 12ms/step - loss: 0.2643 - accuracy: 0.9012 - val_loss: 0.5116 - val_accuracy: 0.8333\n",
            "Epoch 85/100\n",
            "6/6 [==============================] - 0s 10ms/step - loss: 0.2478 - accuracy: 0.9012 - val_loss: 0.5214 - val_accuracy: 0.8333\n",
            "Epoch 86/100\n",
            "6/6 [==============================] - 0s 13ms/step - loss: 0.2615 - accuracy: 0.8951 - val_loss: 0.5328 - val_accuracy: 0.8333\n",
            "Epoch 87/100\n",
            "6/6 [==============================] - 0s 9ms/step - loss: 0.2723 - accuracy: 0.8889 - val_loss: 0.5302 - val_accuracy: 0.8333\n",
            "Epoch 88/100\n",
            "6/6 [==============================] - 0s 13ms/step - loss: 0.2816 - accuracy: 0.9198 - val_loss: 0.5177 - val_accuracy: 0.8333\n",
            "Epoch 89/100\n",
            "6/6 [==============================] - 0s 11ms/step - loss: 0.2706 - accuracy: 0.8889 - val_loss: 0.5098 - val_accuracy: 0.8333\n",
            "Epoch 90/100\n",
            "6/6 [==============================] - 0s 9ms/step - loss: 0.2730 - accuracy: 0.9012 - val_loss: 0.5105 - val_accuracy: 0.8333\n",
            "Epoch 91/100\n",
            "6/6 [==============================] - 0s 9ms/step - loss: 0.2613 - accuracy: 0.9074 - val_loss: 0.5180 - val_accuracy: 0.8333\n",
            "Epoch 92/100\n",
            "6/6 [==============================] - 0s 13ms/step - loss: 0.2492 - accuracy: 0.9012 - val_loss: 0.5207 - val_accuracy: 0.8333\n",
            "Epoch 93/100\n",
            "6/6 [==============================] - 0s 10ms/step - loss: 0.2629 - accuracy: 0.8827 - val_loss: 0.5243 - val_accuracy: 0.8333\n",
            "Epoch 94/100\n",
            "6/6 [==============================] - 0s 12ms/step - loss: 0.2722 - accuracy: 0.8827 - val_loss: 0.5216 - val_accuracy: 0.8333\n",
            "Epoch 95/100\n",
            "6/6 [==============================] - 0s 9ms/step - loss: 0.2613 - accuracy: 0.8889 - val_loss: 0.5107 - val_accuracy: 0.8333\n",
            "Epoch 96/100\n",
            "6/6 [==============================] - 0s 9ms/step - loss: 0.2710 - accuracy: 0.9012 - val_loss: 0.5005 - val_accuracy: 0.8333\n",
            "Epoch 97/100\n",
            "6/6 [==============================] - 0s 13ms/step - loss: 0.2815 - accuracy: 0.8827 - val_loss: 0.4957 - val_accuracy: 0.8519\n",
            "Epoch 98/100\n",
            "6/6 [==============================] - 0s 12ms/step - loss: 0.2502 - accuracy: 0.9074 - val_loss: 0.4933 - val_accuracy: 0.8519\n",
            "Epoch 99/100\n",
            "6/6 [==============================] - 0s 12ms/step - loss: 0.2468 - accuracy: 0.8889 - val_loss: 0.4962 - val_accuracy: 0.8333\n",
            "Epoch 100/100\n",
            "6/6 [==============================] - 0s 10ms/step - loss: 0.2533 - accuracy: 0.9012 - val_loss: 0.4992 - val_accuracy: 0.8333\n",
            "2/2 [==============================] - 0s 8ms/step\n",
            "                         precision    recall  f1-score   support\n",
            "\n",
            " absence of disease (0)       0.79      0.82      0.81        28\n",
            "presence of disease (1)       0.80      0.77      0.78        26\n",
            "\n",
            "               accuracy                           0.80        54\n",
            "              macro avg       0.80      0.80      0.80        54\n",
            "           weighted avg       0.80      0.80      0.80        54\n",
            "\n"
          ]
        },
        {
          "output_type": "display_data",
          "data": {
            "text/plain": [
              "<Figure size 432x288 with 1 Axes>"
            ],
            "image/png": "[encoded data removed]"
          },
          "metadata": {
            "needs_background": "light"
          }
        },
        {
          "output_type": "display_data",
          "data": {
            "text/plain": [
              "<Figure size 432x288 with 1 Axes>"
            ],
            "image/png": "[encoded data removed]"
          },
          "metadata": {
            "needs_background": "light"
          }
        }
      ]
    },
    {
      "cell_type": "markdown",
      "source": [
        "Dokładność: Podobna jak w modelu 0.\n",
        "\n",
        "Precyzja: Podobna jak w modelu 0.\n",
        "\n",
        "Zbieżność: Dokładność modelu bardzo szybko zbiega do około 80% i po około 30 epoce utrzymuje się na tym samym poziomie. Błąd maleje, ale tak jak w przypadku modelu 0 zdaża się, że błąd zbioru walidacyjnego zaczyna rosnąć co oznacza przeuczenie. Sieć ma prawdopodobnie nadal niewłaściwą liczbę neuronów.\n",
        "\n",
        "Złożoność: Znacznie mniejsza złożoność niż w modelu 0.\n",
        "\n",
        "Warstwa ukryta zawiera teraz 30 neuronów z funkcją relu co wymaga wykonania znacznie mniej obliczeń niż we wcześniejszych modelach.\n",
        "\n"
      ],
      "metadata": {
        "id": "i56I8nVCesz6"
      }
    },
    {
      "cell_type": "code",
      "source": [
        "# Krzywa ROC\n",
        "y_proba2 = prediction2[:,1]\n",
        "fpr2, tpr2, _ = roc_curve(y_label2,y_proba2)\n",
        "plt.plot(fpr2,tpr2)\n",
        "plt.xlabel('False Positive Rate')\n",
        "plt.ylabel('True Positive Rate')\n",
        "\n",
        "# Pole powierzchni pod wykresem\n",
        "auc2 = roc_auc_score(y_label2,y_proba2)\n",
        "print('AUC: ', auc2)"
      ],
      "metadata": {
        "colab": {
          "base_uri": "https://localhost:8080/",
          "height": 296
        },
        "id": "Ewt80ucLedry",
        "outputId": "cad3ecaa-0c08-4370-ee23-f06d19b586cd"
      },
      "execution_count": 14,
      "outputs": [
        {
          "output_type": "stream",
          "name": "stdout",
          "text": [
            "AUC:  0.896978021978022\n"
          ]
        },
        {
          "output_type": "display_data",
          "data": {
            "text/plain": [
              "<Figure size 432x288 with 1 Axes>"
            ],
            "image/png": "[encoded data removed]"
          },
          "metadata": {
            "needs_background": "light"
          }
        }
      ]
    },
    {
      "cell_type": "markdown",
      "source": [
        "\n",
        "Wykres jest blisko lewego górnego narożnika, czyli otrzymujemy stosunkowo więcej wyników pozytywnie prawdziwych niż fałszywie prawdziwych. Z tego wynika, że model jest dobrym klasyfikatorem pod warunkiem, że nie przetrenuje się. \n"
      ],
      "metadata": {
        "id": "eeD0K_ShHOVt"
      }
    },
    {
      "cell_type": "markdown",
      "source": [
        "### Model 3\n",
        "\n",
        "Zmiana funkcji aktywacji w warstwie wyjściowej na tanh, który jest odpowiedni do problemów klasyfikacji."
      ],
      "metadata": {
        "id": "Ty1kQukfHbcg"
      }
    },
    {
      "cell_type": "code",
      "source": [
        "# Inicjalizacja modelu\n",
        "model3 = Sequential()\n",
        "\n",
        "# Adding layers\n",
        "model3.add(Dense(61,input_dim=30, activation='relu')) # definiuje mi jednocześnie rozmiar pierwszej warstwy wejściowej i pierwszej ukrytej\n",
        "# Ochrona przed przetrenowaniem\n",
        "model3.add(Dropout(0.2))\n",
        "model3.add(Dense(2,activation='tanh')) \n",
        "\n",
        "\n",
        "# Kompilacja sieci neuronowej\n",
        "model3.compile(loss='binary_crossentropy', optimizer='adam',metrics=['accuracy'])\n",
        "\n",
        "# Trenowanie sieci neuronowej\n",
        "history3 = model3.fit(X_train,y_train,validation_data=(X_valid,y_valid), batch_size=32,epochs=100,verbose=1)\n",
        "\n",
        "# Testowanie sieci\n",
        "prediction3=model3.predict(X_test)\n",
        "y_label3=np.argmax(y_test,axis=1)\n",
        "predict_label3=np.argmax(prediction3,axis=1)\n",
        "\n",
        "# Dokładność i precyzja\n",
        "target_names=[\"absence of disease (0)\", \"presence of disease (1)\"]\n",
        "print(classification_report(y_label3,predict_label3, target_names=target_names))\n",
        "\n",
        "# Podsumowanie historii dokładności\n",
        "plt.plot(history3.history['accuracy'])\n",
        "plt.plot(history3.history['val_accuracy'])\n",
        "plt.title('model accuracy')\n",
        "plt.ylabel('accuracy')\n",
        "plt.xlabel('epoch')\n",
        "plt.legend(['train', 'valid'], loc='upper left')\n",
        "plt.show()\n",
        "# Podsumowanie historii błędu\n",
        "plt.plot(history3.history['loss'])\n",
        "plt.plot(history3.history['val_loss'])\n",
        "plt.title('model loss')\n",
        "plt.ylabel('loss')\n",
        "plt.xlabel('epoch')\n",
        "plt.legend(['train', 'valid'], loc='upper left')\n",
        "plt.show()\n",
        "\n"
      ],
      "metadata": {
        "colab": {
          "base_uri": "https://localhost:8080/",
          "height": 1000
        },
        "id": "Xx-Cx8R7KPXS",
        "outputId": "8f113c26-5565-4094-f9ad-60940d60728d"
      },
      "execution_count": 15,
      "outputs": [
        {
          "output_type": "stream",
          "name": "stdout",
          "text": [
            "Epoch 1/100\n",
            "6/6 [==============================] - 1s 64ms/step - loss: 3.8761 - accuracy: 0.5988 - val_loss: 3.9243 - val_accuracy: 0.5185\n",
            "Epoch 2/100\n",
            "6/6 [==============================] - 0s 13ms/step - loss: 3.3921 - accuracy: 0.5926 - val_loss: 3.7783 - val_accuracy: 0.5185\n",
            "Epoch 3/100\n",
            "6/6 [==============================] - 0s 9ms/step - loss: 3.3564 - accuracy: 0.5926 - val_loss: 3.5434 - val_accuracy: 0.5185\n",
            "Epoch 4/100\n",
            "6/6 [==============================] - 0s 13ms/step - loss: 3.1535 - accuracy: 0.5988 - val_loss: 3.3971 - val_accuracy: 0.5370\n",
            "Epoch 5/100\n",
            "6/6 [==============================] - 0s 13ms/step - loss: 2.8695 - accuracy: 0.6049 - val_loss: 3.0029 - val_accuracy: 0.5556\n",
            "Epoch 6/100\n",
            "6/6 [==============================] - 0s 10ms/step - loss: 2.6154 - accuracy: 0.6235 - val_loss: 2.4912 - val_accuracy: 0.5741\n",
            "Epoch 7/100\n",
            "6/6 [==============================] - 0s 12ms/step - loss: 2.2307 - accuracy: 0.6543 - val_loss: 2.1659 - val_accuracy: 0.6111\n",
            "Epoch 8/100\n",
            "6/6 [==============================] - 0s 11ms/step - loss: 1.6825 - accuracy: 0.7037 - val_loss: 1.6429 - val_accuracy: 0.6667\n",
            "Epoch 9/100\n",
            "6/6 [==============================] - 0s 12ms/step - loss: 1.1543 - accuracy: 0.7593 - val_loss: 1.3289 - val_accuracy: 0.7037\n",
            "Epoch 10/100\n",
            "6/6 [==============================] - 0s 13ms/step - loss: 0.8378 - accuracy: 0.7778 - val_loss: 1.1782 - val_accuracy: 0.7593\n",
            "Epoch 11/100\n",
            "6/6 [==============================] - 0s 9ms/step - loss: 0.8504 - accuracy: 0.8086 - val_loss: 0.7943 - val_accuracy: 0.7593\n",
            "Epoch 12/100\n",
            "6/6 [==============================] - 0s 11ms/step - loss: 0.6513 - accuracy: 0.8025 - val_loss: 0.7640 - val_accuracy: 0.7593\n",
            "Epoch 13/100\n",
            "6/6 [==============================] - 0s 9ms/step - loss: 0.7807 - accuracy: 0.7840 - val_loss: 0.7463 - val_accuracy: 0.7593\n",
            "Epoch 14/100\n",
            "6/6 [==============================] - 0s 14ms/step - loss: 0.6762 - accuracy: 0.7840 - val_loss: 0.7319 - val_accuracy: 0.7593\n",
            "Epoch 15/100\n",
            "6/6 [==============================] - 0s 13ms/step - loss: 0.5670 - accuracy: 0.8272 - val_loss: 0.7124 - val_accuracy: 0.7963\n",
            "Epoch 16/100\n",
            "6/6 [==============================] - 0s 10ms/step - loss: 0.5655 - accuracy: 0.8333 - val_loss: 0.5201 - val_accuracy: 0.7963\n",
            "Epoch 17/100\n",
            "6/6 [==============================] - 0s 10ms/step - loss: 0.5264 - accuracy: 0.8457 - val_loss: 0.5909 - val_accuracy: 0.7963\n",
            "Epoch 18/100\n",
            "6/6 [==============================] - 0s 13ms/step - loss: 0.4794 - accuracy: 0.8642 - val_loss: 0.6855 - val_accuracy: 0.8148\n",
            "Epoch 19/100\n",
            "6/6 [==============================] - 0s 13ms/step - loss: 0.4376 - accuracy: 0.8580 - val_loss: 0.6746 - val_accuracy: 0.8148\n",
            "Epoch 20/100\n",
            "6/6 [==============================] - 0s 13ms/step - loss: 0.3630 - accuracy: 0.8704 - val_loss: 0.6776 - val_accuracy: 0.8148\n",
            "Epoch 21/100\n",
            "6/6 [==============================] - 0s 10ms/step - loss: 0.5078 - accuracy: 0.8827 - val_loss: 0.6917 - val_accuracy: 0.8148\n",
            "Epoch 22/100\n",
            "6/6 [==============================] - 0s 10ms/step - loss: 0.6133 - accuracy: 0.8704 - val_loss: 0.7058 - val_accuracy: 0.7963\n",
            "Epoch 23/100\n",
            "6/6 [==============================] - 0s 13ms/step - loss: 0.4995 - accuracy: 0.8889 - val_loss: 0.7025 - val_accuracy: 0.7963\n",
            "Epoch 24/100\n",
            "6/6 [==============================] - 0s 16ms/step - loss: 0.6165 - accuracy: 0.8642 - val_loss: 0.6962 - val_accuracy: 0.8148\n",
            "Epoch 25/100\n",
            "6/6 [==============================] - 0s 11ms/step - loss: 0.5599 - accuracy: 0.8580 - val_loss: 0.7023 - val_accuracy: 0.7963\n",
            "Epoch 26/100\n",
            "6/6 [==============================] - 0s 13ms/step - loss: 0.5075 - accuracy: 0.8580 - val_loss: 0.7026 - val_accuracy: 0.7963\n",
            "Epoch 27/100\n",
            "6/6 [==============================] - 0s 13ms/step - loss: 0.4889 - accuracy: 0.8765 - val_loss: 0.7132 - val_accuracy: 0.7963\n",
            "Epoch 28/100\n",
            "6/6 [==============================] - 0s 12ms/step - loss: 0.4985 - accuracy: 0.8580 - val_loss: 0.7408 - val_accuracy: 0.7963\n",
            "Epoch 29/100\n",
            "6/6 [==============================] - 0s 10ms/step - loss: 0.4579 - accuracy: 0.8827 - val_loss: 0.7150 - val_accuracy: 0.8148\n",
            "Epoch 30/100\n",
            "6/6 [==============================] - 0s 10ms/step - loss: 0.4583 - accuracy: 0.8704 - val_loss: 0.7056 - val_accuracy: 0.8333\n",
            "Epoch 31/100\n",
            "6/6 [==============================] - 0s 9ms/step - loss: 0.3197 - accuracy: 0.8765 - val_loss: 0.7160 - val_accuracy: 0.8148\n",
            "Epoch 32/100\n",
            "6/6 [==============================] - 0s 13ms/step - loss: 0.3703 - accuracy: 0.8827 - val_loss: 0.7318 - val_accuracy: 0.7963\n",
            "Epoch 33/100\n",
            "6/6 [==============================] - 0s 9ms/step - loss: 0.3922 - accuracy: 0.8827 - val_loss: 0.6884 - val_accuracy: 0.8333\n",
            "Epoch 34/100\n",
            "6/6 [==============================] - 0s 10ms/step - loss: 0.3530 - accuracy: 0.8889 - val_loss: 0.6806 - val_accuracy: 0.8148\n",
            "Epoch 35/100\n",
            "6/6 [==============================] - 0s 10ms/step - loss: 0.4196 - accuracy: 0.8580 - val_loss: 0.6821 - val_accuracy: 0.8148\n",
            "Epoch 36/100\n",
            "6/6 [==============================] - 0s 9ms/step - loss: 0.3646 - accuracy: 0.8889 - val_loss: 0.6886 - val_accuracy: 0.8148\n",
            "Epoch 37/100\n",
            "6/6 [==============================] - 0s 15ms/step - loss: 0.4449 - accuracy: 0.8580 - val_loss: 0.7079 - val_accuracy: 0.7963\n",
            "Epoch 38/100\n",
            "6/6 [==============================] - 0s 13ms/step - loss: 0.3363 - accuracy: 0.8951 - val_loss: 0.9438 - val_accuracy: 0.7963\n",
            "Epoch 39/100\n",
            "6/6 [==============================] - 0s 13ms/step - loss: 0.3645 - accuracy: 0.9074 - val_loss: 1.0577 - val_accuracy: 0.7963\n",
            "Epoch 40/100\n",
            "6/6 [==============================] - 0s 13ms/step - loss: 0.3293 - accuracy: 0.9012 - val_loss: 1.0559 - val_accuracy: 0.7778\n",
            "Epoch 41/100\n",
            "6/6 [==============================] - 0s 16ms/step - loss: 0.3359 - accuracy: 0.8889 - val_loss: 1.0547 - val_accuracy: 0.7778\n",
            "Epoch 42/100\n",
            "6/6 [==============================] - 0s 13ms/step - loss: 0.4092 - accuracy: 0.8765 - val_loss: 1.0525 - val_accuracy: 0.7778\n",
            "Epoch 43/100\n",
            "6/6 [==============================] - 0s 14ms/step - loss: 0.3536 - accuracy: 0.8951 - val_loss: 1.0512 - val_accuracy: 0.7778\n",
            "Epoch 44/100\n",
            "6/6 [==============================] - 0s 13ms/step - loss: 0.4198 - accuracy: 0.8765 - val_loss: 1.0500 - val_accuracy: 0.7778\n",
            "Epoch 45/100\n",
            "6/6 [==============================] - 0s 12ms/step - loss: 0.3769 - accuracy: 0.8765 - val_loss: 1.0449 - val_accuracy: 0.7963\n",
            "Epoch 46/100\n",
            "6/6 [==============================] - 0s 9ms/step - loss: 0.3741 - accuracy: 0.8827 - val_loss: 1.0420 - val_accuracy: 0.7963\n",
            "Epoch 47/100\n",
            "6/6 [==============================] - 0s 10ms/step - loss: 0.4194 - accuracy: 0.8519 - val_loss: 1.0431 - val_accuracy: 0.7963\n",
            "Epoch 48/100\n",
            "6/6 [==============================] - 0s 13ms/step - loss: 0.3665 - accuracy: 0.8889 - val_loss: 1.0444 - val_accuracy: 0.7963\n",
            "Epoch 49/100\n",
            "6/6 [==============================] - 0s 9ms/step - loss: 0.3763 - accuracy: 0.9012 - val_loss: 1.0442 - val_accuracy: 0.7963\n",
            "Epoch 50/100\n",
            "6/6 [==============================] - 0s 13ms/step - loss: 0.3353 - accuracy: 0.9074 - val_loss: 1.0475 - val_accuracy: 0.7963\n",
            "Epoch 51/100\n",
            "6/6 [==============================] - 0s 10ms/step - loss: 0.3795 - accuracy: 0.8951 - val_loss: 1.0469 - val_accuracy: 0.7963\n",
            "Epoch 52/100\n",
            "6/6 [==============================] - 0s 13ms/step - loss: 0.2898 - accuracy: 0.8827 - val_loss: 1.0459 - val_accuracy: 0.7963\n",
            "Epoch 53/100\n",
            "6/6 [==============================] - 0s 13ms/step - loss: 0.4027 - accuracy: 0.9074 - val_loss: 1.0494 - val_accuracy: 0.7963\n",
            "Epoch 54/100\n",
            "6/6 [==============================] - 0s 11ms/step - loss: 0.4568 - accuracy: 0.9012 - val_loss: 1.0517 - val_accuracy: 0.7963\n",
            "Epoch 55/100\n",
            "6/6 [==============================] - 0s 11ms/step - loss: 0.3444 - accuracy: 0.9074 - val_loss: 1.0520 - val_accuracy: 0.7963\n",
            "Epoch 56/100\n",
            "6/6 [==============================] - 0s 9ms/step - loss: 0.3771 - accuracy: 0.8889 - val_loss: 1.0492 - val_accuracy: 0.7963\n",
            "Epoch 57/100\n",
            "6/6 [==============================] - 0s 12ms/step - loss: 0.3636 - accuracy: 0.9136 - val_loss: 1.0509 - val_accuracy: 0.7963\n",
            "Epoch 58/100\n",
            "6/6 [==============================] - 0s 13ms/step - loss: 0.4419 - accuracy: 0.9012 - val_loss: 1.0509 - val_accuracy: 0.7963\n",
            "Epoch 59/100\n",
            "6/6 [==============================] - 0s 13ms/step - loss: 0.3296 - accuracy: 0.8827 - val_loss: 1.0433 - val_accuracy: 0.7963\n",
            "Epoch 60/100\n",
            "6/6 [==============================] - 0s 13ms/step - loss: 0.3894 - accuracy: 0.8889 - val_loss: 1.0384 - val_accuracy: 0.7963\n",
            "Epoch 61/100\n",
            "6/6 [==============================] - 0s 10ms/step - loss: 0.4041 - accuracy: 0.9074 - val_loss: 1.0388 - val_accuracy: 0.7963\n",
            "Epoch 62/100\n",
            "6/6 [==============================] - 0s 13ms/step - loss: 0.3147 - accuracy: 0.9198 - val_loss: 1.0399 - val_accuracy: 0.7963\n",
            "Epoch 63/100\n",
            "6/6 [==============================] - 0s 10ms/step - loss: 0.2664 - accuracy: 0.8765 - val_loss: 1.0420 - val_accuracy: 0.7963\n",
            "Epoch 64/100\n",
            "6/6 [==============================] - 0s 11ms/step - loss: 0.3296 - accuracy: 0.9321 - val_loss: 1.0425 - val_accuracy: 0.7963\n",
            "Epoch 65/100\n",
            "6/6 [==============================] - 0s 13ms/step - loss: 0.3321 - accuracy: 0.8951 - val_loss: 1.0432 - val_accuracy: 0.7963\n",
            "Epoch 66/100\n",
            "6/6 [==============================] - 0s 11ms/step - loss: 0.3408 - accuracy: 0.9012 - val_loss: 1.0448 - val_accuracy: 0.7963\n",
            "Epoch 67/100\n",
            "6/6 [==============================] - 0s 11ms/step - loss: 0.2741 - accuracy: 0.9074 - val_loss: 1.0492 - val_accuracy: 0.7963\n",
            "Epoch 68/100\n",
            "6/6 [==============================] - 0s 13ms/step - loss: 0.3301 - accuracy: 0.8765 - val_loss: 1.0528 - val_accuracy: 0.7963\n",
            "Epoch 69/100\n",
            "6/6 [==============================] - 0s 17ms/step - loss: 0.3988 - accuracy: 0.9012 - val_loss: 1.0604 - val_accuracy: 0.7963\n",
            "Epoch 70/100\n",
            "6/6 [==============================] - 0s 10ms/step - loss: 0.2690 - accuracy: 0.9074 - val_loss: 1.0647 - val_accuracy: 0.7778\n",
            "Epoch 71/100\n",
            "6/6 [==============================] - 0s 11ms/step - loss: 0.2819 - accuracy: 0.8951 - val_loss: 1.0641 - val_accuracy: 0.7778\n",
            "Epoch 72/100\n",
            "6/6 [==============================] - 0s 9ms/step - loss: 0.2899 - accuracy: 0.8827 - val_loss: 1.0614 - val_accuracy: 0.7778\n",
            "Epoch 73/100\n",
            "6/6 [==============================] - 0s 13ms/step - loss: 0.3118 - accuracy: 0.9012 - val_loss: 1.0628 - val_accuracy: 0.7778\n",
            "Epoch 74/100\n",
            "6/6 [==============================] - 0s 10ms/step - loss: 0.3228 - accuracy: 0.8889 - val_loss: 1.0634 - val_accuracy: 0.7778\n",
            "Epoch 75/100\n",
            "6/6 [==============================] - 0s 13ms/step - loss: 0.3534 - accuracy: 0.9074 - val_loss: 1.0657 - val_accuracy: 0.7778\n",
            "Epoch 76/100\n",
            "6/6 [==============================] - 0s 12ms/step - loss: 0.3311 - accuracy: 0.8704 - val_loss: 1.0697 - val_accuracy: 0.7778\n",
            "Epoch 77/100\n",
            "6/6 [==============================] - 0s 10ms/step - loss: 0.2638 - accuracy: 0.9136 - val_loss: 1.0739 - val_accuracy: 0.7778\n",
            "Epoch 78/100\n",
            "6/6 [==============================] - 0s 12ms/step - loss: 0.2961 - accuracy: 0.9259 - val_loss: 1.0854 - val_accuracy: 0.7778\n",
            "Epoch 79/100\n",
            "6/6 [==============================] - 0s 14ms/step - loss: 0.2796 - accuracy: 0.9012 - val_loss: 1.1004 - val_accuracy: 0.7778\n",
            "Epoch 80/100\n",
            "6/6 [==============================] - 0s 10ms/step - loss: 0.2758 - accuracy: 0.9136 - val_loss: 1.0964 - val_accuracy: 0.7778\n",
            "Epoch 81/100\n",
            "6/6 [==============================] - 0s 13ms/step - loss: 0.3990 - accuracy: 0.9259 - val_loss: 1.0879 - val_accuracy: 0.7778\n",
            "Epoch 82/100\n",
            "6/6 [==============================] - 0s 10ms/step - loss: 0.3247 - accuracy: 0.9074 - val_loss: 1.0811 - val_accuracy: 0.7778\n",
            "Epoch 83/100\n",
            "6/6 [==============================] - 0s 10ms/step - loss: 0.2984 - accuracy: 0.9136 - val_loss: 1.0717 - val_accuracy: 0.7963\n",
            "Epoch 84/100\n",
            "6/6 [==============================] - 0s 14ms/step - loss: 0.2667 - accuracy: 0.9012 - val_loss: 1.0678 - val_accuracy: 0.7963\n",
            "Epoch 85/100\n",
            "6/6 [==============================] - 0s 10ms/step - loss: 0.2921 - accuracy: 0.9136 - val_loss: 1.0661 - val_accuracy: 0.7963\n",
            "Epoch 86/100\n",
            "6/6 [==============================] - 0s 10ms/step - loss: 0.2768 - accuracy: 0.9198 - val_loss: 1.0650 - val_accuracy: 0.8148\n",
            "Epoch 87/100\n",
            "6/6 [==============================] - 0s 10ms/step - loss: 0.2594 - accuracy: 0.9198 - val_loss: 1.0671 - val_accuracy: 0.8148\n",
            "Epoch 88/100\n",
            "6/6 [==============================] - 0s 11ms/step - loss: 0.3141 - accuracy: 0.8951 - val_loss: 1.0699 - val_accuracy: 0.8148\n",
            "Epoch 89/100\n",
            "6/6 [==============================] - 0s 10ms/step - loss: 0.2548 - accuracy: 0.9136 - val_loss: 1.0731 - val_accuracy: 0.7963\n",
            "Epoch 90/100\n",
            "6/6 [==============================] - 0s 10ms/step - loss: 0.2731 - accuracy: 0.8827 - val_loss: 1.0733 - val_accuracy: 0.8148\n",
            "Epoch 91/100\n",
            "6/6 [==============================] - 0s 12ms/step - loss: 0.2586 - accuracy: 0.8827 - val_loss: 1.0745 - val_accuracy: 0.8148\n",
            "Epoch 92/100\n",
            "6/6 [==============================] - 0s 11ms/step - loss: 0.2479 - accuracy: 0.9259 - val_loss: 1.0739 - val_accuracy: 0.8148\n",
            "Epoch 93/100\n",
            "6/6 [==============================] - 0s 13ms/step - loss: 0.2527 - accuracy: 0.9074 - val_loss: 1.0733 - val_accuracy: 0.8148\n",
            "Epoch 94/100\n",
            "6/6 [==============================] - 0s 11ms/step - loss: 0.3359 - accuracy: 0.8951 - val_loss: 1.0744 - val_accuracy: 0.8148\n",
            "Epoch 95/100\n",
            "6/6 [==============================] - 0s 13ms/step - loss: 0.2387 - accuracy: 0.9074 - val_loss: 1.0767 - val_accuracy: 0.8148\n",
            "Epoch 96/100\n",
            "6/6 [==============================] - 0s 10ms/step - loss: 0.2644 - accuracy: 0.9136 - val_loss: 1.0799 - val_accuracy: 0.8148\n",
            "Epoch 97/100\n",
            "6/6 [==============================] - 0s 11ms/step - loss: 0.2568 - accuracy: 0.9012 - val_loss: 1.0806 - val_accuracy: 0.8148\n",
            "Epoch 98/100\n",
            "6/6 [==============================] - 0s 13ms/step - loss: 0.2514 - accuracy: 0.9074 - val_loss: 1.0801 - val_accuracy: 0.7963\n",
            "Epoch 99/100\n",
            "6/6 [==============================] - 0s 10ms/step - loss: 0.2505 - accuracy: 0.9259 - val_loss: 1.0819 - val_accuracy: 0.7963\n",
            "Epoch 100/100\n",
            "6/6 [==============================] - 0s 9ms/step - loss: 0.2534 - accuracy: 0.9198 - val_loss: 1.0837 - val_accuracy: 0.7963\n",
            "2/2 [==============================] - 0s 5ms/step\n",
            "                         precision    recall  f1-score   support\n",
            "\n",
            " absence of disease (0)       0.81      0.75      0.78        28\n",
            "presence of disease (1)       0.75      0.81      0.78        26\n",
            "\n",
            "               accuracy                           0.78        54\n",
            "              macro avg       0.78      0.78      0.78        54\n",
            "           weighted avg       0.78      0.78      0.78        54\n",
            "\n"
          ]
        },
        {
          "output_type": "display_data",
          "data": {
            "text/plain": [
              "<Figure size 432x288 with 1 Axes>"
            ],
            "image/png": "[encoded data removed]"
          },
          "metadata": {
            "needs_background": "light"
          }
        },
        {
          "output_type": "display_data",
          "data": {
            "text/plain": [
              "<Figure size 432x288 with 1 Axes>"
            ],
            "image/png": "[encoded data removed]"
          },
          "metadata": {
            "needs_background": "light"
          }
        }
      ]
    },
    {
      "cell_type": "markdown",
      "source": [
        "Dokładność: Jest porównywalna jak w modelu 0.\n",
        "\n",
        "Precyzja: Zbliżona jak model 0.\n",
        "\n",
        "Zbieżność: Dokładność oscyluje w okolicach 80% po około 40 epokach. Błąd bardzo szybko spada, aby następnie wzrosnąć co również może być wynikiem przetrenowania.  \n",
        "\n",
        "Złożoność: Budowa podobna jak model 0. \n",
        "\n",
        "Jedyna zmiana w stosunku do modelu 0 to funkcja aktywacji w warstwie wyjściowej ustawiona na tanh, która nie jest skomplikowana do obliczenia."
      ],
      "metadata": {
        "id": "dqW-2p2Sc91C"
      }
    },
    {
      "cell_type": "code",
      "source": [
        "# Krzywa ROC\n",
        "y_proba3 = prediction3[:,1]\n",
        "fpr3, tpr3, _ = roc_curve(y_label3,y_proba3)\n",
        "plt.plot(fpr3,tpr3)\n",
        "plt.xlabel('False Positive Rate')\n",
        "plt.ylabel('True Positive Rate')\n",
        "\n",
        "# Pole powierzchni pod krzywą\n",
        "auc3 = roc_auc_score(y_label3,y_proba3)\n",
        "print('AUC: ', auc3)\n"
      ],
      "metadata": {
        "colab": {
          "base_uri": "https://localhost:8080/",
          "height": 296
        },
        "id": "5FpoKkAzcjTM",
        "outputId": "183763f6-0c0a-4e31-beef-06ca18e7310a"
      },
      "execution_count": 16,
      "outputs": [
        {
          "output_type": "stream",
          "name": "stdout",
          "text": [
            "AUC:  0.8928571428571429\n"
          ]
        },
        {
          "output_type": "display_data",
          "data": {
            "text/plain": [
              "<Figure size 432x288 with 1 Axes>"
            ],
            "image/png": "[encoded data removed]"
          },
          "metadata": {
            "needs_background": "light"
          }
        }
      ]
    },
    {
      "cell_type": "markdown",
      "source": [
        "\n",
        "Wykres jest blisko lewego górnego narożnika, czyli otrzymujemy stosunkowo więcej wyników pozytywnie prawdziwych niż fałszywie prawdziwych. Z tego wynika, że model jest dobrym klasyfikatorem pod warunkiem, że nie przetrenuje się. \n"
      ],
      "metadata": {
        "id": "B8LNwstrKyM_"
      }
    },
    {
      "cell_type": "markdown",
      "source": [
        "## Podsumowanie\n",
        "\n",
        "\n",
        "Wyniki dla wszystkich modeli są bardzo zmienne, jednak widać pewną powtarzalność w wynikach dla poszczególnych modeli. Model 0, 1, 2 i 3 osiągają dość często wysoką dokładność wyników oraz precyzje dla poszczególnych klas. Jednocześnie przy zadanej liczbie epok osiągają zbieżność szybciej lub wolniej. Z modeli powyżej można stwierdzić, że najlepszy jest model 1 ponieważ jako jedyny nie miał problemu z przetrenowaniem.\n"
      ],
      "metadata": {
        "id": "lv8RNjIX99-G"
      }
    }
  ]
}