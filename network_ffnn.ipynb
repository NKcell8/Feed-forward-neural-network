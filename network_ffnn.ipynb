{
  "nbformat": 4,
  "nbformat_minor": 0,
  "metadata": {
    "colab": {
      "provenance": []
    },
    "kernelspec": {
      "name": "python3",
      "display_name": "Python 3"
    },
    "language_info": {
      "name": "python"
    }
  },
  "cells": [
    {
      "cell_type": "markdown",
      "source": [
        "Statlog (Heart) Data Set\n",
        "------------------------\n",
        "\n",
        "W zbiorze danych możemy znaleźć następujące informacje, które posłużą nam do przewidzenia czy u osoby o danym zestawie atrybutów występuje choroba serca czy nie.\n",
        "\n",
        "Atrybuty:\n",
        "------------------------\n",
        "1. wiek\n",
        "2. płeć\n",
        "3. typ bólu w klatce piersiowej (4 wartości)\n",
        "4. ciśnienie krwi w spoczynku\n",
        "5. cholesterol w surowicy krwi [mg/dl]\n",
        "6. cukier w krwi naczczo > 120 [mg/dl]\n",
        "7. wynik elektrokardiograficzny w spoczynku (wartości 0,1,2)\n",
        "8. osiągnięta maksymalna częstość akcji serca\n",
        "9. dławica piersiowa indukowana wysiłkiem\n",
        "10. oldpeak = obniżenie odcinka ST wywołane wysiłkiem fizycznym w stosunku do spoczynku  \n",
        "11. szczytowe nachylenie odcinka ST w czasie wysiłku fizycznego \n",
        "12. liczba głównych naczyń (0-3) pokolorowanych przez fluoroskopię  \n",
        "13. hemoglobina(poziom) thal: 3 = normalny; 6 = utrwalony ubytek; 7 = odwracalny ubytek\n",
        "\n",
        "Dysponujemy:\n",
        "-------------\n",
        "- 270 rekordami\n",
        "- 2 klasy danych (choroba lub jej brak)\n",
        "- 13 atrybutów\n",
        "- z klasy brak choroby mamy 150 przypadków, a klasy choroba 120  \n"
      ],
      "metadata": {
        "id": "IpqzjhWJDQPp"
      }
    },
    {
      "cell_type": "markdown",
      "source": [
        "# Sieć FFNN\n",
        "\n",
        "-----------------"
      ],
      "metadata": {
        "id": "vaUqFNbVZILJ"
      }
    },
    {
      "cell_type": "markdown",
      "source": [
        "## Przygotowywanie danych"
      ],
      "metadata": {
        "id": "CWJhu9MtY2n6"
      }
    },
    {
      "cell_type": "markdown",
      "source": [
        "### Importowanie\n",
        "\n",
        "Poniżej zainportowano niezbędne w dalszej pracy biblioteki. Oraz wczytano zbiór danych w formie DataFrame. Nastepnie wypisano zbiór danych oraz sprawdzono, czy nie ma brakujących wartości. Z otrzymanych danych wynika, że zbiór jest pełny. \n"
      ],
      "metadata": {
        "id": "Z9VAPtyaIadw"
      }
    },
    {
      "cell_type": "code",
      "source": [
        "\n",
        "import pandas as pd #załadowanie danych i ich obróbka  \n",
        "import seaborn as sns #wizualizacja \n",
        "import matplotlib.pyplot as plt #wizualizacja\n",
        "import numpy as np # algebra\n",
        "from sklearn.preprocessing import normalize # ML algorytmy \n",
        "from sklearn.metrics import roc_curve, roc_auc_score, classification_report # Krzywa roc, auc, raport o klasyfikacji\n",
        "\n",
        "\n",
        "df = pd.read_csv('heart.data', delimiter = ' ' ,index_col=False)\n",
        "print(df.info())\n",
        "\n"
      ],
      "metadata": {
        "colab": {
          "base_uri": "https://localhost:8080/"
        },
        "id": "JIt6F9OPCzLm",
        "outputId": "ee59a97b-259d-49d8-e920-878b2b411c55"
      },
      "execution_count": null,
      "outputs": [
        {
          "output_type": "stream",
          "name": "stdout",
          "text": [
            "<class 'pandas.core.frame.DataFrame'>\n",
            "RangeIndex: 270 entries, 0 to 269\n",
            "Data columns (total 14 columns):\n",
            " #   Column                                     Non-Null Count  Dtype  \n",
            "---  ------                                     --------------  -----  \n",
            " 0   age                                        270 non-null    float64\n",
            " 1   sex                                        270 non-null    float64\n",
            " 2   chest_pain_type                            270 non-null    float64\n",
            " 3   resting_blood_pressure                     270 non-null    float64\n",
            " 4   serum_cholestoral_in_mg/dl                 270 non-null    float64\n",
            " 5   fasting_blood_sugar_>_120_mg/dl            270 non-null    float64\n",
            " 6   resting_electrocardiographic_results       270 non-null    float64\n",
            " 7   maximum_heart_rate_achieved                270 non-null    float64\n",
            " 8   exercise_induced_angina                    270 non-null    float64\n",
            " 9   oldpeak                                    270 non-null    float64\n",
            " 10  the_slope_of_the_peak_exercise_ST_segment  270 non-null    float64\n",
            " 11  number_of_major_vessels                    270 non-null    float64\n",
            " 12  thal                                       270 non-null    float64\n",
            " 13  absence_(1)_or_presence_(2)_heart_disease  270 non-null    int64  \n",
            "dtypes: float64(13), int64(1)\n",
            "memory usage: 29.7 KB\n",
            "None\n"
          ]
        }
      ]
    },
    {
      "cell_type": "markdown",
      "source": [
        "### Wizualizacja wybranych atrybutów zbioru\n",
        "\n",
        "Poniżej znajdują się wykresy, które mają za zadanie zobrazować część występujących zależności między danymi.\n",
        "\n",
        "Pierwszy to heatmap, która pokazuje korelacje pomiędzy istniejącymi kolumnami. Im jaśniejszy albo ciemniejszy kolor tym bardziej skorelowane (współwystępują razem) są ze sobą dane.\n",
        "\n",
        "Z heatmapy mogę odczytać na przykład, że maksymalne tętno jest skorelowane z wiekiem oraz kolumną oldpeak. Dlatego te dane zostały naniesione na wykresy."
      ],
      "metadata": {
        "id": "iMs6XJKdWULP"
      }
    },
    {
      "cell_type": "code",
      "source": [
        "\n",
        "sns.heatmap(df.corr())\n",
        "\n",
        "\n",
        "sns.lmplot('age', 'maximum_heart_rate_achieved',\n",
        "           data=df,\n",
        "           fit_reg=False,\n",
        "           hue='absence_(1)_or_presence_(2)_heart_disease')\n",
        "plt.title('Age vs maximum heart rate')\n",
        "\n"
      ],
      "metadata": {
        "colab": {
          "base_uri": "https://localhost:8080/",
          "height": 928
        },
        "id": "-sgEHkEoVBJL",
        "outputId": "99f0389a-fd2a-4011-e593-3121af361895"
      },
      "execution_count": null,
      "outputs": [
        {
          "output_type": "stream",
          "name": "stderr",
          "text": [
            "/usr/local/lib/python3.7/dist-packages/seaborn/_decorators.py:43: FutureWarning: Pass the following variables as keyword args: x, y. From version 0.12, the only valid positional argument will be `data`, and passing other arguments without an explicit keyword will result in an error or misinterpretation.\n",
            "  FutureWarning\n"
          ]
        },
        {
          "output_type": "execute_result",
          "data": {
            "text/plain": [
              "Text(0.5, 1.0, 'Age vs maximum heart rate')"
            ]
          },
          "metadata": {},
          "execution_count": 199
        },
        {
          "output_type": "display_data",
          "data": {
            "text/plain": [
              "<Figure size 432x288 with 2 Axes>"
            ],
            "image/png": "[encoded data removed]"
          },
          "metadata": {
            "needs_background": "light"
          }
        },
        {
          "output_type": "display_data",
          "data": {
            "text/plain": [
              "<Figure size 588.5x360 with 1 Axes>"
            ],
            "image/png": "[encoded data removed]"
          },
          "metadata": {
            "needs_background": "light"
          }
        }
      ]
    },
    {
      "cell_type": "markdown",
      "source": [
        "Wykres [age vs maximum heart rate]\n",
        "\n",
        "Wykres pokazuje, że większość osób chorych jest w wieku 50-70 lat, ale to głównie ludzie zdrowi mają wyższe tętno.\n"
      ],
      "metadata": {
        "id": "rxrpoL0GWq1d"
      }
    },
    {
      "cell_type": "markdown",
      "source": [
        "### Przygotowanie wektora wejściowego dla sieci\n",
        "\n",
        "Najpierw wybrano odpowiednie kolumny ze zbioru danych, tak aby otrzymać dane wejściowe i wyjściowe.\n",
        "\n",
        "Następnie zamieniono kolumne z wiekiem na kategorie, ponieważ po zakodowaniu wartości z niej na właściwej liczbie bitów można je podać sieci tak aby zostały adekwatnie zinterpretowane.\n",
        "\n",
        "Dalej wszystkie dane kategoryczne zostały zakodowane na odpowiedniej liczbie bitów.\n",
        "\n",
        "Ostatecznie zbiór danych został przeskalowany do wartości z zakresu od 0 do 1, ponieważ algorytm działający podczas treningu sieci taki jak, gradient descent, lepiej sobie radzi z danymi które są w podobnej skali."
      ],
      "metadata": {
        "id": "X-aPrEbh68ee"
      }
    },
    {
      "cell_type": "code",
      "source": [
        "from sklearn.preprocessing import MinMaxScaler\n",
        "\n",
        "# Wybranie odpowiednich kolumn\n",
        "X = df.iloc[:,:-1]\n",
        "y = df.iloc[:,-1].values\n",
        "\n",
        "# Zamiana kolumny wiek na klasy\n",
        "# 21-40 lat -> 0\n",
        "# 41-60 lat -> 1\n",
        "# 61-90 lat -> 2\n",
        "\n",
        "bins = [20,40,60,90]\n",
        "labels = [0,1,2]\n",
        "X['age'] = pd.cut(X.age,bins,labels=labels)\n",
        "\n",
        "# Zakodowanie danych kategoryczny\n",
        "X = pd.get_dummies(data=X, columns=[\"age\",\"sex\", \"chest_pain_type\", \"fasting_blood_sugar_>_120_mg/dl\", \"resting_electrocardiographic_results\", \"exercise_induced_angina\", \"the_slope_of_the_peak_exercise_ST_segment\", \"number_of_major_vessels\", \"thal\"])\n",
        "\n",
        "# Skalowanie danych\n",
        "data = X.select_dtypes(np.number)\n",
        "X[data.columns] = MinMaxScaler().fit_transform(data)\n",
        "X\n"
      ],
      "metadata": {
        "colab": {
          "base_uri": "https://localhost:8080/",
          "height": 488
        },
        "id": "i50vpfLR7g4N",
        "outputId": "2f9bfa89-4416-4a90-8833-38238c5ac8a1"
      },
      "execution_count": null,
      "outputs": [
        {
          "output_type": "execute_result",
          "data": {
            "text/plain": [
              "     resting_blood_pressure  serum_cholestoral_in_mg/dl  \\\n",
              "0                  0.339623                    0.447489   \n",
              "1                  0.198113                    1.000000   \n",
              "2                  0.283019                    0.308219   \n",
              "3                  0.320755                    0.312785   \n",
              "4                  0.245283                    0.326484   \n",
              "..                      ...                         ...   \n",
              "265                0.735849                    0.166667   \n",
              "266                0.245283                    0.312785   \n",
              "267                0.433962                    0.383562   \n",
              "268                0.433962                    0.150685   \n",
              "269                0.622642                    0.365297   \n",
              "\n",
              "     maximum_heart_rate_achieved   oldpeak  age_0  age_1  age_2  sex_0.0  \\\n",
              "0                       0.290076  0.387097    0.0    0.0    1.0      0.0   \n",
              "1                       0.679389  0.258065    0.0    0.0    1.0      1.0   \n",
              "2                       0.534351  0.048387    0.0    1.0    0.0      0.0   \n",
              "3                       0.259542  0.032258    0.0    0.0    1.0      0.0   \n",
              "4                       0.381679  0.032258    0.0    0.0    1.0      1.0   \n",
              "..                           ...       ...    ...    ...    ...      ...   \n",
              "265                     0.694656  0.080645    0.0    1.0    0.0      0.0   \n",
              "266                     0.778626  0.000000    0.0    1.0    0.0      0.0   \n",
              "267                     0.625954  0.209677    0.0    1.0    0.0      1.0   \n",
              "268                     0.587786  0.064516    0.0    1.0    0.0      0.0   \n",
              "269                     0.282443  0.241935    0.0    0.0    1.0      0.0   \n",
              "\n",
              "     sex_1.0  chest_pain_type_1.0  ...  \\\n",
              "0        1.0                  0.0  ...   \n",
              "1        0.0                  0.0  ...   \n",
              "2        1.0                  0.0  ...   \n",
              "3        1.0                  0.0  ...   \n",
              "4        0.0                  0.0  ...   \n",
              "..       ...                  ...  ...   \n",
              "265      1.0                  0.0  ...   \n",
              "266      1.0                  0.0  ...   \n",
              "267      0.0                  0.0  ...   \n",
              "268      1.0                  0.0  ...   \n",
              "269      1.0                  0.0  ...   \n",
              "\n",
              "     the_slope_of_the_peak_exercise_ST_segment_1.0  \\\n",
              "0                                              0.0   \n",
              "1                                              0.0   \n",
              "2                                              1.0   \n",
              "3                                              0.0   \n",
              "4                                              1.0   \n",
              "..                                             ...   \n",
              "265                                            1.0   \n",
              "266                                            1.0   \n",
              "267                                            0.0   \n",
              "268                                            0.0   \n",
              "269                                            0.0   \n",
              "\n",
              "     the_slope_of_the_peak_exercise_ST_segment_2.0  \\\n",
              "0                                              1.0   \n",
              "1                                              1.0   \n",
              "2                                              0.0   \n",
              "3                                              1.0   \n",
              "4                                              0.0   \n",
              "..                                             ...   \n",
              "265                                            0.0   \n",
              "266                                            0.0   \n",
              "267                                            1.0   \n",
              "268                                            1.0   \n",
              "269                                            1.0   \n",
              "\n",
              "     the_slope_of_the_peak_exercise_ST_segment_3.0  \\\n",
              "0                                              0.0   \n",
              "1                                              0.0   \n",
              "2                                              0.0   \n",
              "3                                              0.0   \n",
              "4                                              0.0   \n",
              "..                                             ...   \n",
              "265                                            0.0   \n",
              "266                                            0.0   \n",
              "267                                            0.0   \n",
              "268                                            0.0   \n",
              "269                                            0.0   \n",
              "\n",
              "     number_of_major_vessels_0.0  number_of_major_vessels_1.0  \\\n",
              "0                            0.0                          0.0   \n",
              "1                            1.0                          0.0   \n",
              "2                            1.0                          0.0   \n",
              "3                            0.0                          1.0   \n",
              "4                            0.0                          1.0   \n",
              "..                           ...                          ...   \n",
              "265                          1.0                          0.0   \n",
              "266                          1.0                          0.0   \n",
              "267                          1.0                          0.0   \n",
              "268                          1.0                          0.0   \n",
              "269                          0.0                          0.0   \n",
              "\n",
              "     number_of_major_vessels_2.0  number_of_major_vessels_3.0  thal_3.0  \\\n",
              "0                            0.0                          1.0       1.0   \n",
              "1                            0.0                          0.0       0.0   \n",
              "2                            0.0                          0.0       0.0   \n",
              "3                            0.0                          0.0       0.0   \n",
              "4                            0.0                          0.0       1.0   \n",
              "..                           ...                          ...       ...   \n",
              "265                          0.0                          0.0       0.0   \n",
              "266                          0.0                          0.0       0.0   \n",
              "267                          0.0                          0.0       1.0   \n",
              "268                          0.0                          0.0       0.0   \n",
              "269                          0.0                          1.0       1.0   \n",
              "\n",
              "     thal_6.0  thal_7.0  \n",
              "0         0.0       0.0  \n",
              "1         0.0       1.0  \n",
              "2         0.0       1.0  \n",
              "3         0.0       1.0  \n",
              "4         0.0       0.0  \n",
              "..        ...       ...  \n",
              "265       0.0       1.0  \n",
              "266       0.0       1.0  \n",
              "267       0.0       0.0  \n",
              "268       1.0       0.0  \n",
              "269       0.0       0.0  \n",
              "\n",
              "[270 rows x 30 columns]"
            ],
            "text/html": [
              "\n",
              "  <div id=\"df-fa2c0f67-84cc-4b92-9e6a-b66aa374c669\">\n",
              "    <div class=\"colab-df-container\">\n",
              "      <div>\n",
              "<style scoped>\n",
              "    .dataframe tbody tr th:only-of-type {\n",
              "        vertical-align: middle;\n",
              "    }\n",
              "\n",
              "    .dataframe tbody tr th {\n",
              "        vertical-align: top;\n",
              "    }\n",
              "\n",
              "    .dataframe thead th {\n",
              "        text-align: right;\n",
              "    }\n",
              "</style>\n",
              "<table border=\"1\" class=\"dataframe\">\n",
              "  <thead>\n",
              "    <tr style=\"text-align: right;\">\n",
              "      <th></th>\n",
              "      <th>resting_blood_pressure</th>\n",
              "      <th>serum_cholestoral_in_mg/dl</th>\n",
              "      <th>maximum_heart_rate_achieved</th>\n",
              "      <th>oldpeak</th>\n",
              "      <th>age_0</th>\n",
              "      <th>age_1</th>\n",
              "      <th>age_2</th>\n",
              "      <th>sex_0.0</th>\n",
              "      <th>sex_1.0</th>\n",
              "      <th>chest_pain_type_1.0</th>\n",
              "      <th>...</th>\n",
              "      <th>the_slope_of_the_peak_exercise_ST_segment_1.0</th>\n",
              "      <th>the_slope_of_the_peak_exercise_ST_segment_2.0</th>\n",
              "      <th>the_slope_of_the_peak_exercise_ST_segment_3.0</th>\n",
              "      <th>number_of_major_vessels_0.0</th>\n",
              "      <th>number_of_major_vessels_1.0</th>\n",
              "      <th>number_of_major_vessels_2.0</th>\n",
              "      <th>number_of_major_vessels_3.0</th>\n",
              "      <th>thal_3.0</th>\n",
              "      <th>thal_6.0</th>\n",
              "      <th>thal_7.0</th>\n",
              "    </tr>\n",
              "  </thead>\n",
              "  <tbody>\n",
              "    <tr>\n",
              "      <th>0</th>\n",
              "      <td>0.339623</td>\n",
              "      <td>0.447489</td>\n",
              "      <td>0.290076</td>\n",
              "      <td>0.387097</td>\n",
              "      <td>0.0</td>\n",
              "      <td>0.0</td>\n",
              "      <td>1.0</td>\n",
              "      <td>0.0</td>\n",
              "      <td>1.0</td>\n",
              "      <td>0.0</td>\n",
              "      <td>...</td>\n",
              "      <td>0.0</td>\n",
              "      <td>1.0</td>\n",
              "      <td>0.0</td>\n",
              "      <td>0.0</td>\n",
              "      <td>0.0</td>\n",
              "      <td>0.0</td>\n",
              "      <td>1.0</td>\n",
              "      <td>1.0</td>\n",
              "      <td>0.0</td>\n",
              "      <td>0.0</td>\n",
              "    </tr>\n",
              "    <tr>\n",
              "      <th>1</th>\n",
              "      <td>0.198113</td>\n",
              "      <td>1.000000</td>\n",
              "      <td>0.679389</td>\n",
              "      <td>0.258065</td>\n",
              "      <td>0.0</td>\n",
              "      <td>0.0</td>\n",
              "      <td>1.0</td>\n",
              "      <td>1.0</td>\n",
              "      <td>0.0</td>\n",
              "      <td>0.0</td>\n",
              "      <td>...</td>\n",
              "      <td>0.0</td>\n",
              "      <td>1.0</td>\n",
              "      <td>0.0</td>\n",
              "      <td>1.0</td>\n",
              "      <td>0.0</td>\n",
              "      <td>0.0</td>\n",
              "      <td>0.0</td>\n",
              "      <td>0.0</td>\n",
              "      <td>0.0</td>\n",
              "      <td>1.0</td>\n",
              "    </tr>\n",
              "    <tr>\n",
              "      <th>2</th>\n",
              "      <td>0.283019</td>\n",
              "      <td>0.308219</td>\n",
              "      <td>0.534351</td>\n",
              "      <td>0.048387</td>\n",
              "      <td>0.0</td>\n",
              "      <td>1.0</td>\n",
              "      <td>0.0</td>\n",
              "      <td>0.0</td>\n",
              "      <td>1.0</td>\n",
              "      <td>0.0</td>\n",
              "      <td>...</td>\n",
              "      <td>1.0</td>\n",
              "      <td>0.0</td>\n",
              "      <td>0.0</td>\n",
              "      <td>1.0</td>\n",
              "      <td>0.0</td>\n",
              "      <td>0.0</td>\n",
              "      <td>0.0</td>\n",
              "      <td>0.0</td>\n",
              "      <td>0.0</td>\n",
              "      <td>1.0</td>\n",
              "    </tr>\n",
              "    <tr>\n",
              "      <th>3</th>\n",
              "      <td>0.320755</td>\n",
              "      <td>0.312785</td>\n",
              "      <td>0.259542</td>\n",
              "      <td>0.032258</td>\n",
              "      <td>0.0</td>\n",
              "      <td>0.0</td>\n",
              "      <td>1.0</td>\n",
              "      <td>0.0</td>\n",
              "      <td>1.0</td>\n",
              "      <td>0.0</td>\n",
              "      <td>...</td>\n",
              "      <td>0.0</td>\n",
              "      <td>1.0</td>\n",
              "      <td>0.0</td>\n",
              "      <td>0.0</td>\n",
              "      <td>1.0</td>\n",
              "      <td>0.0</td>\n",
              "      <td>0.0</td>\n",
              "      <td>0.0</td>\n",
              "      <td>0.0</td>\n",
              "      <td>1.0</td>\n",
              "    </tr>\n",
              "    <tr>\n",
              "      <th>4</th>\n",
              "      <td>0.245283</td>\n",
              "      <td>0.326484</td>\n",
              "      <td>0.381679</td>\n",
              "      <td>0.032258</td>\n",
              "      <td>0.0</td>\n",
              "      <td>0.0</td>\n",
              "      <td>1.0</td>\n",
              "      <td>1.0</td>\n",
              "      <td>0.0</td>\n",
              "      <td>0.0</td>\n",
              "      <td>...</td>\n",
              "      <td>1.0</td>\n",
              "      <td>0.0</td>\n",
              "      <td>0.0</td>\n",
              "      <td>0.0</td>\n",
              "      <td>1.0</td>\n",
              "      <td>0.0</td>\n",
              "      <td>0.0</td>\n",
              "      <td>1.0</td>\n",
              "      <td>0.0</td>\n",
              "      <td>0.0</td>\n",
              "    </tr>\n",
              "    <tr>\n",
              "      <th>...</th>\n",
              "      <td>...</td>\n",
              "      <td>...</td>\n",
              "      <td>...</td>\n",
              "      <td>...</td>\n",
              "      <td>...</td>\n",
              "      <td>...</td>\n",
              "      <td>...</td>\n",
              "      <td>...</td>\n",
              "      <td>...</td>\n",
              "      <td>...</td>\n",
              "      <td>...</td>\n",
              "      <td>...</td>\n",
              "      <td>...</td>\n",
              "      <td>...</td>\n",
              "      <td>...</td>\n",
              "      <td>...</td>\n",
              "      <td>...</td>\n",
              "      <td>...</td>\n",
              "      <td>...</td>\n",
              "      <td>...</td>\n",
              "      <td>...</td>\n",
              "    </tr>\n",
              "    <tr>\n",
              "      <th>265</th>\n",
              "      <td>0.735849</td>\n",
              "      <td>0.166667</td>\n",
              "      <td>0.694656</td>\n",
              "      <td>0.080645</td>\n",
              "      <td>0.0</td>\n",
              "      <td>1.0</td>\n",
              "      <td>0.0</td>\n",
              "      <td>0.0</td>\n",
              "      <td>1.0</td>\n",
              "      <td>0.0</td>\n",
              "      <td>...</td>\n",
              "      <td>1.0</td>\n",
              "      <td>0.0</td>\n",
              "      <td>0.0</td>\n",
              "      <td>1.0</td>\n",
              "      <td>0.0</td>\n",
              "      <td>0.0</td>\n",
              "      <td>0.0</td>\n",
              "      <td>0.0</td>\n",
              "      <td>0.0</td>\n",
              "      <td>1.0</td>\n",
              "    </tr>\n",
              "    <tr>\n",
              "      <th>266</th>\n",
              "      <td>0.245283</td>\n",
              "      <td>0.312785</td>\n",
              "      <td>0.778626</td>\n",
              "      <td>0.000000</td>\n",
              "      <td>0.0</td>\n",
              "      <td>1.0</td>\n",
              "      <td>0.0</td>\n",
              "      <td>0.0</td>\n",
              "      <td>1.0</td>\n",
              "      <td>0.0</td>\n",
              "      <td>...</td>\n",
              "      <td>1.0</td>\n",
              "      <td>0.0</td>\n",
              "      <td>0.0</td>\n",
              "      <td>1.0</td>\n",
              "      <td>0.0</td>\n",
              "      <td>0.0</td>\n",
              "      <td>0.0</td>\n",
              "      <td>0.0</td>\n",
              "      <td>0.0</td>\n",
              "      <td>1.0</td>\n",
              "    </tr>\n",
              "    <tr>\n",
              "      <th>267</th>\n",
              "      <td>0.433962</td>\n",
              "      <td>0.383562</td>\n",
              "      <td>0.625954</td>\n",
              "      <td>0.209677</td>\n",
              "      <td>0.0</td>\n",
              "      <td>1.0</td>\n",
              "      <td>0.0</td>\n",
              "      <td>1.0</td>\n",
              "      <td>0.0</td>\n",
              "      <td>0.0</td>\n",
              "      <td>...</td>\n",
              "      <td>0.0</td>\n",
              "      <td>1.0</td>\n",
              "      <td>0.0</td>\n",
              "      <td>1.0</td>\n",
              "      <td>0.0</td>\n",
              "      <td>0.0</td>\n",
              "      <td>0.0</td>\n",
              "      <td>1.0</td>\n",
              "      <td>0.0</td>\n",
              "      <td>0.0</td>\n",
              "    </tr>\n",
              "    <tr>\n",
              "      <th>268</th>\n",
              "      <td>0.433962</td>\n",
              "      <td>0.150685</td>\n",
              "      <td>0.587786</td>\n",
              "      <td>0.064516</td>\n",
              "      <td>0.0</td>\n",
              "      <td>1.0</td>\n",
              "      <td>0.0</td>\n",
              "      <td>0.0</td>\n",
              "      <td>1.0</td>\n",
              "      <td>0.0</td>\n",
              "      <td>...</td>\n",
              "      <td>0.0</td>\n",
              "      <td>1.0</td>\n",
              "      <td>0.0</td>\n",
              "      <td>1.0</td>\n",
              "      <td>0.0</td>\n",
              "      <td>0.0</td>\n",
              "      <td>0.0</td>\n",
              "      <td>0.0</td>\n",
              "      <td>1.0</td>\n",
              "      <td>0.0</td>\n",
              "    </tr>\n",
              "    <tr>\n",
              "      <th>269</th>\n",
              "      <td>0.622642</td>\n",
              "      <td>0.365297</td>\n",
              "      <td>0.282443</td>\n",
              "      <td>0.241935</td>\n",
              "      <td>0.0</td>\n",
              "      <td>0.0</td>\n",
              "      <td>1.0</td>\n",
              "      <td>0.0</td>\n",
              "      <td>1.0</td>\n",
              "      <td>0.0</td>\n",
              "      <td>...</td>\n",
              "      <td>0.0</td>\n",
              "      <td>1.0</td>\n",
              "      <td>0.0</td>\n",
              "      <td>0.0</td>\n",
              "      <td>0.0</td>\n",
              "      <td>0.0</td>\n",
              "      <td>1.0</td>\n",
              "      <td>1.0</td>\n",
              "      <td>0.0</td>\n",
              "      <td>0.0</td>\n",
              "    </tr>\n",
              "  </tbody>\n",
              "</table>\n",
              "<p>270 rows × 30 columns</p>\n",
              "</div>\n",
              "      <button class=\"colab-df-convert\" onclick=\"convertToInteractive('df-fa2c0f67-84cc-4b92-9e6a-b66aa374c669')\"\n",
              "              title=\"Convert this dataframe to an interactive table.\"\n",
              "              style=\"display:none;\">\n",
              "        \n",
              "  <svg xmlns=\"http://www.w3.org/2000/svg\" height=\"24px\"viewBox=\"0 0 24 24\"\n",
              "       width=\"24px\">\n",
              "    <path d=\"M0 0h24v24H0V0z\" fill=\"none\"/>\n",
              "    <path d=\"M18.56 5.44l.94 2.06.94-2.06 2.06-.94-2.06-.94-.94-2.06-.94 2.06-2.06.94zm-11 1L8.5 8.5l.94-2.06 2.06-.94-2.06-.94L8.5 2.5l-.94 2.06-2.06.94zm10 10l.94 2.06.94-2.06 2.06-.94-2.06-.94-.94-2.06-.94 2.06-2.06.94z\"/><path d=\"M17.41 7.96l-1.37-1.37c-.4-.4-.92-.59-1.43-.59-.52 0-1.04.2-1.43.59L10.3 9.45l-7.72 7.72c-.78.78-.78 2.05 0 2.83L4 21.41c.39.39.9.59 1.41.59.51 0 1.02-.2 1.41-.59l7.78-7.78 2.81-2.81c.8-.78.8-2.07 0-2.86zM5.41 20L4 18.59l7.72-7.72 1.47 1.35L5.41 20z\"/>\n",
              "  </svg>\n",
              "      </button>\n",
              "      \n",
              "  <style>\n",
              "    .colab-df-container {\n",
              "      display:flex;\n",
              "      flex-wrap:wrap;\n",
              "      gap: 12px;\n",
              "    }\n",
              "\n",
              "    .colab-df-convert {\n",
              "      background-color: #E8F0FE;\n",
              "      border: none;\n",
              "      border-radius: 50%;\n",
              "      cursor: pointer;\n",
              "      display: none;\n",
              "      fill: #1967D2;\n",
              "      height: 32px;\n",
              "      padding: 0 0 0 0;\n",
              "      width: 32px;\n",
              "    }\n",
              "\n",
              "    .colab-df-convert:hover {\n",
              "      background-color: #E2EBFA;\n",
              "      box-shadow: 0px 1px 2px rgba(60, 64, 67, 0.3), 0px 1px 3px 1px rgba(60, 64, 67, 0.15);\n",
              "      fill: #174EA6;\n",
              "    }\n",
              "\n",
              "    [theme=dark] .colab-df-convert {\n",
              "      background-color: #3B4455;\n",
              "      fill: #D2E3FC;\n",
              "    }\n",
              "\n",
              "    [theme=dark] .colab-df-convert:hover {\n",
              "      background-color: #434B5C;\n",
              "      box-shadow: 0px 1px 3px 1px rgba(0, 0, 0, 0.15);\n",
              "      filter: drop-shadow(0px 1px 2px rgba(0, 0, 0, 0.3));\n",
              "      fill: #FFFFFF;\n",
              "    }\n",
              "  </style>\n",
              "\n",
              "      <script>\n",
              "        const buttonEl =\n",
              "          document.querySelector('#df-fa2c0f67-84cc-4b92-9e6a-b66aa374c669 button.colab-df-convert');\n",
              "        buttonEl.style.display =\n",
              "          google.colab.kernel.accessAllowed ? 'block' : 'none';\n",
              "\n",
              "        async function convertToInteractive(key) {\n",
              "          const element = document.querySelector('#df-fa2c0f67-84cc-4b92-9e6a-b66aa374c669');\n",
              "          const dataTable =\n",
              "            await google.colab.kernel.invokeFunction('convertToInteractive',\n",
              "                                                     [key], {});\n",
              "          if (!dataTable) return;\n",
              "\n",
              "          const docLinkHtml = 'Like what you see? Visit the ' +\n",
              "            '<a target=\"_blank\" href=https://colab.research.google.com/notebooks/data_table.ipynb>data table notebook</a>'\n",
              "            + ' to learn more about interactive tables.';\n",
              "          element.innerHTML = '';\n",
              "          dataTable['output_type'] = 'display_data';\n",
              "          await google.colab.output.renderOutput(dataTable, element);\n",
              "          const docLink = document.createElement('div');\n",
              "          docLink.innerHTML = docLinkHtml;\n",
              "          element.appendChild(docLink);\n",
              "        }\n",
              "      </script>\n",
              "    </div>\n",
              "  </div>\n",
              "  "
            ]
          },
          "metadata": {},
          "execution_count": 200
        }
      ]
    },
    {
      "cell_type": "markdown",
      "source": [
        "### Podział zbioru na zbiór treningowy, testowy i walidacyjny.\n",
        "\n",
        "\n",
        "Poniżej dokonano podziału danych na zbiór treningowy, testowy oraz walidacyjny. Zbiór treningowy to 60% danych, pozostałe 40% to zbiór tymczasowy, który zostanie podzielony po równo na zbiór testowy i walidacyjny.\n",
        "Dzięki random_state podział będzie zawsze taki sam, czyli zawsze te same próbki danych będą w poszczególnych zbiorach.\n",
        "\n",
        "Następnie dla każdej z klas (1 lub 2) tworzę ich reprezentacje jako wektory, które będą podawane jako wynik sieci neuronowej."
      ],
      "metadata": {
        "id": "-rqDxiVKduMp"
      }
    },
    {
      "cell_type": "code",
      "source": [
        "from sklearn.model_selection import train_test_split\n",
        "from sklearn.preprocessing import normalize\n",
        "from keras.utils import np_utils\n",
        "\n",
        "# Podział zbioru na podzbiory\n",
        "X_train, X_temp, y_train, y_temp = train_test_split(X,y,train_size=0.60,random_state=1)\n",
        "X_test, X_valid, y_test, y_valid = train_test_split(X_temp,y_temp,train_size=0.50,random_state=1)\n",
        "\n",
        "# Zamiana klas całkowitych na klasy w formacie binarnym\n",
        "y_train=np_utils.to_categorical(y_train-1,num_classes=2)\n",
        "y_test=np_utils.to_categorical(y_test-1,num_classes=2)\n",
        "y_valid=np_utils.to_categorical(y_valid-1,num_classes=2)\n",
        "print(X_train.shape)\n",
        "print(X_test.shape)\n",
        "print(X_valid.shape)\n",
        "print(y_train.shape)\n",
        "print(y_test.shape)\n",
        "print(y_valid.shape)\n",
        "\n",
        "\n",
        "\"\"\"\n",
        "[1] -> [0] -> [1 0] # Osoba zdrowa\n",
        "[2] -> [1] -> [0 1] # Osoba chora\n",
        "\"\"\""
      ],
      "metadata": {
        "colab": {
          "base_uri": "https://localhost:8080/",
          "height": 145
        },
        "id": "mAKRUj_c4Sfp",
        "outputId": "c955c3b1-cb62-4a1d-8c49-acff21af2d56"
      },
      "execution_count": null,
      "outputs": [
        {
          "output_type": "stream",
          "name": "stdout",
          "text": [
            "(162, 30)\n",
            "(54, 30)\n",
            "(54, 30)\n",
            "(162, 2)\n",
            "(54, 2)\n",
            "(54, 2)\n"
          ]
        },
        {
          "output_type": "execute_result",
          "data": {
            "text/plain": [
              "'\\n[1] -> [0] -> [1 0] # Osoba zdrowa\\n[2] -> [1] -> [0 1] # Osoba chora\\n'"
            ],
            "application/vnd.google.colaboratory.intrinsic+json": {
              "type": "string"
            }
          },
          "metadata": {},
          "execution_count": 201
        }
      ]
    },
    {
      "cell_type": "markdown",
      "source": [
        "## Struktura sieci - Model 0\n",
        "\n"
      ],
      "metadata": {
        "id": "0CHy1jwZPzpL"
      }
    },
    {
      "cell_type": "markdown",
      "source": [
        "### Budowanie sieci neuronowej\n",
        "\n",
        "\n",
        "\n",
        "Struktura sieci:\n",
        "\n",
        "*   Warstwa wejściowa:\n",
        "    - 30 neuronów, ponieważ tyle mamy elementów w wektorze wejściowym\n",
        "*   I warstwa ukryta:\n",
        "    - 61 neuronów - ich liczba została wybrana według wzoru 2n+1, gdzie n to liczba wejść\n",
        "    - funkcja aktywacji to relu, ponieważ jest wybierana domyślnie oraz zakres wartości jaki przyjmuje odpowiada naszym oczekiwaniom \n",
        "\n",
        "*   Warstwa wyjściowa:\n",
        "    - 2 neurony, ponieważ mamy dwie klasy wyników, które można zakodować używając 2 wyjść\n",
        "    - funkcja aktywacji to sigmoid, ponieważ oczekujemy wartości z przedziału (0,1) co pozwoli nam później przekonwertować to na wektory binarne\n",
        "\n",
        "\n",
        "Po zbudowaniu sieci dodajemy ochronę przed przetrenowaniem sieci, która polega na na wyłączeniu w trakcie treningu określonej ilości neuronów danej warstwy np 20%.\n",
        "\n",
        "Następnie kompilujemy uzyskany model z funkcją straty binary_crossentropy, ponieważ jest ona odpowiednia do problemów klasyfikacji binarnej, czyli takiego jaki my rozwiązujemy. Nasz problem posiada 2 klasy wyników, czyli odpowiadamy na pytanie czy ktoś ma chorobe serca, czy nie.\n",
        "\n",
        "Jako parametr optimizer, czyli rodzaj algorytmu aktualizującego wagi wybieramy 'adam' (algorytm gradient descent), ponieważ jest szybko zbieżny, więc nie potrzebuje dużo czasu żeby osiągnąć minimum lub maksimum.\n",
        "\n",
        "Parametr metrice ustawiamy na 'accuracy', żeby dowiedzieć się jak dobrze przygotowany jest nasz model.\n"
      ],
      "metadata": {
        "id": "6Igr4stZLe3m"
      }
    },
    {
      "cell_type": "code",
      "source": [
        "import keras\n",
        "from keras.models import Sequential \n",
        "from keras.layers import Dense,Activation,Dropout \n",
        "\n",
        "# Inicjalizacja modelu\n",
        "model = Sequential()\n",
        "\n",
        "# Dodawanie warstw\n",
        "model.add(Dense(61,input_dim=30, activation='relu')) # definiuje mi jednocześnie rozmiar pierwszej warstwy wejściowej i pierwszej ukrytej\n",
        " \n",
        "# Ochrona przed przetrenowaniem\n",
        "model.add(Dropout(0.2))\n",
        "\n",
        "# Warstwa wyjściowa\n",
        "model.add(Dense(2,activation='sigmoid'))\n",
        "\n",
        "# Kompilacja sieci neuronowej\n",
        "model.compile(loss='binary_crossentropy', optimizer='adam',metrics=['accuracy'])\n"
      ],
      "metadata": {
        "id": "G8tLPIIZLjYt"
      },
      "execution_count": null,
      "outputs": []
    },
    {
      "cell_type": "markdown",
      "source": [
        "## Uczenie sieci\n",
        "\n",
        "\n",
        "\n"
      ],
      "metadata": {
        "id": "dcPV6qqXID_R"
      }
    },
    {
      "cell_type": "markdown",
      "source": [
        "### Trenowanie sieci neuronowej\n",
        "\n",
        "\n",
        "Poniżej trenuje uzyskany wczesniej model na danych treningowych. Uzyskany wcześniej zbiór z danymi walidacyjnymi posłużąly do oceny uzyskanych wyników po każdej epoce. \n",
        "\n",
        "Liczba epok na początek zostaje ustawiona na 100, a liczba wierszy po których nastąpi aktualizacja wag to 32. Nie ma jednoznacznej reguły na wybór odpowiedniej liczby tych wartości, więc postanowiłyśmy zacząć od takich parametrów i obserwować jak będzie się zachowywać błąd oraz dokładność w zbiorze treningowym i walidacyjnyym.\n",
        "\n",
        "Parametr verbose = 1 pozwala obserwować błąd oraz dokładność obu zbiorów w każdej epoce. \n",
        "\n",
        "Celem jest wybranie konfiguracji modelu, która zapewnij najniższe straty i najwyższą możliwą dokładność dla danego zbioru danych."
      ],
      "metadata": {
        "id": "N0_-DnkVRRmx"
      }
    },
    {
      "cell_type": "code",
      "source": [
        "# Dopasowywanie sieci neuronowej do zbioru treningowego\n",
        "\n",
        "history = model.fit(X_train,y_train,validation_data=(X_valid,y_valid), batch_size=32,epochs=100,verbose=1)\n"
      ],
      "metadata": {
        "id": "mu_LZASkLjrj",
        "colab": {
          "base_uri": "https://localhost:8080/"
        },
        "outputId": "9c978405-a2a3-413a-e51a-a143d9755549"
      },
      "execution_count": null,
      "outputs": [
        {
          "output_type": "stream",
          "name": "stdout",
          "text": [
            "Epoch 1/100\n",
            "6/6 [==============================] - 1s 41ms/step - loss: 0.6678 - accuracy: 0.5864 - val_loss: 0.7206 - val_accuracy: 0.5185\n",
            "Epoch 2/100\n",
            "6/6 [==============================] - 0s 7ms/step - loss: 0.6611 - accuracy: 0.6235 - val_loss: 0.6918 - val_accuracy: 0.5556\n",
            "Epoch 3/100\n",
            "6/6 [==============================] - 0s 7ms/step - loss: 0.6329 - accuracy: 0.6358 - val_loss: 0.6723 - val_accuracy: 0.5926\n",
            "Epoch 4/100\n",
            "6/6 [==============================] - 0s 7ms/step - loss: 0.5888 - accuracy: 0.6667 - val_loss: 0.6560 - val_accuracy: 0.6296\n",
            "Epoch 5/100\n",
            "6/6 [==============================] - 0s 7ms/step - loss: 0.5739 - accuracy: 0.6914 - val_loss: 0.6360 - val_accuracy: 0.6667\n",
            "Epoch 6/100\n",
            "6/6 [==============================] - 0s 8ms/step - loss: 0.5454 - accuracy: 0.7284 - val_loss: 0.6145 - val_accuracy: 0.7407\n",
            "Epoch 7/100\n",
            "6/6 [==============================] - 0s 7ms/step - loss: 0.5252 - accuracy: 0.7654 - val_loss: 0.5953 - val_accuracy: 0.7593\n",
            "Epoch 8/100\n",
            "6/6 [==============================] - 0s 7ms/step - loss: 0.5167 - accuracy: 0.7840 - val_loss: 0.5779 - val_accuracy: 0.7593\n",
            "Epoch 9/100\n",
            "6/6 [==============================] - 0s 7ms/step - loss: 0.5030 - accuracy: 0.7963 - val_loss: 0.5631 - val_accuracy: 0.7778\n",
            "Epoch 10/100\n",
            "6/6 [==============================] - 0s 9ms/step - loss: 0.4904 - accuracy: 0.7963 - val_loss: 0.5499 - val_accuracy: 0.7778\n",
            "Epoch 11/100\n",
            "6/6 [==============================] - 0s 7ms/step - loss: 0.4731 - accuracy: 0.8210 - val_loss: 0.5374 - val_accuracy: 0.7778\n",
            "Epoch 12/100\n",
            "6/6 [==============================] - 0s 8ms/step - loss: 0.4506 - accuracy: 0.8395 - val_loss: 0.5258 - val_accuracy: 0.7593\n",
            "Epoch 13/100\n",
            "6/6 [==============================] - 0s 7ms/step - loss: 0.4413 - accuracy: 0.8580 - val_loss: 0.5163 - val_accuracy: 0.7593\n",
            "Epoch 14/100\n",
            "6/6 [==============================] - 0s 8ms/step - loss: 0.4280 - accuracy: 0.8519 - val_loss: 0.5120 - val_accuracy: 0.7778\n",
            "Epoch 15/100\n",
            "6/6 [==============================] - 0s 7ms/step - loss: 0.4007 - accuracy: 0.8333 - val_loss: 0.5075 - val_accuracy: 0.7778\n",
            "Epoch 16/100\n",
            "6/6 [==============================] - 0s 7ms/step - loss: 0.4001 - accuracy: 0.8580 - val_loss: 0.5017 - val_accuracy: 0.7778\n",
            "Epoch 17/100\n",
            "6/6 [==============================] - 0s 7ms/step - loss: 0.3862 - accuracy: 0.8704 - val_loss: 0.4936 - val_accuracy: 0.7963\n",
            "Epoch 18/100\n",
            "6/6 [==============================] - 0s 7ms/step - loss: 0.3751 - accuracy: 0.8765 - val_loss: 0.4874 - val_accuracy: 0.7963\n",
            "Epoch 19/100\n",
            "6/6 [==============================] - 0s 7ms/step - loss: 0.3548 - accuracy: 0.8704 - val_loss: 0.4880 - val_accuracy: 0.7963\n",
            "Epoch 20/100\n",
            "6/6 [==============================] - 0s 7ms/step - loss: 0.3558 - accuracy: 0.8827 - val_loss: 0.4856 - val_accuracy: 0.8148\n",
            "Epoch 21/100\n",
            "6/6 [==============================] - 0s 7ms/step - loss: 0.3672 - accuracy: 0.8457 - val_loss: 0.4802 - val_accuracy: 0.7963\n",
            "Epoch 22/100\n",
            "6/6 [==============================] - 0s 7ms/step - loss: 0.3624 - accuracy: 0.8580 - val_loss: 0.4777 - val_accuracy: 0.8148\n",
            "Epoch 23/100\n",
            "6/6 [==============================] - 0s 7ms/step - loss: 0.3415 - accuracy: 0.8704 - val_loss: 0.4782 - val_accuracy: 0.8148\n",
            "Epoch 24/100\n",
            "6/6 [==============================] - 0s 8ms/step - loss: 0.3286 - accuracy: 0.8580 - val_loss: 0.4781 - val_accuracy: 0.8148\n",
            "Epoch 25/100\n",
            "6/6 [==============================] - 0s 8ms/step - loss: 0.3311 - accuracy: 0.8704 - val_loss: 0.4780 - val_accuracy: 0.8148\n",
            "Epoch 26/100\n",
            "6/6 [==============================] - 0s 7ms/step - loss: 0.3207 - accuracy: 0.8889 - val_loss: 0.4743 - val_accuracy: 0.8148\n",
            "Epoch 27/100\n",
            "6/6 [==============================] - 0s 8ms/step - loss: 0.3246 - accuracy: 0.8704 - val_loss: 0.4658 - val_accuracy: 0.7963\n",
            "Epoch 28/100\n",
            "6/6 [==============================] - 0s 7ms/step - loss: 0.3218 - accuracy: 0.8642 - val_loss: 0.4575 - val_accuracy: 0.8148\n",
            "Epoch 29/100\n",
            "6/6 [==============================] - 0s 7ms/step - loss: 0.3083 - accuracy: 0.8827 - val_loss: 0.4495 - val_accuracy: 0.8148\n",
            "Epoch 30/100\n",
            "6/6 [==============================] - 0s 11ms/step - loss: 0.3072 - accuracy: 0.8827 - val_loss: 0.4491 - val_accuracy: 0.8148\n",
            "Epoch 31/100\n",
            "6/6 [==============================] - 0s 8ms/step - loss: 0.3161 - accuracy: 0.8951 - val_loss: 0.4550 - val_accuracy: 0.8148\n",
            "Epoch 32/100\n",
            "6/6 [==============================] - 0s 7ms/step - loss: 0.3122 - accuracy: 0.8704 - val_loss: 0.4642 - val_accuracy: 0.8148\n",
            "Epoch 33/100\n",
            "6/6 [==============================] - 0s 7ms/step - loss: 0.3042 - accuracy: 0.8765 - val_loss: 0.4735 - val_accuracy: 0.8148\n",
            "Epoch 34/100\n",
            "6/6 [==============================] - 0s 7ms/step - loss: 0.2720 - accuracy: 0.9012 - val_loss: 0.4843 - val_accuracy: 0.8333\n",
            "Epoch 35/100\n",
            "6/6 [==============================] - 0s 7ms/step - loss: 0.2940 - accuracy: 0.8704 - val_loss: 0.4876 - val_accuracy: 0.8333\n",
            "Epoch 36/100\n",
            "6/6 [==============================] - 0s 8ms/step - loss: 0.2878 - accuracy: 0.8889 - val_loss: 0.4836 - val_accuracy: 0.8333\n",
            "Epoch 37/100\n",
            "6/6 [==============================] - 0s 11ms/step - loss: 0.2954 - accuracy: 0.8889 - val_loss: 0.4830 - val_accuracy: 0.8333\n",
            "Epoch 38/100\n",
            "6/6 [==============================] - 0s 7ms/step - loss: 0.2832 - accuracy: 0.8889 - val_loss: 0.4811 - val_accuracy: 0.8333\n",
            "Epoch 39/100\n",
            "6/6 [==============================] - 0s 7ms/step - loss: 0.2736 - accuracy: 0.9012 - val_loss: 0.4831 - val_accuracy: 0.8333\n",
            "Epoch 40/100\n",
            "6/6 [==============================] - 0s 7ms/step - loss: 0.2756 - accuracy: 0.8951 - val_loss: 0.4908 - val_accuracy: 0.8333\n",
            "Epoch 41/100\n",
            "6/6 [==============================] - 0s 7ms/step - loss: 0.2888 - accuracy: 0.8642 - val_loss: 0.4979 - val_accuracy: 0.8333\n",
            "Epoch 42/100\n",
            "6/6 [==============================] - 0s 8ms/step - loss: 0.2840 - accuracy: 0.8704 - val_loss: 0.5009 - val_accuracy: 0.8333\n",
            "Epoch 43/100\n",
            "6/6 [==============================] - 0s 7ms/step - loss: 0.2720 - accuracy: 0.8889 - val_loss: 0.4900 - val_accuracy: 0.8333\n",
            "Epoch 44/100\n",
            "6/6 [==============================] - 0s 7ms/step - loss: 0.2590 - accuracy: 0.8951 - val_loss: 0.4835 - val_accuracy: 0.8333\n",
            "Epoch 45/100\n",
            "6/6 [==============================] - 0s 8ms/step - loss: 0.2744 - accuracy: 0.8827 - val_loss: 0.4833 - val_accuracy: 0.8333\n",
            "Epoch 46/100\n",
            "6/6 [==============================] - 0s 7ms/step - loss: 0.2570 - accuracy: 0.8951 - val_loss: 0.4865 - val_accuracy: 0.8333\n",
            "Epoch 47/100\n",
            "6/6 [==============================] - 0s 7ms/step - loss: 0.2773 - accuracy: 0.8765 - val_loss: 0.4978 - val_accuracy: 0.8333\n",
            "Epoch 48/100\n",
            "6/6 [==============================] - 0s 8ms/step - loss: 0.2651 - accuracy: 0.8889 - val_loss: 0.5028 - val_accuracy: 0.8333\n",
            "Epoch 49/100\n",
            "6/6 [==============================] - 0s 7ms/step - loss: 0.2696 - accuracy: 0.8765 - val_loss: 0.5029 - val_accuracy: 0.8333\n",
            "Epoch 50/100\n",
            "6/6 [==============================] - 0s 9ms/step - loss: 0.2715 - accuracy: 0.8889 - val_loss: 0.5000 - val_accuracy: 0.8333\n",
            "Epoch 51/100\n",
            "6/6 [==============================] - 0s 7ms/step - loss: 0.2707 - accuracy: 0.8889 - val_loss: 0.5105 - val_accuracy: 0.8333\n",
            "Epoch 52/100\n",
            "6/6 [==============================] - 0s 10ms/step - loss: 0.2689 - accuracy: 0.8642 - val_loss: 0.5131 - val_accuracy: 0.8333\n",
            "Epoch 53/100\n",
            "6/6 [==============================] - 0s 7ms/step - loss: 0.2737 - accuracy: 0.8827 - val_loss: 0.5158 - val_accuracy: 0.8333\n",
            "Epoch 54/100\n",
            "6/6 [==============================] - 0s 8ms/step - loss: 0.2573 - accuracy: 0.8765 - val_loss: 0.5157 - val_accuracy: 0.8333\n",
            "Epoch 55/100\n",
            "6/6 [==============================] - 0s 7ms/step - loss: 0.2656 - accuracy: 0.8827 - val_loss: 0.5162 - val_accuracy: 0.8333\n",
            "Epoch 56/100\n",
            "6/6 [==============================] - 0s 8ms/step - loss: 0.2668 - accuracy: 0.8889 - val_loss: 0.5232 - val_accuracy: 0.8333\n",
            "Epoch 57/100\n",
            "6/6 [==============================] - 0s 7ms/step - loss: 0.2743 - accuracy: 0.8765 - val_loss: 0.5279 - val_accuracy: 0.8333\n",
            "Epoch 58/100\n",
            "6/6 [==============================] - 0s 7ms/step - loss: 0.2761 - accuracy: 0.8827 - val_loss: 0.5206 - val_accuracy: 0.8333\n",
            "Epoch 59/100\n",
            "6/6 [==============================] - 0s 8ms/step - loss: 0.2743 - accuracy: 0.8704 - val_loss: 0.5177 - val_accuracy: 0.8333\n",
            "Epoch 60/100\n",
            "6/6 [==============================] - 0s 8ms/step - loss: 0.2474 - accuracy: 0.9012 - val_loss: 0.5096 - val_accuracy: 0.8333\n",
            "Epoch 61/100\n",
            "6/6 [==============================] - 0s 7ms/step - loss: 0.2629 - accuracy: 0.9012 - val_loss: 0.5035 - val_accuracy: 0.8333\n",
            "Epoch 62/100\n",
            "6/6 [==============================] - 0s 7ms/step - loss: 0.2530 - accuracy: 0.9136 - val_loss: 0.5004 - val_accuracy: 0.8333\n",
            "Epoch 63/100\n",
            "6/6 [==============================] - 0s 8ms/step - loss: 0.2491 - accuracy: 0.9012 - val_loss: 0.5144 - val_accuracy: 0.8333\n",
            "Epoch 64/100\n",
            "6/6 [==============================] - 0s 8ms/step - loss: 0.2496 - accuracy: 0.8889 - val_loss: 0.5158 - val_accuracy: 0.8333\n",
            "Epoch 65/100\n",
            "6/6 [==============================] - 0s 8ms/step - loss: 0.2336 - accuracy: 0.9074 - val_loss: 0.5174 - val_accuracy: 0.8333\n",
            "Epoch 66/100\n",
            "6/6 [==============================] - 0s 8ms/step - loss: 0.2424 - accuracy: 0.9012 - val_loss: 0.5235 - val_accuracy: 0.8333\n",
            "Epoch 67/100\n",
            "6/6 [==============================] - 0s 7ms/step - loss: 0.2631 - accuracy: 0.8827 - val_loss: 0.5235 - val_accuracy: 0.8333\n",
            "Epoch 68/100\n",
            "6/6 [==============================] - 0s 7ms/step - loss: 0.2610 - accuracy: 0.8827 - val_loss: 0.5191 - val_accuracy: 0.8333\n",
            "Epoch 69/100\n",
            "6/6 [==============================] - 0s 7ms/step - loss: 0.2476 - accuracy: 0.9136 - val_loss: 0.5129 - val_accuracy: 0.8333\n",
            "Epoch 70/100\n",
            "6/6 [==============================] - 0s 9ms/step - loss: 0.2563 - accuracy: 0.8827 - val_loss: 0.5054 - val_accuracy: 0.8148\n",
            "Epoch 71/100\n",
            "6/6 [==============================] - 0s 9ms/step - loss: 0.2521 - accuracy: 0.9012 - val_loss: 0.4996 - val_accuracy: 0.8333\n",
            "Epoch 72/100\n",
            "6/6 [==============================] - 0s 8ms/step - loss: 0.2454 - accuracy: 0.8951 - val_loss: 0.4862 - val_accuracy: 0.8333\n",
            "Epoch 73/100\n",
            "6/6 [==============================] - 0s 8ms/step - loss: 0.2498 - accuracy: 0.8951 - val_loss: 0.4878 - val_accuracy: 0.8333\n",
            "Epoch 74/100\n",
            "6/6 [==============================] - 0s 8ms/step - loss: 0.2504 - accuracy: 0.9012 - val_loss: 0.4960 - val_accuracy: 0.8519\n",
            "Epoch 75/100\n",
            "6/6 [==============================] - 0s 7ms/step - loss: 0.2518 - accuracy: 0.8951 - val_loss: 0.5196 - val_accuracy: 0.8333\n",
            "Epoch 76/100\n",
            "6/6 [==============================] - 0s 7ms/step - loss: 0.2436 - accuracy: 0.8951 - val_loss: 0.5365 - val_accuracy: 0.8333\n",
            "Epoch 77/100\n",
            "6/6 [==============================] - 0s 7ms/step - loss: 0.2402 - accuracy: 0.8951 - val_loss: 0.5281 - val_accuracy: 0.8333\n",
            "Epoch 78/100\n",
            "6/6 [==============================] - 0s 7ms/step - loss: 0.2584 - accuracy: 0.8889 - val_loss: 0.5101 - val_accuracy: 0.8333\n",
            "Epoch 79/100\n",
            "6/6 [==============================] - 0s 7ms/step - loss: 0.2285 - accuracy: 0.9012 - val_loss: 0.5013 - val_accuracy: 0.8148\n",
            "Epoch 80/100\n",
            "6/6 [==============================] - 0s 8ms/step - loss: 0.2191 - accuracy: 0.9136 - val_loss: 0.4954 - val_accuracy: 0.8333\n",
            "Epoch 81/100\n",
            "6/6 [==============================] - 0s 7ms/step - loss: 0.2337 - accuracy: 0.9074 - val_loss: 0.5002 - val_accuracy: 0.8148\n",
            "Epoch 82/100\n",
            "6/6 [==============================] - 0s 7ms/step - loss: 0.2400 - accuracy: 0.9074 - val_loss: 0.5016 - val_accuracy: 0.8148\n",
            "Epoch 83/100\n",
            "6/6 [==============================] - 0s 8ms/step - loss: 0.2498 - accuracy: 0.9012 - val_loss: 0.5077 - val_accuracy: 0.8148\n",
            "Epoch 84/100\n",
            "6/6 [==============================] - 0s 7ms/step - loss: 0.2306 - accuracy: 0.9074 - val_loss: 0.5091 - val_accuracy: 0.8148\n",
            "Epoch 85/100\n",
            "6/6 [==============================] - 0s 8ms/step - loss: 0.2271 - accuracy: 0.9012 - val_loss: 0.5074 - val_accuracy: 0.8148\n",
            "Epoch 86/100\n",
            "6/6 [==============================] - 0s 7ms/step - loss: 0.2391 - accuracy: 0.8951 - val_loss: 0.5094 - val_accuracy: 0.8148\n",
            "Epoch 87/100\n",
            "6/6 [==============================] - 0s 7ms/step - loss: 0.2316 - accuracy: 0.9074 - val_loss: 0.5228 - val_accuracy: 0.8148\n",
            "Epoch 88/100\n",
            "6/6 [==============================] - 0s 7ms/step - loss: 0.2301 - accuracy: 0.8951 - val_loss: 0.5294 - val_accuracy: 0.8148\n",
            "Epoch 89/100\n",
            "6/6 [==============================] - 0s 8ms/step - loss: 0.2381 - accuracy: 0.9074 - val_loss: 0.5450 - val_accuracy: 0.8333\n",
            "Epoch 90/100\n",
            "6/6 [==============================] - 0s 10ms/step - loss: 0.2412 - accuracy: 0.9136 - val_loss: 0.5475 - val_accuracy: 0.8333\n",
            "Epoch 91/100\n",
            "6/6 [==============================] - 0s 8ms/step - loss: 0.2284 - accuracy: 0.9259 - val_loss: 0.5476 - val_accuracy: 0.8333\n",
            "Epoch 92/100\n",
            "6/6 [==============================] - 0s 8ms/step - loss: 0.2312 - accuracy: 0.9074 - val_loss: 0.5469 - val_accuracy: 0.8333\n",
            "Epoch 93/100\n",
            "6/6 [==============================] - 0s 8ms/step - loss: 0.2447 - accuracy: 0.8889 - val_loss: 0.5338 - val_accuracy: 0.8148\n",
            "Epoch 94/100\n",
            "6/6 [==============================] - 0s 8ms/step - loss: 0.2320 - accuracy: 0.8889 - val_loss: 0.5275 - val_accuracy: 0.8148\n",
            "Epoch 95/100\n",
            "6/6 [==============================] - 0s 8ms/step - loss: 0.2347 - accuracy: 0.9074 - val_loss: 0.5261 - val_accuracy: 0.8333\n",
            "Epoch 96/100\n",
            "6/6 [==============================] - 0s 7ms/step - loss: 0.2382 - accuracy: 0.9074 - val_loss: 0.5225 - val_accuracy: 0.8333\n",
            "Epoch 97/100\n",
            "6/6 [==============================] - 0s 7ms/step - loss: 0.2312 - accuracy: 0.9074 - val_loss: 0.5229 - val_accuracy: 0.8333\n",
            "Epoch 98/100\n",
            "6/6 [==============================] - 0s 8ms/step - loss: 0.2378 - accuracy: 0.8889 - val_loss: 0.5232 - val_accuracy: 0.8333\n",
            "Epoch 99/100\n",
            "6/6 [==============================] - 0s 8ms/step - loss: 0.2237 - accuracy: 0.9259 - val_loss: 0.5267 - val_accuracy: 0.8333\n",
            "Epoch 100/100\n",
            "6/6 [==============================] - 0s 8ms/step - loss: 0.2367 - accuracy: 0.9074 - val_loss: 0.5338 - val_accuracy: 0.8148\n"
          ]
        }
      ]
    },
    {
      "cell_type": "markdown",
      "source": [
        "## Wyniki jakie daje sieć\n",
        "\n"
      ],
      "metadata": {
        "id": "Y1aqnVT3WMJc"
      }
    },
    {
      "cell_type": "markdown",
      "source": [
        "Powyżej widać, że zarówno w zbiorze treningowym jak i walidacyjnym rozmiar błędu maleje wraz ze zwiększaniem się numeru epoki, a precyzja przewidywania rośnie.\n",
        "\n",
        "Widać również, że precyzja w końcowych epokach nadal rośnie, a nie utrzymuje się na stabilnym poziomie. Może to sugerować, że obecny model ma za mało epok i można otrzymaj jeszcze wyższą dokładność. To samo dotyczy błędu."
      ],
      "metadata": {
        "id": "y57ICf7vcDEQ"
      }
    },
    {
      "cell_type": "markdown",
      "source": [
        "### Dokładność i precyzja\n",
        "\n",
        "Poniżej obliczono dokładność i precyzje wyników jakie daje sieć używając do tego zbioru testowego.\n",
        "\n",
        "Najpierw sieć wygenerowała przewidywany wynik dla zbioru testowego w postaci wektorów. Następnie przewidywany wynik i wynik jaki powinien być zostały zamienione na wektory jednowymiarowe stworzone z 0 i 1. W kolejnym kroku używamy funkcji calssification_report do oceny sieci.\n",
        "\n"
      ],
      "metadata": {
        "id": "-BV3JpQ9RxfO"
      }
    },
    {
      "cell_type": "code",
      "source": [
        "# zbiór testowy\n",
        "prediction=model.predict(X_test) \n",
        "\n",
        "# ta funkcja szuka maksymalnych wartości po kolumnach; jak znajdzie to wstawia indeks tej kolumny, tak dostaje tablice 0 i 1\n",
        "y_label=np.argmax(y_test,axis=1) \n",
        "predict_label=np.argmax(prediction,axis=1)\n",
        "target_names=[\"absence of disease (0)\", \"presence of disease (1)\"]\n",
        "\n",
        "# Dokładność i precyzja\n",
        "print(classification_report(y_label,predict_label,target_names=target_names))\n",
        "\n"
      ],
      "metadata": {
        "id": "lwLwfaONR4f0",
        "colab": {
          "base_uri": "https://localhost:8080/"
        },
        "outputId": "eaf9ed19-46e7-4c20-88fb-36797601bbfb"
      },
      "execution_count": null,
      "outputs": [
        {
          "output_type": "stream",
          "name": "stdout",
          "text": [
            "2/2 [==============================] - 0s 6ms/step\n",
            "                         precision    recall  f1-score   support\n",
            "\n",
            " absence of disease (0)       0.82      0.82      0.82        28\n",
            "presence of disease (1)       0.81      0.81      0.81        26\n",
            "\n",
            "               accuracy                           0.81        54\n",
            "              macro avg       0.81      0.81      0.81        54\n",
            "           weighted avg       0.81      0.81      0.81        54\n",
            "\n"
          ]
        }
      ]
    },
    {
      "cell_type": "markdown",
      "source": [
        "Wyświetlam raport z klasyfikacji, który mierzy jakość przewidywań sieci.\n",
        "\n",
        "Dokładność: Na poziomie bliskim 80%\n",
        "\n",
        "Precyzja: Wysoka dla obu klas"
      ],
      "metadata": {
        "id": "nnRXD2mVbtjK"
      }
    },
    {
      "cell_type": "markdown",
      "source": [
        "### Krzywa ROC\n",
        "\n",
        "Krzywa ROC to jeden ze sposobów wizualizacji jakości klasyfikacji, pokazujący zależności wskaźników TPR (True Positive Rate) oraz FPR (False Positive Rate).\n",
        "\n",
        "Im bardziej wykres zmierza do lewego górnego rogu tym lepszy klasyfikator otrzymaliśmy. Oznacza to, że otrzymujemy więcej wyników pozytywnie prawdziwych w stosunku do fałszywie pozytywnych, które są bardzo niepożądane, ponieważ w tym przypadku wskzują, że ktoś jest zdrowy gdy tak naprawdę jest chory. \n",
        "\n",
        "Dodatkowo pole pod krzywą (AUC) może służyć jako podsumowanie umiejętności modelu.\n"
      ],
      "metadata": {
        "id": "nNTVsWDwWWO6"
      }
    },
    {
      "cell_type": "code",
      "source": [
        "# Krzywa ROC\n",
        "y_proba = prediction[:,1]\n",
        "fpr, tpr, threshold = roc_curve(y_label,y_proba)\n",
        "\n",
        "# Pole powierzchni pod wykresem (AUC)\n",
        "auc = roc_auc_score(y_label,y_proba)\n",
        "print('AUC: ', auc)\n",
        "plt.plot(fpr,tpr)\n",
        "plt.xlabel('False Positive Rate')\n",
        "plt.ylabel('True Positive Rate')"
      ],
      "metadata": {
        "colab": {
          "base_uri": "https://localhost:8080/",
          "height": 315
        },
        "id": "Bo3z_XMRWacZ",
        "outputId": "e4098c65-e7f3-4d2b-b4a8-07688fe9f6bf"
      },
      "execution_count": null,
      "outputs": [
        {
          "output_type": "stream",
          "name": "stdout",
          "text": [
            "AUC:  0.8914835164835165\n"
          ]
        },
        {
          "output_type": "execute_result",
          "data": {
            "text/plain": [
              "Text(0, 0.5, 'True Positive Rate')"
            ]
          },
          "metadata": {},
          "execution_count": 205
        },
        {
          "output_type": "display_data",
          "data": {
            "text/plain": [
              "<Figure size 432x288 with 1 Axes>"
            ],
            "image/png": "[encoded data removed]"
          },
          "metadata": {
            "needs_background": "light"
          }
        }
      ]
    },
    {
      "cell_type": "markdown",
      "source": [
        "Widać, że w przypdaku naszego modelu krzywa ROC jest w miarę blisko lewego górnego rogu, co oznacza, że klasyfikacja przebiega całkiem sprawnie. Pole pod krzywą to około 0.80-0.90, potwierdza wysoką skuteczność klasyfikatora. "
      ],
      "metadata": {
        "id": "K2hx6gMzk-ZD"
      }
    },
    {
      "cell_type": "markdown",
      "source": [
        "### Złożoność i zbieżność\n"
      ],
      "metadata": {
        "id": "1xf400MNkrwT"
      }
    },
    {
      "cell_type": "code",
      "source": [
        "# Podsumowanie historii dokładności\n",
        "plt.plot(history.history['accuracy'])\n",
        "plt.plot(history.history['val_accuracy'])\n",
        "plt.title('model accuracy')\n",
        "plt.ylabel('accuracy')\n",
        "plt.xlabel('epoch')\n",
        "plt.legend(['train', 'valid'], loc='upper left')\n",
        "plt.show()\n",
        "# Podsumowanie historii błędu\n",
        "plt.plot(history.history['loss'])\n",
        "plt.plot(history.history['val_loss'])\n",
        "plt.title('model loss')\n",
        "plt.ylabel('loss')\n",
        "plt.xlabel('epoch')\n",
        "plt.legend(['train', 'valid'], loc='upper left')\n",
        "plt.show()"
      ],
      "metadata": {
        "colab": {
          "base_uri": "https://localhost:8080/",
          "height": 573
        },
        "id": "5_eUAtDfk0u3",
        "outputId": "49e3abc8-68d5-4e5b-80e3-5802b1eca93f"
      },
      "execution_count": null,
      "outputs": [
        {
          "output_type": "display_data",
          "data": {
            "text/plain": [
              "<Figure size 432x288 with 1 Axes>"
            ],
            "image/png": "[encoded data removed]"
          },
          "metadata": {
            "needs_background": "light"
          }
        },
        {
          "output_type": "display_data",
          "data": {
            "text/plain": [
              "<Figure size 432x288 with 1 Axes>"
            ],
            "image/png": "[encoded data removed]"
          },
          "metadata": {
            "needs_background": "light"
          }
        }
      ]
    },
    {
      "cell_type": "markdown",
      "source": [
        "Zbieżność: Po około 20 epokach dokładność sieci zaczyna oscylować w okolicach 80%. Jednak z drugiego wykresu widać, że błąd dla zbioru walidacyjnego po spadku zaczyna znowu rosnąć co świadczy o przetrenowaniu modelu. \n",
        "\n",
        "Złożoność: Mało złożona sieć \n",
        "\n",
        "Tylko jedna warstwa ukryta z 61 neuronami, które używają funkcji relu. Jej obliczenie nie jest skomplikowana, ponieważ to max(0,x). Wyjście to 2 neurony które używają bardziej skomplikowanej fukcji niż relu, bo funkcji sigmoid, ale to tylko 2 neurony, więc całościowo nie komplikuje to bardzo budowy sieci. Aktualizacja wag występuje co 32 próbki danych w trakcie trwania każdej ze 100 epok."
      ],
      "metadata": {
        "id": "mTf5QDZC0qJ4"
      }
    },
    {
      "cell_type": "markdown",
      "source": [
        "## Dostrajanie parametrów\n",
        "\n",
        "Poniżej zostało przygotowanych kilka wersji modeli w celu dobrania jak najlepszych parametrów sieci, która da nam najlepsze możliwe przewidywanie wyniku dla naszych danych."
      ],
      "metadata": {
        "id": "mzhW8kM3a_CJ"
      }
    },
    {
      "cell_type": "markdown",
      "source": [
        "### Model 1\n",
        "\n",
        "Zmieniono liczbę epok z 100 na 20, aby zmniejszyć ryzyko przetrenowania, które występuje w modelu 0."
      ],
      "metadata": {
        "id": "302GTKEnLtGl"
      }
    },
    {
      "cell_type": "code",
      "source": [
        "# Inicjalizacja modelu\n",
        "model5 = Sequential()\n",
        "\n",
        "# Dodawanie warstw\n",
        "model5.add(Dense(61,input_dim=30, activation='relu'))\n",
        "# Ochrona przed przetrenowaniem\n",
        "model5.add(Dropout(0.2))\n",
        "model5.add(Dense(2,activation='sigmoid')) \n",
        "\n",
        "# Kompilacja sieci neuronowej\n",
        "model5.compile(loss='binary_crossentropy', optimizer='adam',metrics=['accuracy'])\n",
        "\n",
        "# Trenowanie sieci neuronowej\n",
        "history5 = model5.fit(X_train,y_train,validation_data=(X_valid,y_valid), batch_size=32,epochs=20,verbose=1)\n",
        "\n",
        "# Testowanie sieci\n",
        "prediction5=model5.predict(X_test)\n",
        "y_label5=np.argmax(y_test,axis=1) \n",
        "predict_label5=np.argmax(prediction5,axis=1)\n",
        "\n",
        "# Dokładność i precyzja\n",
        "target_names=[\"absence of disease (0)\", \"presence of disease (1)\"]\n",
        "print(classification_report(y_label5,predict_label5, target_names=target_names))\n",
        "\n",
        "# Podsumowanie historii dokładności\n",
        "plt.plot(history5.history['accuracy'])\n",
        "plt.plot(history5.history['val_accuracy'])\n",
        "plt.title('model accuracy')\n",
        "plt.ylabel('accuracy')\n",
        "plt.xlabel('epoch')\n",
        "plt.legend(['train', 'valid'], loc='upper left')\n",
        "plt.show()\n",
        "# Podsumowanie historii błędu\n",
        "plt.plot(history5.history['loss'])\n",
        "plt.plot(history5.history['val_loss'])\n",
        "plt.title('model loss')\n",
        "plt.ylabel('loss')\n",
        "plt.xlabel('epoch')\n",
        "plt.legend(['train', 'valid'], loc='upper left')\n",
        "plt.show()"
      ],
      "metadata": {
        "colab": {
          "base_uri": "https://localhost:8080/",
          "height": 1000
        },
        "id": "a75hyc03L_mr",
        "outputId": "7640a274-f31a-4923-e68d-af258c9224e2"
      },
      "execution_count": null,
      "outputs": [
        {
          "output_type": "stream",
          "name": "stdout",
          "text": [
            "Epoch 1/20\n",
            "6/6 [==============================] - 1s 43ms/step - loss: 0.7419 - accuracy: 0.4012 - val_loss: 0.7201 - val_accuracy: 0.4630\n",
            "Epoch 2/20\n",
            "6/6 [==============================] - 0s 7ms/step - loss: 0.6897 - accuracy: 0.5556 - val_loss: 0.6872 - val_accuracy: 0.5741\n",
            "Epoch 3/20\n",
            "6/6 [==============================] - 0s 11ms/step - loss: 0.6532 - accuracy: 0.6420 - val_loss: 0.6617 - val_accuracy: 0.6852\n",
            "Epoch 4/20\n",
            "6/6 [==============================] - 0s 7ms/step - loss: 0.6196 - accuracy: 0.7469 - val_loss: 0.6423 - val_accuracy: 0.7407\n",
            "Epoch 5/20\n",
            "6/6 [==============================] - 0s 9ms/step - loss: 0.5947 - accuracy: 0.8025 - val_loss: 0.6237 - val_accuracy: 0.7593\n",
            "Epoch 6/20\n",
            "6/6 [==============================] - 0s 8ms/step - loss: 0.5865 - accuracy: 0.7840 - val_loss: 0.6064 - val_accuracy: 0.7407\n",
            "Epoch 7/20\n",
            "6/6 [==============================] - 0s 8ms/step - loss: 0.5442 - accuracy: 0.8519 - val_loss: 0.5893 - val_accuracy: 0.7778\n",
            "Epoch 8/20\n",
            "6/6 [==============================] - 0s 10ms/step - loss: 0.5352 - accuracy: 0.8148 - val_loss: 0.5731 - val_accuracy: 0.7963\n",
            "Epoch 9/20\n",
            "6/6 [==============================] - 0s 8ms/step - loss: 0.5218 - accuracy: 0.8519 - val_loss: 0.5575 - val_accuracy: 0.7963\n",
            "Epoch 10/20\n",
            "6/6 [==============================] - 0s 7ms/step - loss: 0.4962 - accuracy: 0.8704 - val_loss: 0.5438 - val_accuracy: 0.8148\n",
            "Epoch 11/20\n",
            "6/6 [==============================] - 0s 7ms/step - loss: 0.4751 - accuracy: 0.8580 - val_loss: 0.5337 - val_accuracy: 0.8148\n",
            "Epoch 12/20\n",
            "6/6 [==============================] - 0s 9ms/step - loss: 0.4603 - accuracy: 0.8765 - val_loss: 0.5262 - val_accuracy: 0.8148\n",
            "Epoch 13/20\n",
            "6/6 [==============================] - 0s 7ms/step - loss: 0.4478 - accuracy: 0.8580 - val_loss: 0.5192 - val_accuracy: 0.8148\n",
            "Epoch 14/20\n",
            "6/6 [==============================] - 0s 7ms/step - loss: 0.4316 - accuracy: 0.8333 - val_loss: 0.5107 - val_accuracy: 0.8333\n",
            "Epoch 15/20\n",
            "6/6 [==============================] - 0s 7ms/step - loss: 0.4114 - accuracy: 0.8704 - val_loss: 0.5036 - val_accuracy: 0.8333\n",
            "Epoch 16/20\n",
            "6/6 [==============================] - 0s 7ms/step - loss: 0.4100 - accuracy: 0.8765 - val_loss: 0.4970 - val_accuracy: 0.8333\n",
            "Epoch 17/20\n",
            "6/6 [==============================] - 0s 11ms/step - loss: 0.3938 - accuracy: 0.8704 - val_loss: 0.4878 - val_accuracy: 0.8333\n",
            "Epoch 18/20\n",
            "6/6 [==============================] - 0s 11ms/step - loss: 0.3774 - accuracy: 0.8580 - val_loss: 0.4804 - val_accuracy: 0.8333\n",
            "Epoch 19/20\n",
            "6/6 [==============================] - 0s 9ms/step - loss: 0.3553 - accuracy: 0.8827 - val_loss: 0.4755 - val_accuracy: 0.8333\n",
            "Epoch 20/20\n",
            "6/6 [==============================] - 0s 8ms/step - loss: 0.3511 - accuracy: 0.8765 - val_loss: 0.4708 - val_accuracy: 0.8333\n",
            "2/2 [==============================] - 0s 6ms/step\n",
            "                         precision    recall  f1-score   support\n",
            "\n",
            " absence of disease (0)       0.79      0.79      0.79        28\n",
            "presence of disease (1)       0.77      0.77      0.77        26\n",
            "\n",
            "               accuracy                           0.78        54\n",
            "              macro avg       0.78      0.78      0.78        54\n",
            "           weighted avg       0.78      0.78      0.78        54\n",
            "\n"
          ]
        },
        {
          "output_type": "display_data",
          "data": {
            "text/plain": [
              "<Figure size 432x288 with 1 Axes>"
            ],
            "image/png": "[encoded data removed]"
          },
          "metadata": {
            "needs_background": "light"
          }
        },
        {
          "output_type": "display_data",
          "data": {
            "text/plain": [
              "<Figure size 432x288 with 1 Axes>"
            ],
            "image/png": "[encoded data removed]"
          },
          "metadata": {
            "needs_background": "light"
          }
        }
      ]
    },
    {
      "cell_type": "markdown",
      "source": [
        "Dokładność: Nie uległa znaczącej zmianie w stosunku do modelu 0.\n",
        "\n",
        "Precyzja: Praktycznie bez zmian dla obu klas w porównaniu do modelu 0.\n",
        "\n",
        "Zbieżność: Maksymalna dokładność została osiągnięta, ponieważ według wykresu utrzymuje się na stałym poziomie około 80%. Minimalny błąd prawdopodobnie został osiągnięty, ponieważ obje krzywe zaczynają się wypłaszczać w okolicach ostatnich epok.\n",
        "\n",
        "Złożoność: Mniejsza niż model 0\n",
        "\n",
        "Model zostanie przetrenowny na danych znacznie mniej razy niż w modelu 0, przez co wykona się znacznie mniej obliczeń.\n",
        " "
      ],
      "metadata": {
        "id": "EdgGtbCGZoKb"
      }
    },
    {
      "cell_type": "code",
      "source": [
        "# Krzywa ROC\n",
        "y_proba5 = prediction5[:,1]\n",
        "fpr5, tpr5, _ = roc_curve(y_label5,y_proba5)\n",
        "plt.plot(fpr5,tpr5)\n",
        "plt.xlabel('False Positive Rate')\n",
        "plt.ylabel('True Positive Rate')\n",
        "\n",
        "# Pole powierzchni pod krzywą (AUC)\n",
        "auc5 = roc_auc_score(y_label5,y_proba5)\n",
        "print('AUC: ', auc5)"
      ],
      "metadata": {
        "colab": {
          "base_uri": "https://localhost:8080/",
          "height": 297
        },
        "id": "rDUoaAstX3Cs",
        "outputId": "52bebbf8-b193-4a8b-b029-dd5c4990f4ee"
      },
      "execution_count": null,
      "outputs": [
        {
          "output_type": "stream",
          "name": "stdout",
          "text": [
            "AUC:  0.8914835164835164\n"
          ]
        },
        {
          "output_type": "display_data",
          "data": {
            "text/plain": [
              "<Figure size 432x288 with 1 Axes>"
            ],
            "image/png": "[encoded data removed]"
          },
          "metadata": {
            "needs_background": "light"
          }
        }
      ]
    },
    {
      "cell_type": "markdown",
      "source": [
        "\n",
        "Wykres jest blisko lewego górnego narożnika, czyli otrzymujemy stosunkowo więcej wyników pozytywnie prawdziwych niż fałszywie prawdziwych. Z tego wynika, że model jest dobrym klasyfikatorem. \n"
      ],
      "metadata": {
        "id": "VZE2C9zaMz_g"
      }
    },
    {
      "cell_type": "markdown",
      "source": [
        "### Model 2\n",
        "\n",
        "Sprawdzam czy zmniejszenie liczby neuronów w warstwie ukrytej o połowe poprawi działanie sieci. "
      ],
      "metadata": {
        "id": "7XPuupnWGP7q"
      }
    },
    {
      "cell_type": "code",
      "source": [
        "# Inicjalizacja modelu\n",
        "model2 = Sequential()\n",
        "\n",
        "# Dodawanie warstw\n",
        "model2.add(Dense(30,input_dim=30, activation='relu'))\n",
        "# Ochrona przed przetrenowaniem\n",
        "model2.add(Dropout(0.2))\n",
        "model2.add(Dense(2,activation='sigmoid')) \n",
        "\n",
        "\n",
        "# Kompilacja sieci neuronowej\n",
        "model2.compile(loss='binary_crossentropy', optimizer='adam',metrics=['accuracy'])\n",
        "\n",
        "# Trenowanie sieci neuronowej\n",
        "history2 = model2.fit(X_train,y_train,validation_data=(X_valid,y_valid), batch_size=32,epochs=100,verbose=1)\n",
        "\n",
        "# Testowanie sieci \n",
        "prediction2=model2.predict(X_test)\n",
        "y_label2=np.argmax(y_test,axis=1)\n",
        "predict_label2=np.argmax(prediction2,axis=1)\n",
        "\n",
        "# Dokładność i precyzja\n",
        "target_names=[\"absence of disease (0)\", \"presence of disease (1)\"]\n",
        "print(classification_report(y_label2,predict_label2, target_names=target_names))\n",
        "\n",
        "# Podsumowanie historii dokładności\n",
        "plt.plot(history2.history['accuracy'])\n",
        "plt.plot(history2.history['val_accuracy'])\n",
        "plt.title('model accuracy')\n",
        "plt.ylabel('accuracy')\n",
        "plt.xlabel('epoch')\n",
        "plt.legend(['train', 'valid'], loc='upper left')\n",
        "plt.show()\n",
        "# Podsumowanie historii błędu\n",
        "plt.plot(history2.history['loss'])\n",
        "plt.plot(history2.history['val_loss'])\n",
        "plt.title('model loss')\n",
        "plt.ylabel('loss')\n",
        "plt.xlabel('epoch')\n",
        "plt.legend(['train', 'valid'], loc='upper left')\n",
        "plt.show()"
      ],
      "metadata": {
        "colab": {
          "base_uri": "https://localhost:8080/",
          "height": 1000
        },
        "id": "c37AwqizGitG",
        "outputId": "d0fb6182-ba39-4d82-b2e4-2b9575fa4f32"
      },
      "execution_count": null,
      "outputs": [
        {
          "output_type": "stream",
          "name": "stdout",
          "text": [
            "Epoch 1/100\n",
            "6/6 [==============================] - 1s 44ms/step - loss: 0.6804 - accuracy: 0.5741 - val_loss: 0.6528 - val_accuracy: 0.7222\n",
            "Epoch 2/100\n",
            "6/6 [==============================] - 0s 7ms/step - loss: 0.6606 - accuracy: 0.6543 - val_loss: 0.6353 - val_accuracy: 0.7963\n",
            "Epoch 3/100\n",
            "6/6 [==============================] - 0s 11ms/step - loss: 0.6413 - accuracy: 0.6481 - val_loss: 0.6209 - val_accuracy: 0.7963\n",
            "Epoch 4/100\n",
            "6/6 [==============================] - 0s 7ms/step - loss: 0.6160 - accuracy: 0.7160 - val_loss: 0.6093 - val_accuracy: 0.7778\n",
            "Epoch 5/100\n",
            "6/6 [==============================] - 0s 7ms/step - loss: 0.5873 - accuracy: 0.7593 - val_loss: 0.6005 - val_accuracy: 0.7778\n",
            "Epoch 6/100\n",
            "6/6 [==============================] - 0s 7ms/step - loss: 0.5870 - accuracy: 0.7469 - val_loss: 0.5939 - val_accuracy: 0.7407\n",
            "Epoch 7/100\n",
            "6/6 [==============================] - 0s 8ms/step - loss: 0.5700 - accuracy: 0.7407 - val_loss: 0.5884 - val_accuracy: 0.7407\n",
            "Epoch 8/100\n",
            "6/6 [==============================] - 0s 7ms/step - loss: 0.5542 - accuracy: 0.7654 - val_loss: 0.5814 - val_accuracy: 0.7407\n",
            "Epoch 9/100\n",
            "6/6 [==============================] - 0s 8ms/step - loss: 0.5443 - accuracy: 0.7901 - val_loss: 0.5751 - val_accuracy: 0.7407\n",
            "Epoch 10/100\n",
            "6/6 [==============================] - 0s 8ms/step - loss: 0.5185 - accuracy: 0.8025 - val_loss: 0.5710 - val_accuracy: 0.7593\n",
            "Epoch 11/100\n",
            "6/6 [==============================] - 0s 7ms/step - loss: 0.5254 - accuracy: 0.7840 - val_loss: 0.5647 - val_accuracy: 0.7963\n",
            "Epoch 12/100\n",
            "6/6 [==============================] - 0s 7ms/step - loss: 0.4984 - accuracy: 0.8025 - val_loss: 0.5558 - val_accuracy: 0.8148\n",
            "Epoch 13/100\n",
            "6/6 [==============================] - 0s 11ms/step - loss: 0.4966 - accuracy: 0.8025 - val_loss: 0.5465 - val_accuracy: 0.8148\n",
            "Epoch 14/100\n",
            "6/6 [==============================] - 0s 7ms/step - loss: 0.4750 - accuracy: 0.8086 - val_loss: 0.5377 - val_accuracy: 0.8333\n",
            "Epoch 15/100\n",
            "6/6 [==============================] - 0s 10ms/step - loss: 0.4824 - accuracy: 0.8457 - val_loss: 0.5302 - val_accuracy: 0.8333\n",
            "Epoch 16/100\n",
            "6/6 [==============================] - 0s 9ms/step - loss: 0.4556 - accuracy: 0.8333 - val_loss: 0.5246 - val_accuracy: 0.8148\n",
            "Epoch 17/100\n",
            "6/6 [==============================] - 0s 7ms/step - loss: 0.4606 - accuracy: 0.8086 - val_loss: 0.5207 - val_accuracy: 0.8333\n",
            "Epoch 18/100\n",
            "6/6 [==============================] - 0s 7ms/step - loss: 0.4505 - accuracy: 0.8519 - val_loss: 0.5172 - val_accuracy: 0.8333\n",
            "Epoch 19/100\n",
            "6/6 [==============================] - 0s 7ms/step - loss: 0.4337 - accuracy: 0.8457 - val_loss: 0.5123 - val_accuracy: 0.8333\n",
            "Epoch 20/100\n",
            "6/6 [==============================] - 0s 7ms/step - loss: 0.4461 - accuracy: 0.8210 - val_loss: 0.5088 - val_accuracy: 0.8148\n",
            "Epoch 21/100\n",
            "6/6 [==============================] - 0s 7ms/step - loss: 0.4196 - accuracy: 0.8086 - val_loss: 0.5052 - val_accuracy: 0.8148\n",
            "Epoch 22/100\n",
            "6/6 [==============================] - 0s 7ms/step - loss: 0.4244 - accuracy: 0.8333 - val_loss: 0.5025 - val_accuracy: 0.8148\n",
            "Epoch 23/100\n",
            "6/6 [==============================] - 0s 7ms/step - loss: 0.4075 - accuracy: 0.8333 - val_loss: 0.4987 - val_accuracy: 0.8333\n",
            "Epoch 24/100\n",
            "6/6 [==============================] - 0s 8ms/step - loss: 0.4066 - accuracy: 0.8395 - val_loss: 0.4945 - val_accuracy: 0.8333\n",
            "Epoch 25/100\n",
            "6/6 [==============================] - 0s 8ms/step - loss: 0.3980 - accuracy: 0.8272 - val_loss: 0.4905 - val_accuracy: 0.8333\n",
            "Epoch 26/100\n",
            "6/6 [==============================] - 0s 7ms/step - loss: 0.3698 - accuracy: 0.8519 - val_loss: 0.4889 - val_accuracy: 0.8333\n",
            "Epoch 27/100\n",
            "6/6 [==============================] - 0s 7ms/step - loss: 0.3763 - accuracy: 0.8580 - val_loss: 0.4883 - val_accuracy: 0.8333\n",
            "Epoch 28/100\n",
            "6/6 [==============================] - 0s 8ms/step - loss: 0.3815 - accuracy: 0.8333 - val_loss: 0.4881 - val_accuracy: 0.8333\n",
            "Epoch 29/100\n",
            "6/6 [==============================] - 0s 7ms/step - loss: 0.3715 - accuracy: 0.8210 - val_loss: 0.4905 - val_accuracy: 0.8333\n",
            "Epoch 30/100\n",
            "6/6 [==============================] - 0s 7ms/step - loss: 0.3601 - accuracy: 0.8519 - val_loss: 0.4950 - val_accuracy: 0.8148\n",
            "Epoch 31/100\n",
            "6/6 [==============================] - 0s 7ms/step - loss: 0.3619 - accuracy: 0.8333 - val_loss: 0.4959 - val_accuracy: 0.8148\n",
            "Epoch 32/100\n",
            "6/6 [==============================] - 0s 7ms/step - loss: 0.3509 - accuracy: 0.8519 - val_loss: 0.4962 - val_accuracy: 0.8148\n",
            "Epoch 33/100\n",
            "6/6 [==============================] - 0s 7ms/step - loss: 0.3367 - accuracy: 0.8765 - val_loss: 0.4936 - val_accuracy: 0.8148\n",
            "Epoch 34/100\n",
            "6/6 [==============================] - 0s 7ms/step - loss: 0.3361 - accuracy: 0.8519 - val_loss: 0.4916 - val_accuracy: 0.8148\n",
            "Epoch 35/100\n",
            "6/6 [==============================] - 0s 7ms/step - loss: 0.3481 - accuracy: 0.8333 - val_loss: 0.4911 - val_accuracy: 0.8148\n",
            "Epoch 36/100\n",
            "6/6 [==============================] - 0s 10ms/step - loss: 0.3314 - accuracy: 0.8395 - val_loss: 0.4865 - val_accuracy: 0.8148\n",
            "Epoch 37/100\n",
            "6/6 [==============================] - 0s 8ms/step - loss: 0.3362 - accuracy: 0.8642 - val_loss: 0.4862 - val_accuracy: 0.8148\n",
            "Epoch 38/100\n",
            "6/6 [==============================] - 0s 7ms/step - loss: 0.3542 - accuracy: 0.8395 - val_loss: 0.4898 - val_accuracy: 0.8148\n",
            "Epoch 39/100\n",
            "6/6 [==============================] - 0s 7ms/step - loss: 0.3393 - accuracy: 0.8580 - val_loss: 0.4871 - val_accuracy: 0.8148\n",
            "Epoch 40/100\n",
            "6/6 [==============================] - 0s 7ms/step - loss: 0.3148 - accuracy: 0.8457 - val_loss: 0.4806 - val_accuracy: 0.8148\n",
            "Epoch 41/100\n",
            "6/6 [==============================] - 0s 7ms/step - loss: 0.3210 - accuracy: 0.8704 - val_loss: 0.4820 - val_accuracy: 0.8148\n",
            "Epoch 42/100\n",
            "6/6 [==============================] - 0s 7ms/step - loss: 0.3135 - accuracy: 0.8580 - val_loss: 0.4823 - val_accuracy: 0.8148\n",
            "Epoch 43/100\n",
            "6/6 [==============================] - 0s 7ms/step - loss: 0.3128 - accuracy: 0.8580 - val_loss: 0.4848 - val_accuracy: 0.8148\n",
            "Epoch 44/100\n",
            "6/6 [==============================] - 0s 8ms/step - loss: 0.3163 - accuracy: 0.8704 - val_loss: 0.4888 - val_accuracy: 0.8148\n",
            "Epoch 45/100\n",
            "6/6 [==============================] - 0s 8ms/step - loss: 0.3083 - accuracy: 0.8704 - val_loss: 0.4917 - val_accuracy: 0.8148\n",
            "Epoch 46/100\n",
            "6/6 [==============================] - 0s 7ms/step - loss: 0.2968 - accuracy: 0.8704 - val_loss: 0.4916 - val_accuracy: 0.8148\n",
            "Epoch 47/100\n",
            "6/6 [==============================] - 0s 8ms/step - loss: 0.3140 - accuracy: 0.8519 - val_loss: 0.4929 - val_accuracy: 0.8148\n",
            "Epoch 48/100\n",
            "6/6 [==============================] - 0s 7ms/step - loss: 0.3030 - accuracy: 0.8889 - val_loss: 0.4997 - val_accuracy: 0.8148\n",
            "Epoch 49/100\n",
            "6/6 [==============================] - 0s 10ms/step - loss: 0.3018 - accuracy: 0.8580 - val_loss: 0.5045 - val_accuracy: 0.8148\n",
            "Epoch 50/100\n",
            "6/6 [==============================] - 0s 7ms/step - loss: 0.2949 - accuracy: 0.8580 - val_loss: 0.5063 - val_accuracy: 0.8148\n",
            "Epoch 51/100\n",
            "6/6 [==============================] - 0s 7ms/step - loss: 0.2862 - accuracy: 0.8704 - val_loss: 0.5010 - val_accuracy: 0.8148\n",
            "Epoch 52/100\n",
            "6/6 [==============================] - 0s 7ms/step - loss: 0.2826 - accuracy: 0.8765 - val_loss: 0.4983 - val_accuracy: 0.8148\n",
            "Epoch 53/100\n",
            "6/6 [==============================] - 0s 8ms/step - loss: 0.3046 - accuracy: 0.8765 - val_loss: 0.5005 - val_accuracy: 0.8148\n",
            "Epoch 54/100\n",
            "6/6 [==============================] - 0s 7ms/step - loss: 0.3031 - accuracy: 0.8704 - val_loss: 0.5026 - val_accuracy: 0.8148\n",
            "Epoch 55/100\n",
            "6/6 [==============================] - 0s 8ms/step - loss: 0.2821 - accuracy: 0.8765 - val_loss: 0.5058 - val_accuracy: 0.8148\n",
            "Epoch 56/100\n",
            "6/6 [==============================] - 0s 13ms/step - loss: 0.3059 - accuracy: 0.8642 - val_loss: 0.5116 - val_accuracy: 0.8148\n",
            "Epoch 57/100\n",
            "6/6 [==============================] - 0s 7ms/step - loss: 0.2954 - accuracy: 0.8642 - val_loss: 0.5146 - val_accuracy: 0.8148\n",
            "Epoch 58/100\n",
            "6/6 [==============================] - 0s 7ms/step - loss: 0.2804 - accuracy: 0.8827 - val_loss: 0.5219 - val_accuracy: 0.8148\n",
            "Epoch 59/100\n",
            "6/6 [==============================] - 0s 8ms/step - loss: 0.2897 - accuracy: 0.8580 - val_loss: 0.5278 - val_accuracy: 0.8333\n",
            "Epoch 60/100\n",
            "6/6 [==============================] - 0s 11ms/step - loss: 0.2839 - accuracy: 0.8889 - val_loss: 0.5301 - val_accuracy: 0.8333\n",
            "Epoch 61/100\n",
            "6/6 [==============================] - 0s 7ms/step - loss: 0.2908 - accuracy: 0.8827 - val_loss: 0.5320 - val_accuracy: 0.8333\n",
            "Epoch 62/100\n",
            "6/6 [==============================] - 0s 7ms/step - loss: 0.2986 - accuracy: 0.8519 - val_loss: 0.5269 - val_accuracy: 0.8333\n",
            "Epoch 63/100\n",
            "6/6 [==============================] - 0s 7ms/step - loss: 0.2941 - accuracy: 0.8642 - val_loss: 0.5150 - val_accuracy: 0.8148\n",
            "Epoch 64/100\n",
            "6/6 [==============================] - 0s 8ms/step - loss: 0.2706 - accuracy: 0.8889 - val_loss: 0.5215 - val_accuracy: 0.8333\n",
            "Epoch 65/100\n",
            "6/6 [==============================] - 0s 7ms/step - loss: 0.2737 - accuracy: 0.8889 - val_loss: 0.5244 - val_accuracy: 0.8333\n",
            "Epoch 66/100\n",
            "6/6 [==============================] - 0s 7ms/step - loss: 0.2612 - accuracy: 0.8889 - val_loss: 0.5229 - val_accuracy: 0.8333\n",
            "Epoch 67/100\n",
            "6/6 [==============================] - 0s 8ms/step - loss: 0.2883 - accuracy: 0.8580 - val_loss: 0.5136 - val_accuracy: 0.8333\n",
            "Epoch 68/100\n",
            "6/6 [==============================] - 0s 7ms/step - loss: 0.2777 - accuracy: 0.8519 - val_loss: 0.5107 - val_accuracy: 0.8333\n",
            "Epoch 69/100\n",
            "6/6 [==============================] - 0s 7ms/step - loss: 0.2641 - accuracy: 0.9074 - val_loss: 0.5115 - val_accuracy: 0.8333\n",
            "Epoch 70/100\n",
            "6/6 [==============================] - 0s 7ms/step - loss: 0.2747 - accuracy: 0.8889 - val_loss: 0.5085 - val_accuracy: 0.8333\n",
            "Epoch 71/100\n",
            "6/6 [==============================] - 0s 7ms/step - loss: 0.2611 - accuracy: 0.8889 - val_loss: 0.5108 - val_accuracy: 0.8333\n",
            "Epoch 72/100\n",
            "6/6 [==============================] - 0s 8ms/step - loss: 0.2880 - accuracy: 0.8704 - val_loss: 0.5164 - val_accuracy: 0.8333\n",
            "Epoch 73/100\n",
            "6/6 [==============================] - 0s 7ms/step - loss: 0.2569 - accuracy: 0.8889 - val_loss: 0.5229 - val_accuracy: 0.8333\n",
            "Epoch 74/100\n",
            "6/6 [==============================] - 0s 7ms/step - loss: 0.2634 - accuracy: 0.8827 - val_loss: 0.5244 - val_accuracy: 0.8333\n",
            "Epoch 75/100\n",
            "6/6 [==============================] - 0s 7ms/step - loss: 0.2524 - accuracy: 0.8951 - val_loss: 0.5302 - val_accuracy: 0.8333\n",
            "Epoch 76/100\n",
            "6/6 [==============================] - 0s 9ms/step - loss: 0.2606 - accuracy: 0.8889 - val_loss: 0.5357 - val_accuracy: 0.8333\n",
            "Epoch 77/100\n",
            "6/6 [==============================] - 0s 7ms/step - loss: 0.2758 - accuracy: 0.8765 - val_loss: 0.5376 - val_accuracy: 0.8333\n",
            "Epoch 78/100\n",
            "6/6 [==============================] - 0s 7ms/step - loss: 0.2762 - accuracy: 0.8827 - val_loss: 0.5340 - val_accuracy: 0.8333\n",
            "Epoch 79/100\n",
            "6/6 [==============================] - 0s 7ms/step - loss: 0.2578 - accuracy: 0.8889 - val_loss: 0.5303 - val_accuracy: 0.8333\n",
            "Epoch 80/100\n",
            "6/6 [==============================] - 0s 7ms/step - loss: 0.2439 - accuracy: 0.8889 - val_loss: 0.5303 - val_accuracy: 0.8333\n",
            "Epoch 81/100\n",
            "6/6 [==============================] - 0s 7ms/step - loss: 0.2550 - accuracy: 0.9074 - val_loss: 0.5217 - val_accuracy: 0.8333\n",
            "Epoch 82/100\n",
            "6/6 [==============================] - 0s 7ms/step - loss: 0.2655 - accuracy: 0.8765 - val_loss: 0.5169 - val_accuracy: 0.8333\n",
            "Epoch 83/100\n",
            "6/6 [==============================] - 0s 7ms/step - loss: 0.2544 - accuracy: 0.8889 - val_loss: 0.5154 - val_accuracy: 0.8333\n",
            "Epoch 84/100\n",
            "6/6 [==============================] - 0s 7ms/step - loss: 0.2663 - accuracy: 0.9136 - val_loss: 0.5191 - val_accuracy: 0.8333\n",
            "Epoch 85/100\n",
            "6/6 [==============================] - 0s 7ms/step - loss: 0.2744 - accuracy: 0.8765 - val_loss: 0.5330 - val_accuracy: 0.8333\n",
            "Epoch 86/100\n",
            "6/6 [==============================] - 0s 7ms/step - loss: 0.2719 - accuracy: 0.8765 - val_loss: 0.5499 - val_accuracy: 0.8333\n",
            "Epoch 87/100\n",
            "6/6 [==============================] - 0s 7ms/step - loss: 0.2899 - accuracy: 0.8642 - val_loss: 0.5509 - val_accuracy: 0.8333\n",
            "Epoch 88/100\n",
            "6/6 [==============================] - 0s 7ms/step - loss: 0.2591 - accuracy: 0.8765 - val_loss: 0.5466 - val_accuracy: 0.8333\n",
            "Epoch 89/100\n",
            "6/6 [==============================] - 0s 7ms/step - loss: 0.2815 - accuracy: 0.8827 - val_loss: 0.5458 - val_accuracy: 0.8333\n",
            "Epoch 90/100\n",
            "6/6 [==============================] - 0s 7ms/step - loss: 0.2596 - accuracy: 0.8951 - val_loss: 0.5401 - val_accuracy: 0.8333\n",
            "Epoch 91/100\n",
            "6/6 [==============================] - 0s 8ms/step - loss: 0.2669 - accuracy: 0.8704 - val_loss: 0.5396 - val_accuracy: 0.8333\n",
            "Epoch 92/100\n",
            "6/6 [==============================] - 0s 7ms/step - loss: 0.2608 - accuracy: 0.9074 - val_loss: 0.5361 - val_accuracy: 0.8333\n",
            "Epoch 93/100\n",
            "6/6 [==============================] - 0s 7ms/step - loss: 0.2599 - accuracy: 0.8889 - val_loss: 0.5312 - val_accuracy: 0.8333\n",
            "Epoch 94/100\n",
            "6/6 [==============================] - 0s 7ms/step - loss: 0.2419 - accuracy: 0.8951 - val_loss: 0.5239 - val_accuracy: 0.8333\n",
            "Epoch 95/100\n",
            "6/6 [==============================] - 0s 8ms/step - loss: 0.2578 - accuracy: 0.8704 - val_loss: 0.5200 - val_accuracy: 0.8333\n",
            "Epoch 96/100\n",
            "6/6 [==============================] - 0s 9ms/step - loss: 0.2809 - accuracy: 0.8642 - val_loss: 0.5261 - val_accuracy: 0.8333\n",
            "Epoch 97/100\n",
            "6/6 [==============================] - 0s 8ms/step - loss: 0.2475 - accuracy: 0.8951 - val_loss: 0.5309 - val_accuracy: 0.8333\n",
            "Epoch 98/100\n",
            "6/6 [==============================] - 0s 7ms/step - loss: 0.2583 - accuracy: 0.9012 - val_loss: 0.5282 - val_accuracy: 0.8333\n",
            "Epoch 99/100\n",
            "6/6 [==============================] - 0s 12ms/step - loss: 0.2591 - accuracy: 0.8951 - val_loss: 0.5257 - val_accuracy: 0.8333\n",
            "Epoch 100/100\n",
            "6/6 [==============================] - 0s 11ms/step - loss: 0.2358 - accuracy: 0.9136 - val_loss: 0.5271 - val_accuracy: 0.8333\n",
            "2/2 [==============================] - 0s 7ms/step\n",
            "                         precision    recall  f1-score   support\n",
            "\n",
            " absence of disease (0)       0.79      0.82      0.81        28\n",
            "presence of disease (1)       0.80      0.77      0.78        26\n",
            "\n",
            "               accuracy                           0.80        54\n",
            "              macro avg       0.80      0.80      0.80        54\n",
            "           weighted avg       0.80      0.80      0.80        54\n",
            "\n"
          ]
        },
        {
          "output_type": "display_data",
          "data": {
            "text/plain": [
              "<Figure size 432x288 with 1 Axes>"
            ],
            "image/png": "[encoded data removed]"
          },
          "metadata": {
            "needs_background": "light"
          }
        },
        {
          "output_type": "display_data",
          "data": {
            "text/plain": [
              "<Figure size 432x288 with 1 Axes>"
            ],
            "image/png": "[encoded data removed]"
          },
          "metadata": {
            "needs_background": "light"
          }
        }
      ]
    },
    {
      "cell_type": "markdown",
      "source": [
        "Dokładność: Podobna jak w modelu 0.\n",
        "\n",
        "Precyzja: Podobna jak w modelu 0.\n",
        "\n",
        "Zbieżność: Dokładność modelu bardzo szybko zbiega do około 80% i po około 30 epoce utrzymuje się na tym samym poziomie. Błąd maleje, ale tak jak w przypadku modelu 0 zdaża się, że błąd zbioru walidacyjnego zaczyna rosnąć co oznacza przeuczenie. Sieć ma prawdopodobnie nadal za dużo neuronów.\n",
        "\n",
        "Złożoność: Znacznie mniejsza złożoność niż w modelu 0.\n",
        "\n",
        "Warstwa ukryta zawiera teraz 30 neuronów z funkcją relu co wymaga wykonania znacznie mniej obliczeń niż we wcześniejszych modelach.\n",
        "\n"
      ],
      "metadata": {
        "id": "i56I8nVCesz6"
      }
    },
    {
      "cell_type": "code",
      "source": [
        "# Krzywa ROC\n",
        "y_proba2 = prediction2[:,1]\n",
        "fpr2, tpr2, _ = roc_curve(y_label2,y_proba2)\n",
        "plt.plot(fpr2,tpr2)\n",
        "plt.xlabel('False Positive Rate')\n",
        "plt.ylabel('True Positive Rate')\n",
        "\n",
        "# Pole powierzchni pod wykresem\n",
        "auc2 = roc_auc_score(y_label2,y_proba2)\n",
        "print('AUC: ', auc2)"
      ],
      "metadata": {
        "colab": {
          "base_uri": "https://localhost:8080/",
          "height": 297
        },
        "id": "Ewt80ucLedry",
        "outputId": "8888856e-2235-4110-ae2f-158ace9090cb"
      },
      "execution_count": null,
      "outputs": [
        {
          "output_type": "stream",
          "name": "stdout",
          "text": [
            "AUC:  0.8832417582417582\n"
          ]
        },
        {
          "output_type": "display_data",
          "data": {
            "text/plain": [
              "<Figure size 432x288 with 1 Axes>"
            ],
            "image/png": "[encoded data removed]"
          },
          "metadata": {
            "needs_background": "light"
          }
        }
      ]
    },
    {
      "cell_type": "markdown",
      "source": [
        "\n",
        "Wykres jest blisko lewego górnego narożnika, czyli otrzymujemy stosunkowo więcej wyników pozytywnie prawdziwych niż fałszywie prawdziwych. Z tego wynika, że model jest dobrym klasyfikatorem pod warunkiem, że nie przetrenuje się. \n"
      ],
      "metadata": {
        "id": "eeD0K_ShHOVt"
      }
    },
    {
      "cell_type": "markdown",
      "source": [
        "### Model 3\n",
        "\n",
        "Zmiana funkcji aktywacji w warstwie wyjściowej na tanh, który jest odpowiedni do problemów klasyfikacji."
      ],
      "metadata": {
        "id": "Ty1kQukfHbcg"
      }
    },
    {
      "cell_type": "code",
      "source": [
        "# Inicjalizacja modelu\n",
        "model3 = Sequential()\n",
        "\n",
        "# Adding layers\n",
        "model3.add(Dense(61,input_dim=30, activation='relu')) # definiuje mi jednocześnie rozmiar pierwszej warstwy wejściowej i pierwszej ukrytej\n",
        "# Ochrona przed przetrenowaniem\n",
        "model3.add(Dropout(0.2))\n",
        "model3.add(Dense(2,activation='tanh')) \n",
        "\n",
        "\n",
        "# Kompilacja sieci neuronowej\n",
        "model3.compile(loss='binary_crossentropy', optimizer='adam',metrics=['accuracy'])\n",
        "\n",
        "# Trenowanie sieci neuronowej\n",
        "history3 = model3.fit(X_train,y_train,validation_data=(X_valid,y_valid), batch_size=32,epochs=100,verbose=1)\n",
        "\n",
        "# Testowanie sieci\n",
        "prediction3=model3.predict(X_test)\n",
        "y_label3=np.argmax(y_test,axis=1)\n",
        "predict_label3=np.argmax(prediction3,axis=1)\n",
        "\n",
        "# Dokładność i precyzja\n",
        "target_names=[\"absence of disease (0)\", \"presence of disease (1)\"]\n",
        "print(classification_report(y_label3,predict_label3, target_names=target_names))\n",
        "\n",
        "# Podsumowanie historii dokładności\n",
        "plt.plot(history3.history['accuracy'])\n",
        "plt.plot(history3.history['val_accuracy'])\n",
        "plt.title('model accuracy')\n",
        "plt.ylabel('accuracy')\n",
        "plt.xlabel('epoch')\n",
        "plt.legend(['train', 'valid'], loc='upper left')\n",
        "plt.show()\n",
        "# Podsumowanie historii błędu\n",
        "plt.plot(history3.history['loss'])\n",
        "plt.plot(history3.history['val_loss'])\n",
        "plt.title('model loss')\n",
        "plt.ylabel('loss')\n",
        "plt.xlabel('epoch')\n",
        "plt.legend(['train', 'valid'], loc='upper left')\n",
        "plt.show()\n",
        "\n"
      ],
      "metadata": {
        "colab": {
          "base_uri": "https://localhost:8080/",
          "height": 1000
        },
        "id": "Xx-Cx8R7KPXS",
        "outputId": "dc9d8f37-e3b2-4b9a-8876-22598e894807"
      },
      "execution_count": null,
      "outputs": [
        {
          "output_type": "stream",
          "name": "stdout",
          "text": [
            "Epoch 1/100\n",
            "6/6 [==============================] - 1s 43ms/step - loss: 2.9332 - accuracy: 0.4938 - val_loss: 1.4360 - val_accuracy: 0.5185\n",
            "Epoch 2/100\n",
            "6/6 [==============================] - 0s 7ms/step - loss: 1.6308 - accuracy: 0.5494 - val_loss: 0.8077 - val_accuracy: 0.6111\n",
            "Epoch 3/100\n",
            "6/6 [==============================] - 0s 7ms/step - loss: 1.1930 - accuracy: 0.5802 - val_loss: 0.6295 - val_accuracy: 0.6296\n",
            "Epoch 4/100\n",
            "6/6 [==============================] - 0s 7ms/step - loss: 0.8522 - accuracy: 0.6358 - val_loss: 0.6123 - val_accuracy: 0.7593\n",
            "Epoch 5/100\n",
            "6/6 [==============================] - 0s 6ms/step - loss: 0.7535 - accuracy: 0.6358 - val_loss: 0.6028 - val_accuracy: 0.7778\n",
            "Epoch 6/100\n",
            "6/6 [==============================] - 0s 7ms/step - loss: 0.8195 - accuracy: 0.6605 - val_loss: 0.5948 - val_accuracy: 0.7593\n",
            "Epoch 7/100\n",
            "6/6 [==============================] - 0s 7ms/step - loss: 0.6580 - accuracy: 0.6790 - val_loss: 0.5895 - val_accuracy: 0.7593\n",
            "Epoch 8/100\n",
            "6/6 [==============================] - 0s 7ms/step - loss: 0.5819 - accuracy: 0.7407 - val_loss: 0.5822 - val_accuracy: 0.7963\n",
            "Epoch 9/100\n",
            "6/6 [==============================] - 0s 7ms/step - loss: 0.5757 - accuracy: 0.7531 - val_loss: 0.5722 - val_accuracy: 0.7963\n",
            "Epoch 10/100\n",
            "6/6 [==============================] - 0s 7ms/step - loss: 0.5430 - accuracy: 0.7840 - val_loss: 0.5642 - val_accuracy: 0.7963\n",
            "Epoch 11/100\n",
            "6/6 [==============================] - 0s 10ms/step - loss: 0.5336 - accuracy: 0.7963 - val_loss: 0.5544 - val_accuracy: 0.7963\n",
            "Epoch 12/100\n",
            "6/6 [==============================] - 0s 11ms/step - loss: 0.5525 - accuracy: 0.8148 - val_loss: 0.5441 - val_accuracy: 0.7963\n",
            "Epoch 13/100\n",
            "6/6 [==============================] - 0s 7ms/step - loss: 0.6025 - accuracy: 0.8086 - val_loss: 0.5348 - val_accuracy: 0.7963\n",
            "Epoch 14/100\n",
            "6/6 [==============================] - 0s 7ms/step - loss: 0.5712 - accuracy: 0.7778 - val_loss: 0.5265 - val_accuracy: 0.8148\n",
            "Epoch 15/100\n",
            "6/6 [==============================] - 0s 7ms/step - loss: 0.4541 - accuracy: 0.8333 - val_loss: 0.5197 - val_accuracy: 0.8148\n",
            "Epoch 16/100\n",
            "6/6 [==============================] - 0s 7ms/step - loss: 0.4536 - accuracy: 0.8395 - val_loss: 0.5133 - val_accuracy: 0.8333\n",
            "Epoch 17/100\n",
            "6/6 [==============================] - 0s 7ms/step - loss: 0.5249 - accuracy: 0.8457 - val_loss: 0.5141 - val_accuracy: 0.8333\n",
            "Epoch 18/100\n",
            "6/6 [==============================] - 0s 7ms/step - loss: 0.4473 - accuracy: 0.8086 - val_loss: 0.5223 - val_accuracy: 0.8333\n",
            "Epoch 19/100\n",
            "6/6 [==============================] - 0s 7ms/step - loss: 0.4998 - accuracy: 0.8642 - val_loss: 0.5438 - val_accuracy: 0.8333\n",
            "Epoch 20/100\n",
            "6/6 [==============================] - 0s 7ms/step - loss: 0.4965 - accuracy: 0.8457 - val_loss: 0.7793 - val_accuracy: 0.8333\n",
            "Epoch 21/100\n",
            "6/6 [==============================] - 0s 7ms/step - loss: 0.4802 - accuracy: 0.8457 - val_loss: 0.8908 - val_accuracy: 0.8333\n",
            "Epoch 22/100\n",
            "6/6 [==============================] - 0s 9ms/step - loss: 0.5166 - accuracy: 0.8272 - val_loss: 0.8898 - val_accuracy: 0.8333\n",
            "Epoch 23/100\n",
            "6/6 [==============================] - 0s 7ms/step - loss: 0.4236 - accuracy: 0.8704 - val_loss: 0.8748 - val_accuracy: 0.8333\n",
            "Epoch 24/100\n",
            "6/6 [==============================] - 0s 8ms/step - loss: 0.4074 - accuracy: 0.8272 - val_loss: 0.8687 - val_accuracy: 0.8333\n",
            "Epoch 25/100\n",
            "6/6 [==============================] - 0s 7ms/step - loss: 0.3546 - accuracy: 0.8457 - val_loss: 0.8624 - val_accuracy: 0.8333\n",
            "Epoch 26/100\n",
            "6/6 [==============================] - 0s 10ms/step - loss: 0.3690 - accuracy: 0.8704 - val_loss: 0.8506 - val_accuracy: 0.8333\n",
            "Epoch 27/100\n",
            "6/6 [==============================] - 0s 7ms/step - loss: 0.3854 - accuracy: 0.8642 - val_loss: 0.8389 - val_accuracy: 0.8333\n",
            "Epoch 28/100\n",
            "6/6 [==============================] - 0s 7ms/step - loss: 0.3804 - accuracy: 0.8827 - val_loss: 0.8303 - val_accuracy: 0.8333\n",
            "Epoch 29/100\n",
            "6/6 [==============================] - 0s 7ms/step - loss: 0.4069 - accuracy: 0.8889 - val_loss: 0.8238 - val_accuracy: 0.8333\n",
            "Epoch 30/100\n",
            "6/6 [==============================] - 0s 7ms/step - loss: 0.3409 - accuracy: 0.8827 - val_loss: 0.8250 - val_accuracy: 0.8333\n",
            "Epoch 31/100\n",
            "6/6 [==============================] - 0s 8ms/step - loss: 0.4647 - accuracy: 0.8889 - val_loss: 0.8274 - val_accuracy: 0.8333\n",
            "Epoch 32/100\n",
            "6/6 [==============================] - 0s 7ms/step - loss: 0.4275 - accuracy: 0.8704 - val_loss: 0.8293 - val_accuracy: 0.8333\n",
            "Epoch 33/100\n",
            "6/6 [==============================] - 0s 8ms/step - loss: 0.3895 - accuracy: 0.9012 - val_loss: 0.8264 - val_accuracy: 0.8333\n",
            "Epoch 34/100\n",
            "6/6 [==============================] - 0s 7ms/step - loss: 0.3598 - accuracy: 0.8827 - val_loss: 0.8368 - val_accuracy: 0.8333\n",
            "Epoch 35/100\n",
            "6/6 [==============================] - 0s 7ms/step - loss: 0.3101 - accuracy: 0.8951 - val_loss: 0.9315 - val_accuracy: 0.8333\n",
            "Epoch 36/100\n",
            "6/6 [==============================] - 0s 7ms/step - loss: 0.4043 - accuracy: 0.8889 - val_loss: 0.9295 - val_accuracy: 0.8333\n",
            "Epoch 37/100\n",
            "6/6 [==============================] - 0s 7ms/step - loss: 0.4427 - accuracy: 0.8457 - val_loss: 0.8328 - val_accuracy: 0.8333\n",
            "Epoch 38/100\n",
            "6/6 [==============================] - 0s 7ms/step - loss: 0.4103 - accuracy: 0.8827 - val_loss: 0.8118 - val_accuracy: 0.8333\n",
            "Epoch 39/100\n",
            "6/6 [==============================] - 0s 6ms/step - loss: 0.3573 - accuracy: 0.8827 - val_loss: 0.8140 - val_accuracy: 0.8333\n",
            "Epoch 40/100\n",
            "6/6 [==============================] - 0s 6ms/step - loss: 0.3700 - accuracy: 0.8951 - val_loss: 0.9255 - val_accuracy: 0.8333\n",
            "Epoch 41/100\n",
            "6/6 [==============================] - 0s 7ms/step - loss: 0.3674 - accuracy: 0.8889 - val_loss: 0.9299 - val_accuracy: 0.8333\n",
            "Epoch 42/100\n",
            "6/6 [==============================] - 0s 7ms/step - loss: 0.3459 - accuracy: 0.8951 - val_loss: 0.9451 - val_accuracy: 0.8333\n",
            "Epoch 43/100\n",
            "6/6 [==============================] - 0s 9ms/step - loss: 0.3816 - accuracy: 0.8827 - val_loss: 1.0474 - val_accuracy: 0.8333\n",
            "Epoch 44/100\n",
            "6/6 [==============================] - 0s 7ms/step - loss: 0.4093 - accuracy: 0.8951 - val_loss: 1.0443 - val_accuracy: 0.8333\n",
            "Epoch 45/100\n",
            "6/6 [==============================] - 0s 7ms/step - loss: 0.4110 - accuracy: 0.8457 - val_loss: 1.0408 - val_accuracy: 0.8333\n",
            "Epoch 46/100\n",
            "6/6 [==============================] - 0s 7ms/step - loss: 0.3494 - accuracy: 0.8704 - val_loss: 0.9308 - val_accuracy: 0.8333\n",
            "Epoch 47/100\n",
            "6/6 [==============================] - 0s 7ms/step - loss: 0.4344 - accuracy: 0.9012 - val_loss: 0.9197 - val_accuracy: 0.8333\n",
            "Epoch 48/100\n",
            "6/6 [==============================] - 0s 7ms/step - loss: 0.3573 - accuracy: 0.8889 - val_loss: 0.9160 - val_accuracy: 0.8333\n",
            "Epoch 49/100\n",
            "6/6 [==============================] - 0s 7ms/step - loss: 0.3214 - accuracy: 0.9012 - val_loss: 0.9185 - val_accuracy: 0.8333\n",
            "Epoch 50/100\n",
            "6/6 [==============================] - 0s 10ms/step - loss: 0.2455 - accuracy: 0.9321 - val_loss: 0.9075 - val_accuracy: 0.8333\n",
            "Epoch 51/100\n",
            "6/6 [==============================] - 0s 7ms/step - loss: 0.2869 - accuracy: 0.8827 - val_loss: 0.9032 - val_accuracy: 0.8333\n",
            "Epoch 52/100\n",
            "6/6 [==============================] - 0s 7ms/step - loss: 0.3744 - accuracy: 0.8889 - val_loss: 0.9002 - val_accuracy: 0.8148\n",
            "Epoch 53/100\n",
            "6/6 [==============================] - 0s 8ms/step - loss: 0.2681 - accuracy: 0.9074 - val_loss: 0.9004 - val_accuracy: 0.8148\n",
            "Epoch 54/100\n",
            "6/6 [==============================] - 0s 7ms/step - loss: 0.3592 - accuracy: 0.8951 - val_loss: 0.9000 - val_accuracy: 0.8333\n",
            "Epoch 55/100\n",
            "6/6 [==============================] - 0s 8ms/step - loss: 0.3309 - accuracy: 0.9012 - val_loss: 0.9125 - val_accuracy: 0.8333\n",
            "Epoch 56/100\n",
            "6/6 [==============================] - 0s 7ms/step - loss: 0.3020 - accuracy: 0.8951 - val_loss: 0.9270 - val_accuracy: 0.8333\n",
            "Epoch 57/100\n",
            "6/6 [==============================] - 0s 7ms/step - loss: 0.2871 - accuracy: 0.8827 - val_loss: 0.9389 - val_accuracy: 0.8333\n",
            "Epoch 58/100\n",
            "6/6 [==============================] - 0s 7ms/step - loss: 0.3414 - accuracy: 0.8827 - val_loss: 1.0488 - val_accuracy: 0.8333\n",
            "Epoch 59/100\n",
            "6/6 [==============================] - 0s 7ms/step - loss: 0.3133 - accuracy: 0.9259 - val_loss: 1.0506 - val_accuracy: 0.8333\n",
            "Epoch 60/100\n",
            "6/6 [==============================] - 0s 7ms/step - loss: 0.2713 - accuracy: 0.9136 - val_loss: 1.0490 - val_accuracy: 0.8333\n",
            "Epoch 61/100\n",
            "6/6 [==============================] - 0s 7ms/step - loss: 0.3551 - accuracy: 0.8889 - val_loss: 1.0422 - val_accuracy: 0.8333\n",
            "Epoch 62/100\n",
            "6/6 [==============================] - 0s 8ms/step - loss: 0.3703 - accuracy: 0.8827 - val_loss: 1.0371 - val_accuracy: 0.8333\n",
            "Epoch 63/100\n",
            "6/6 [==============================] - 0s 7ms/step - loss: 0.3094 - accuracy: 0.9012 - val_loss: 1.0328 - val_accuracy: 0.8333\n",
            "Epoch 64/100\n",
            "6/6 [==============================] - 0s 7ms/step - loss: 0.2652 - accuracy: 0.8951 - val_loss: 1.0295 - val_accuracy: 0.8333\n",
            "Epoch 65/100\n",
            "6/6 [==============================] - 0s 9ms/step - loss: 0.2670 - accuracy: 0.8765 - val_loss: 1.0266 - val_accuracy: 0.8333\n",
            "Epoch 66/100\n",
            "6/6 [==============================] - 0s 7ms/step - loss: 0.2729 - accuracy: 0.8827 - val_loss: 0.9254 - val_accuracy: 0.8333\n",
            "Epoch 67/100\n",
            "6/6 [==============================] - 0s 7ms/step - loss: 0.3108 - accuracy: 0.9012 - val_loss: 0.9267 - val_accuracy: 0.8333\n",
            "Epoch 68/100\n",
            "6/6 [==============================] - 0s 7ms/step - loss: 0.2695 - accuracy: 0.8951 - val_loss: 0.9379 - val_accuracy: 0.8333\n",
            "Epoch 69/100\n",
            "6/6 [==============================] - 0s 7ms/step - loss: 0.2553 - accuracy: 0.9136 - val_loss: 1.0286 - val_accuracy: 0.8333\n",
            "Epoch 70/100\n",
            "6/6 [==============================] - 0s 8ms/step - loss: 0.2555 - accuracy: 0.9012 - val_loss: 1.0270 - val_accuracy: 0.8333\n",
            "Epoch 71/100\n",
            "6/6 [==============================] - 0s 8ms/step - loss: 0.3519 - accuracy: 0.8827 - val_loss: 1.0253 - val_accuracy: 0.8519\n",
            "Epoch 72/100\n",
            "6/6 [==============================] - 0s 7ms/step - loss: 0.2532 - accuracy: 0.9074 - val_loss: 1.0246 - val_accuracy: 0.8333\n",
            "Epoch 73/100\n",
            "6/6 [==============================] - 0s 7ms/step - loss: 0.2838 - accuracy: 0.8951 - val_loss: 1.0237 - val_accuracy: 0.8333\n",
            "Epoch 74/100\n",
            "6/6 [==============================] - 0s 11ms/step - loss: 0.2294 - accuracy: 0.9198 - val_loss: 1.0229 - val_accuracy: 0.8333\n",
            "Epoch 75/100\n",
            "6/6 [==============================] - 0s 10ms/step - loss: 0.2596 - accuracy: 0.8951 - val_loss: 1.0222 - val_accuracy: 0.8333\n",
            "Epoch 76/100\n",
            "6/6 [==============================] - 0s 8ms/step - loss: 0.3232 - accuracy: 0.9198 - val_loss: 1.0209 - val_accuracy: 0.8333\n",
            "Epoch 77/100\n",
            "6/6 [==============================] - 0s 7ms/step - loss: 0.3890 - accuracy: 0.8951 - val_loss: 1.0174 - val_accuracy: 0.8519\n",
            "Epoch 78/100\n",
            "6/6 [==============================] - 0s 8ms/step - loss: 0.2851 - accuracy: 0.9136 - val_loss: 1.0160 - val_accuracy: 0.8704\n",
            "Epoch 79/100\n",
            "6/6 [==============================] - 0s 7ms/step - loss: 0.3418 - accuracy: 0.8765 - val_loss: 1.0147 - val_accuracy: 0.8704\n",
            "Epoch 80/100\n",
            "6/6 [==============================] - 0s 7ms/step - loss: 0.3385 - accuracy: 0.9136 - val_loss: 1.0147 - val_accuracy: 0.8519\n",
            "Epoch 81/100\n",
            "6/6 [==============================] - 0s 7ms/step - loss: 0.2408 - accuracy: 0.8951 - val_loss: 1.0139 - val_accuracy: 0.8704\n",
            "Epoch 82/100\n",
            "6/6 [==============================] - 0s 7ms/step - loss: 0.3299 - accuracy: 0.8951 - val_loss: 1.0130 - val_accuracy: 0.8704\n",
            "Epoch 83/100\n",
            "6/6 [==============================] - 0s 7ms/step - loss: 0.2370 - accuracy: 0.9259 - val_loss: 1.0134 - val_accuracy: 0.8704\n",
            "Epoch 84/100\n",
            "6/6 [==============================] - 0s 7ms/step - loss: 0.2688 - accuracy: 0.9136 - val_loss: 1.0137 - val_accuracy: 0.8704\n",
            "Epoch 85/100\n",
            "6/6 [==============================] - 0s 8ms/step - loss: 0.2876 - accuracy: 0.9074 - val_loss: 1.0142 - val_accuracy: 0.8704\n",
            "Epoch 86/100\n",
            "6/6 [==============================] - 0s 7ms/step - loss: 0.2200 - accuracy: 0.9136 - val_loss: 1.0139 - val_accuracy: 0.8704\n",
            "Epoch 87/100\n",
            "6/6 [==============================] - 0s 7ms/step - loss: 0.2881 - accuracy: 0.8951 - val_loss: 1.0131 - val_accuracy: 0.8704\n",
            "Epoch 88/100\n",
            "6/6 [==============================] - 0s 7ms/step - loss: 0.3534 - accuracy: 0.9136 - val_loss: 0.9193 - val_accuracy: 0.8333\n",
            "Epoch 89/100\n",
            "6/6 [==============================] - 0s 8ms/step - loss: 0.2977 - accuracy: 0.8889 - val_loss: 0.6029 - val_accuracy: 0.8148\n",
            "Epoch 90/100\n",
            "6/6 [==============================] - 0s 7ms/step - loss: 0.3438 - accuracy: 0.8951 - val_loss: 0.6221 - val_accuracy: 0.8148\n",
            "Epoch 91/100\n",
            "6/6 [==============================] - 0s 7ms/step - loss: 0.3428 - accuracy: 0.8951 - val_loss: 0.6369 - val_accuracy: 0.8333\n",
            "Epoch 92/100\n",
            "6/6 [==============================] - 0s 8ms/step - loss: 0.3486 - accuracy: 0.8704 - val_loss: 0.6439 - val_accuracy: 0.8333\n",
            "Epoch 93/100\n",
            "6/6 [==============================] - 0s 7ms/step - loss: 0.3406 - accuracy: 0.9012 - val_loss: 0.6452 - val_accuracy: 0.8333\n",
            "Epoch 94/100\n",
            "6/6 [==============================] - 0s 8ms/step - loss: 0.3371 - accuracy: 0.8951 - val_loss: 0.6481 - val_accuracy: 0.8333\n",
            "Epoch 95/100\n",
            "6/6 [==============================] - 0s 7ms/step - loss: 0.3216 - accuracy: 0.8951 - val_loss: 0.7516 - val_accuracy: 0.8333\n",
            "Epoch 96/100\n",
            "6/6 [==============================] - 0s 7ms/step - loss: 0.3261 - accuracy: 0.9074 - val_loss: 0.7508 - val_accuracy: 0.8148\n",
            "Epoch 97/100\n",
            "6/6 [==============================] - 0s 7ms/step - loss: 0.3139 - accuracy: 0.9012 - val_loss: 0.7573 - val_accuracy: 0.8148\n",
            "Epoch 98/100\n",
            "6/6 [==============================] - 0s 7ms/step - loss: 0.2955 - accuracy: 0.8889 - val_loss: 0.8665 - val_accuracy: 0.8148\n",
            "Epoch 99/100\n",
            "6/6 [==============================] - 0s 7ms/step - loss: 0.2681 - accuracy: 0.9136 - val_loss: 0.9745 - val_accuracy: 0.8148\n",
            "Epoch 100/100\n",
            "6/6 [==============================] - 0s 7ms/step - loss: 0.2735 - accuracy: 0.8951 - val_loss: 0.9768 - val_accuracy: 0.8148\n",
            "2/2 [==============================] - 0s 8ms/step\n",
            "                         precision    recall  f1-score   support\n",
            "\n",
            " absence of disease (0)       0.84      0.75      0.79        28\n",
            "presence of disease (1)       0.76      0.85      0.80        26\n",
            "\n",
            "               accuracy                           0.80        54\n",
            "              macro avg       0.80      0.80      0.80        54\n",
            "           weighted avg       0.80      0.80      0.80        54\n",
            "\n"
          ]
        },
        {
          "output_type": "display_data",
          "data": {
            "text/plain": [
              "<Figure size 432x288 with 1 Axes>"
            ],
            "image/png": "[encoded data removed]"
          },
          "metadata": {
            "needs_background": "light"
          }
        },
        {
          "output_type": "display_data",
          "data": {
            "text/plain": [
              "<Figure size 432x288 with 1 Axes>"
            ],
            "image/png": "[encoded data removed]"
          },
          "metadata": {
            "needs_background": "light"
          }
        }
      ]
    },
    {
      "cell_type": "markdown",
      "source": [
        "Dokładność: Jest porównywalna jak w modelu 0.\n",
        "\n",
        "Precyzja: Zbliżona jak model 0.\n",
        "\n",
        "Zbieżność: Dokładność oscyluje w okolicach 80% po około 40 epokach. Błąd bardzo szybko spada, aby następnie wzrosnąć co również może być wynikiem przetrenowania.  \n",
        "\n",
        "Złożoność: Budowa podobna jak model 0. \n",
        "\n",
        "Jedyna zmiana w stosunku do modelu 0 to funkcja aktywacji w warstwie wyjściowej ustawiona na tanh, która nie jest skomplikowana do obliczenia."
      ],
      "metadata": {
        "id": "dqW-2p2Sc91C"
      }
    },
    {
      "cell_type": "code",
      "source": [
        "# Krzywa ROC\n",
        "y_proba3 = prediction3[:,1]\n",
        "fpr3, tpr3, _ = roc_curve(y_label3,y_proba3)\n",
        "plt.plot(fpr3,tpr3)\n",
        "plt.xlabel('False Positive Rate')\n",
        "plt.ylabel('True Positive Rate')\n",
        "\n",
        "# Pole powierzchni pod krzywą\n",
        "auc3 = roc_auc_score(y_label3,y_proba3)\n",
        "print('AUC: ', auc3)\n"
      ],
      "metadata": {
        "colab": {
          "base_uri": "https://localhost:8080/",
          "height": 297
        },
        "id": "5FpoKkAzcjTM",
        "outputId": "dfc4d63f-e911-485e-a748-e3dc9590b006"
      },
      "execution_count": null,
      "outputs": [
        {
          "output_type": "stream",
          "name": "stdout",
          "text": [
            "AUC:  0.8956043956043955\n"
          ]
        },
        {
          "output_type": "display_data",
          "data": {
            "text/plain": [
              "<Figure size 432x288 with 1 Axes>"
            ],
            "image/png": "[encoded data removed]"
          },
          "metadata": {
            "needs_background": "light"
          }
        }
      ]
    },
    {
      "cell_type": "markdown",
      "source": [
        "\n",
        "Wykres jest blisko lewego górnego narożnika, czyli otrzymujemy stosunkowo więcej wyników pozytywnie prawdziwych niż fałszywie prawdziwych. Z tego wynika, że model jest dobrym klasyfikatorem pod warunkiem, że nie przetrenuje się. \n"
      ],
      "metadata": {
        "id": "B8LNwstrKyM_"
      }
    },
    {
      "cell_type": "markdown",
      "source": [
        "## Podsumowanie\n",
        "\n",
        "\n",
        "Wyniki dla wszystkich modeli są bardzo zmienne, jednak widać pewną powtarzalność w wynikach dla poszczególnych modeli. Model 0, 1, 2 i 3 osiągają dość często wysoką dokładność wyników oraz precyzje dla poszczególnych klas. Jednocześnie przy zadanej liczbie epok osiągają zbieżność szybciej lub wolniej. Z modeli powyżej można stwierdzić, że najlepszy jest model 1 ponieważ jako jedyny nie miał problemu z przetrenowaniem.\n"
      ],
      "metadata": {
        "id": "lv8RNjIX99-G"
      }
    }
  ]
}